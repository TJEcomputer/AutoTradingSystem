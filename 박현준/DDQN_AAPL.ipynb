{
 "cells": [
  {
   "cell_type": "markdown",
   "metadata": {},
   "source": [
    "### Imports"
   ]
  },
  {
   "cell_type": "code",
   "execution_count": 1,
   "metadata": {
    "ExecuteTime": {
     "end_time": "2020-06-22T18:55:14.873384Z",
     "start_time": "2020-06-22T18:55:13.064489Z"
    }
   },
   "outputs": [],
   "source": [
    "%matplotlib inline\n",
    "from pathlib import Path\n",
    "from time import time\n",
    "from collections import deque\n",
    "from random import sample\n",
    "\n",
    "import numpy as np\n",
    "import pandas as pd\n",
    "\n",
    "import matplotlib.pyplot as plt\n",
    "from matplotlib.ticker import FuncFormatter\n",
    "import seaborn as sns\n",
    "\n",
    "import tensorflow as tf\n",
    "from tensorflow.keras import Sequential\n",
    "from tensorflow.keras.layers import Dense, Dropout\n",
    "from tensorflow.keras.optimizers import Adam\n",
    "from tensorflow.keras.regularizers import l2\n",
    "\n",
    "# from keras.callbacks import EarlyStopping, ModelCheckpoint\n",
    "# from keras.layers import LSTM\n",
    "\n",
    "import gym\n",
    "from gym.envs.registration import register\n",
    "\n",
    "import pandas_datareader"
   ]
  },
  {
   "cell_type": "markdown",
   "metadata": {},
   "source": [
    "### Settings"
   ]
  },
  {
   "cell_type": "code",
   "execution_count": 2,
   "metadata": {
    "ExecuteTime": {
     "end_time": "2020-06-22T18:55:14.877440Z",
     "start_time": "2020-06-22T18:55:14.874546Z"
    }
   },
   "outputs": [],
   "source": [
    "np.random.seed(42)\n",
    "tf.random.set_seed(42)"
   ]
  },
  {
   "cell_type": "code",
   "execution_count": 3,
   "metadata": {},
   "outputs": [],
   "source": [
    "sns.set_style('whitegrid')"
   ]
  },
  {
   "cell_type": "code",
   "execution_count": 4,
   "metadata": {
    "ExecuteTime": {
     "end_time": "2020-06-22T18:55:14.907979Z",
     "start_time": "2020-06-22T18:55:14.878992Z"
    }
   },
   "outputs": [
    {
     "name": "stdout",
     "output_type": "stream",
     "text": [
      "Using CPU\n"
     ]
    }
   ],
   "source": [
    "gpu_devices = tf.config.experimental.list_physical_devices('GPU')\n",
    "if gpu_devices:\n",
    "    print('Using GPU')\n",
    "    tf.config.experimental.set_memory_growth(gpu_devices[0], True)\n",
    "else:\n",
    "    print('Using CPU')"
   ]
  },
  {
   "cell_type": "code",
   "execution_count": 5,
   "metadata": {
    "ExecuteTime": {
     "end_time": "2020-06-22T18:55:14.916091Z",
     "start_time": "2020-06-22T18:55:14.909430Z"
    }
   },
   "outputs": [],
   "source": [
    "results_path = Path('results', 'trading_bot')\n",
    "if not results_path.exists():\n",
    "    results_path.mkdir(parents=True)"
   ]
  },
  {
   "cell_type": "markdown",
   "metadata": {},
   "source": [
    "### Helper functions"
   ]
  },
  {
   "cell_type": "code",
   "execution_count": 6,
   "metadata": {
    "ExecuteTime": {
     "end_time": "2020-06-22T18:55:14.924657Z",
     "start_time": "2020-06-22T18:55:14.917435Z"
    }
   },
   "outputs": [],
   "source": [
    "def format_time(t):\n",
    "    m_, s = divmod(t, 60)\n",
    "    h, m = divmod(m_, 60)\n",
    "    return '{:02.0f}:{:02.0f}:{:02.0f}'.format(h, m, s)"
   ]
  },
  {
   "cell_type": "markdown",
   "metadata": {},
   "source": [
    "## Set up Gym Environment"
   ]
  },
  {
   "cell_type": "markdown",
   "metadata": {},
   "source": [
    "Before using the custom environment, just like we used the Lunar Lander environment, we need to register it:"
   ]
  },
  {
   "cell_type": "code",
   "execution_count": 7,
   "metadata": {
    "ExecuteTime": {
     "end_time": "2020-06-22T18:55:14.940606Z",
     "start_time": "2020-06-22T18:55:14.925851Z"
    }
   },
   "outputs": [],
   "source": [
    "trading_days = 252"
   ]
  },
  {
   "cell_type": "code",
   "execution_count": 8,
   "metadata": {},
   "outputs": [],
   "source": [
    "import gym_trader"
   ]
  },
  {
   "cell_type": "code",
   "execution_count": 9,
   "metadata": {},
   "outputs": [
    {
     "name": "stderr",
     "output_type": "stream",
     "text": [
      "INFO:gym_trader.envs.trader_env:gym_trader.envs.trader_env logger started.\n",
      "INFO:gym_trader.envs.trader_env:loading data for AAPL...\n",
      "INFO:gym_trader.envs.trader_env:got data for AAPL...\n",
      "INFO:gym_trader.envs.trader_env:None\n"
     ]
    },
    {
     "name": "stdout",
     "output_type": "stream",
     "text": [
      "<class 'pandas.core.frame.DataFrame'>\n",
      "DatetimeIndex: 571 entries, 2015-12-16 to 2018-03-27\n",
      "Data columns (total 10 columns):\n",
      " #   Column   Non-Null Count  Dtype  \n",
      "---  ------   --------------  -----  \n",
      " 0   returns  571 non-null    float64\n",
      " 1   ret_2    571 non-null    float64\n",
      " 2   ret_5    571 non-null    float64\n",
      " 3   ret_10   571 non-null    float64\n",
      " 4   ret_21   571 non-null    float64\n",
      " 5   rsi      571 non-null    float64\n",
      " 6   macd     571 non-null    float64\n",
      " 7   atr      571 non-null    float64\n",
      " 8   stoch    571 non-null    float64\n",
      " 9   ultosc   571 non-null    float64\n",
      "dtypes: float64(10)\n",
      "memory usage: 49.1 KB\n"
     ]
    },
    {
     "name": "stderr",
     "output_type": "stream",
     "text": [
      "C:\\Users\\TJ\\anaconda3\\envs\\ml01-02\\lib\\site-packages\\gym\\logger.py:30: UserWarning: \u001b[33mWARN: Box bound precision lowered by casting to float32\u001b[0m\n",
      "  warnings.warn(colorize('%s: %s'%('WARN', msg % args), 'yellow'))\n"
     ]
    }
   ],
   "source": [
    "env = gym.make('trader-v0')"
   ]
  },
  {
   "cell_type": "code",
   "execution_count": 10,
   "metadata": {},
   "outputs": [
    {
     "data": {
      "text/html": [
       "<div>\n",
       "<style scoped>\n",
       "    .dataframe tbody tr th:only-of-type {\n",
       "        vertical-align: middle;\n",
       "    }\n",
       "\n",
       "    .dataframe tbody tr th {\n",
       "        vertical-align: top;\n",
       "    }\n",
       "\n",
       "    .dataframe thead th {\n",
       "        text-align: right;\n",
       "    }\n",
       "</style>\n",
       "<table border=\"1\" class=\"dataframe\">\n",
       "  <thead>\n",
       "    <tr style=\"text-align: right;\">\n",
       "      <th></th>\n",
       "      <th>returns</th>\n",
       "      <th>ret_2</th>\n",
       "      <th>ret_5</th>\n",
       "      <th>ret_10</th>\n",
       "      <th>ret_21</th>\n",
       "      <th>rsi</th>\n",
       "      <th>macd</th>\n",
       "      <th>atr</th>\n",
       "      <th>stoch</th>\n",
       "      <th>ultosc</th>\n",
       "    </tr>\n",
       "    <tr>\n",
       "      <th>Date</th>\n",
       "      <th></th>\n",
       "      <th></th>\n",
       "      <th></th>\n",
       "      <th></th>\n",
       "      <th></th>\n",
       "      <th></th>\n",
       "      <th></th>\n",
       "      <th></th>\n",
       "      <th></th>\n",
       "      <th></th>\n",
       "    </tr>\n",
       "  </thead>\n",
       "  <tbody>\n",
       "    <tr>\n",
       "      <th>2015-12-16</th>\n",
       "      <td>0.007693</td>\n",
       "      <td>-0.610350</td>\n",
       "      <td>-1.331473</td>\n",
       "      <td>-1.119232</td>\n",
       "      <td>-0.635002</td>\n",
       "      <td>-1.271469</td>\n",
       "      <td>-0.719635</td>\n",
       "      <td>0.323254</td>\n",
       "      <td>-0.399973</td>\n",
       "      <td>-0.964700</td>\n",
       "    </tr>\n",
       "    <tr>\n",
       "      <th>2015-12-17</th>\n",
       "      <td>-0.021196</td>\n",
       "      <td>-0.790899</td>\n",
       "      <td>-2.133395</td>\n",
       "      <td>-1.370505</td>\n",
       "      <td>-0.876156</td>\n",
       "      <td>-1.271469</td>\n",
       "      <td>-0.850969</td>\n",
       "      <td>0.409091</td>\n",
       "      <td>0.301589</td>\n",
       "      <td>-1.672155</td>\n",
       "    </tr>\n",
       "    <tr>\n",
       "      <th>2015-12-18</th>\n",
       "      <td>-0.027069</td>\n",
       "      <td>-2.530575</td>\n",
       "      <td>-2.174715</td>\n",
       "      <td>-2.576139</td>\n",
       "      <td>-1.669043</td>\n",
       "      <td>-1.271469</td>\n",
       "      <td>-1.005590</td>\n",
       "      <td>0.535431</td>\n",
       "      <td>0.405886</td>\n",
       "      <td>-1.921630</td>\n",
       "    </tr>\n",
       "    <tr>\n",
       "      <th>2015-12-21</th>\n",
       "      <td>0.012261</td>\n",
       "      <td>-0.866263</td>\n",
       "      <td>-1.614148</td>\n",
       "      <td>-2.212871</td>\n",
       "      <td>-1.674786</td>\n",
       "      <td>-1.001258</td>\n",
       "      <td>-1.154519</td>\n",
       "      <td>0.450313</td>\n",
       "      <td>0.202187</td>\n",
       "      <td>-1.512374</td>\n",
       "    </tr>\n",
       "    <tr>\n",
       "      <th>2015-12-22</th>\n",
       "      <td>-0.000932</td>\n",
       "      <td>0.486501</td>\n",
       "      <td>-1.089265</td>\n",
       "      <td>-2.222958</td>\n",
       "      <td>-1.744189</td>\n",
       "      <td>-0.493204</td>\n",
       "      <td>-1.291169</td>\n",
       "      <td>0.314996</td>\n",
       "      <td>-0.382473</td>\n",
       "      <td>-1.081699</td>\n",
       "    </tr>\n",
       "    <tr>\n",
       "      <th>...</th>\n",
       "      <td>...</td>\n",
       "      <td>...</td>\n",
       "      <td>...</td>\n",
       "      <td>...</td>\n",
       "      <td>...</td>\n",
       "      <td>...</td>\n",
       "      <td>...</td>\n",
       "      <td>...</td>\n",
       "      <td>...</td>\n",
       "      <td>...</td>\n",
       "    </tr>\n",
       "    <tr>\n",
       "      <th>2018-03-21</th>\n",
       "      <td>-0.022655</td>\n",
       "      <td>-1.267561</td>\n",
       "      <td>-1.433470</td>\n",
       "      <td>-0.660723</td>\n",
       "      <td>-0.323280</td>\n",
       "      <td>-1.527705</td>\n",
       "      <td>0.656609</td>\n",
       "      <td>1.717833</td>\n",
       "      <td>0.115097</td>\n",
       "      <td>-2.119341</td>\n",
       "    </tr>\n",
       "    <tr>\n",
       "      <th>2018-03-22</th>\n",
       "      <td>-0.014159</td>\n",
       "      <td>-1.957986</td>\n",
       "      <td>-1.907457</td>\n",
       "      <td>-1.190542</td>\n",
       "      <td>-0.463213</td>\n",
       "      <td>-1.527705</td>\n",
       "      <td>0.496698</td>\n",
       "      <td>1.805057</td>\n",
       "      <td>0.366142</td>\n",
       "      <td>-2.550883</td>\n",
       "    </tr>\n",
       "    <tr>\n",
       "      <th>2018-03-23</th>\n",
       "      <td>-0.023128</td>\n",
       "      <td>-1.981832</td>\n",
       "      <td>-2.506815</td>\n",
       "      <td>-2.016118</td>\n",
       "      <td>-0.919040</td>\n",
       "      <td>-1.527705</td>\n",
       "      <td>0.278725</td>\n",
       "      <td>1.984780</td>\n",
       "      <td>0.623780</td>\n",
       "      <td>-3.090652</td>\n",
       "    </tr>\n",
       "    <tr>\n",
       "      <th>2018-03-26</th>\n",
       "      <td>0.047472</td>\n",
       "      <td>1.096397</td>\n",
       "      <td>-0.603340</td>\n",
       "      <td>-1.266990</td>\n",
       "      <td>-0.504731</td>\n",
       "      <td>-0.640022</td>\n",
       "      <td>0.101528</td>\n",
       "      <td>2.500510</td>\n",
       "      <td>-1.117349</td>\n",
       "      <td>-1.460800</td>\n",
       "    </tr>\n",
       "    <tr>\n",
       "      <th>2018-03-27</th>\n",
       "      <td>-0.025641</td>\n",
       "      <td>0.961794</td>\n",
       "      <td>-1.407453</td>\n",
       "      <td>-1.602554</td>\n",
       "      <td>-1.137197</td>\n",
       "      <td>-0.037059</td>\n",
       "      <td>-0.080016</td>\n",
       "      <td>2.987082</td>\n",
       "      <td>-1.313568</td>\n",
       "      <td>-1.844918</td>\n",
       "    </tr>\n",
       "  </tbody>\n",
       "</table>\n",
       "<p>571 rows × 10 columns</p>\n",
       "</div>"
      ],
      "text/plain": [
       "             returns     ret_2     ret_5    ret_10    ret_21       rsi  \\\n",
       "Date                                                                     \n",
       "2015-12-16  0.007693 -0.610350 -1.331473 -1.119232 -0.635002 -1.271469   \n",
       "2015-12-17 -0.021196 -0.790899 -2.133395 -1.370505 -0.876156 -1.271469   \n",
       "2015-12-18 -0.027069 -2.530575 -2.174715 -2.576139 -1.669043 -1.271469   \n",
       "2015-12-21  0.012261 -0.866263 -1.614148 -2.212871 -1.674786 -1.001258   \n",
       "2015-12-22 -0.000932  0.486501 -1.089265 -2.222958 -1.744189 -0.493204   \n",
       "...              ...       ...       ...       ...       ...       ...   \n",
       "2018-03-21 -0.022655 -1.267561 -1.433470 -0.660723 -0.323280 -1.527705   \n",
       "2018-03-22 -0.014159 -1.957986 -1.907457 -1.190542 -0.463213 -1.527705   \n",
       "2018-03-23 -0.023128 -1.981832 -2.506815 -2.016118 -0.919040 -1.527705   \n",
       "2018-03-26  0.047472  1.096397 -0.603340 -1.266990 -0.504731 -0.640022   \n",
       "2018-03-27 -0.025641  0.961794 -1.407453 -1.602554 -1.137197 -0.037059   \n",
       "\n",
       "                macd       atr     stoch    ultosc  \n",
       "Date                                                \n",
       "2015-12-16 -0.719635  0.323254 -0.399973 -0.964700  \n",
       "2015-12-17 -0.850969  0.409091  0.301589 -1.672155  \n",
       "2015-12-18 -1.005590  0.535431  0.405886 -1.921630  \n",
       "2015-12-21 -1.154519  0.450313  0.202187 -1.512374  \n",
       "2015-12-22 -1.291169  0.314996 -0.382473 -1.081699  \n",
       "...              ...       ...       ...       ...  \n",
       "2018-03-21  0.656609  1.717833  0.115097 -2.119341  \n",
       "2018-03-22  0.496698  1.805057  0.366142 -2.550883  \n",
       "2018-03-23  0.278725  1.984780  0.623780 -3.090652  \n",
       "2018-03-26  0.101528  2.500510 -1.117349 -1.460800  \n",
       "2018-03-27 -0.080016  2.987082 -1.313568 -1.844918  \n",
       "\n",
       "[571 rows x 10 columns]"
      ]
     },
     "execution_count": 10,
     "metadata": {},
     "output_type": "execute_result"
    }
   ],
   "source": [
    "env.data_source.data"
   ]
  },
  {
   "cell_type": "markdown",
   "metadata": {},
   "source": [
    "### Initialize Trading Environment"
   ]
  },
  {
   "cell_type": "markdown",
   "metadata": {},
   "source": [
    "We can instantiate the environment by using the desired trading costs and ticker:"
   ]
  },
  {
   "cell_type": "code",
   "execution_count": 11,
   "metadata": {
    "ExecuteTime": {
     "end_time": "2020-06-22T18:55:16.896410Z",
     "start_time": "2020-06-22T18:55:14.954625Z"
    }
   },
   "outputs": [
    {
     "name": "stderr",
     "output_type": "stream",
     "text": [
      "INFO:gym_trader.envs.trader_env:loading data for AAPL...\n",
      "INFO:gym_trader.envs.trader_env:got data for AAPL...\n",
      "INFO:gym_trader.envs.trader_env:None\n"
     ]
    },
    {
     "name": "stdout",
     "output_type": "stream",
     "text": [
      "<class 'pandas.core.frame.DataFrame'>\n",
      "DatetimeIndex: 571 entries, 2015-12-16 to 2018-03-27\n",
      "Data columns (total 10 columns):\n",
      " #   Column   Non-Null Count  Dtype  \n",
      "---  ------   --------------  -----  \n",
      " 0   returns  571 non-null    float64\n",
      " 1   ret_2    571 non-null    float64\n",
      " 2   ret_5    571 non-null    float64\n",
      " 3   ret_10   571 non-null    float64\n",
      " 4   ret_21   571 non-null    float64\n",
      " 5   rsi      571 non-null    float64\n",
      " 6   macd     571 non-null    float64\n",
      " 7   atr      571 non-null    float64\n",
      " 8   stoch    571 non-null    float64\n",
      " 9   ultosc   571 non-null    float64\n",
      "dtypes: float64(10)\n",
      "memory usage: 49.1 KB\n"
     ]
    },
    {
     "name": "stderr",
     "output_type": "stream",
     "text": [
      "C:\\Users\\TJ\\anaconda3\\envs\\ml01-02\\lib\\site-packages\\gym\\logger.py:30: UserWarning: \u001b[33mWARN: Box bound precision lowered by casting to float32\u001b[0m\n",
      "  warnings.warn(colorize('%s: %s'%('WARN', msg % args), 'yellow'))\n"
     ]
    },
    {
     "data": {
      "text/plain": [
       "[42]"
      ]
     },
     "execution_count": 11,
     "metadata": {},
     "output_type": "execute_result"
    }
   ],
   "source": [
    "trading_environment = gym.make('trader-v0')\n",
    "trading_environment.trading_days = trading_days\n",
    "trading_environment.trading_cost_bps = 1e-3\n",
    "trading_environment.time_cost_bps = 1e-4\n",
    "trading_environment.ticker = 'AAPL'\n",
    "trading_environment.seed(42)"
   ]
  },
  {
   "cell_type": "markdown",
   "metadata": {},
   "source": [
    "### Get Environment Params"
   ]
  },
  {
   "cell_type": "code",
   "execution_count": 12,
   "metadata": {
    "ExecuteTime": {
     "end_time": "2020-06-22T18:55:16.904269Z",
     "start_time": "2020-06-22T18:55:16.899993Z"
    }
   },
   "outputs": [],
   "source": [
    "state_dim = trading_environment.observation_space.shape[0]\n",
    "num_actions = trading_environment.action_space.n\n",
    "max_episode_steps = 1000\n",
    "# max_episode_steps = trading_environment.spec.max_episode_steps"
   ]
  },
  {
   "cell_type": "markdown",
   "metadata": {},
   "source": [
    "## Define Trading Agent"
   ]
  },
  {
   "cell_type": "code",
   "execution_count": 13,
   "metadata": {
    "ExecuteTime": {
     "end_time": "2020-06-22T18:55:16.938081Z",
     "start_time": "2020-06-22T18:55:16.907028Z"
    }
   },
   "outputs": [],
   "source": [
    "class DDQNAgent:\n",
    "    def __init__(self, state_dim,\n",
    "                 num_actions,\n",
    "                 learning_rate,\n",
    "                 gamma,\n",
    "                 epsilon_start,\n",
    "                 epsilon_end,\n",
    "                 epsilon_decay_steps,\n",
    "                 epsilon_exponential_decay,\n",
    "                 replay_capacity,\n",
    "                 architecture,\n",
    "                 l2_reg,\n",
    "                 tau,\n",
    "                 batch_size):\n",
    "\n",
    "        self.state_dim = state_dim\n",
    "        self.num_actions = num_actions\n",
    "        self.experience = deque([], maxlen=replay_capacity)\n",
    "        self.learning_rate = learning_rate\n",
    "        self.gamma = gamma\n",
    "        self.architecture = architecture\n",
    "        self.l2_reg = l2_reg\n",
    "\n",
    "        self.online_network = self.build_model()\n",
    "        self.target_network = self.build_model(trainable=False)\n",
    "        self.update_target()\n",
    "\n",
    "        self.epsilon = epsilon_start\n",
    "        self.epsilon_decay_steps = epsilon_decay_steps\n",
    "        self.epsilon_decay = (epsilon_start - epsilon_end) / epsilon_decay_steps\n",
    "        self.epsilon_exponential_decay = epsilon_exponential_decay\n",
    "        self.epsilon_history = []\n",
    "\n",
    "        self.total_steps = self.train_steps = 0\n",
    "        self.episodes = self.episode_length = self.train_episodes = 0\n",
    "        self.steps_per_episode = []\n",
    "        self.episode_reward = 0\n",
    "        self.rewards_history = []\n",
    "\n",
    "        self.batch_size = batch_size\n",
    "        self.tau = tau\n",
    "        self.losses = []\n",
    "        self.idx = tf.range(batch_size)\n",
    "        self.train = True\n",
    "\n",
    "    def build_model(self, trainable=True):\n",
    "        layers = []\n",
    "        n = len(self.architecture)\n",
    "        for i, units in enumerate(self.architecture, 1):\n",
    "            layers.append(Dense(units=units,\n",
    "                                input_dim=self.state_dim if i == 1 else None,\n",
    "                                activation='relu',\n",
    "                                kernel_regularizer=l2(self.l2_reg),\n",
    "                                name=f'Dense_{i}',\n",
    "                                trainable=trainable))\n",
    "        layers.append(Dropout(.1))\n",
    "        layers.append(Dense(units=self.num_actions,\n",
    "                            trainable=trainable,\n",
    "                            name='Output'))\n",
    "        model = Sequential(layers)\n",
    "        model.compile(loss='mean_squared_error',\n",
    "                      optimizer=Adam(lr=self.learning_rate))\n",
    "        return model\n",
    "\n",
    "\n",
    "  \n",
    "    \n",
    "    \n",
    "    def update_target(self):\n",
    "        self.target_network.set_weights(self.online_network.get_weights())\n",
    "\n",
    "    def epsilon_greedy_policy(self, state):\n",
    "        self.total_steps += 1\n",
    "        if np.random.rand() <= self.epsilon:\n",
    "            return np.random.choice(self.num_actions)\n",
    "        q = self.online_network.predict(state)\n",
    "        return np.argmax(q, axis=1).squeeze()\n",
    "\n",
    "    def memorize_transition(self, s, a, r, s_prime, not_done):\n",
    "        if not_done:\n",
    "            self.episode_reward += r\n",
    "            self.episode_length += 1\n",
    "        else:\n",
    "            if self.train:\n",
    "                if self.episodes < self.epsilon_decay_steps:\n",
    "                    self.epsilon -= self.epsilon_decay\n",
    "                else:\n",
    "                    self.epsilon *= self.epsilon_exponential_decay\n",
    "\n",
    "            self.episodes += 1\n",
    "            self.rewards_history.append(self.episode_reward)\n",
    "            self.steps_per_episode.append(self.episode_length)\n",
    "            self.episode_reward, self.episode_length = 0, 0\n",
    "\n",
    "        self.experience.append((s, a, r, s_prime, not_done))\n",
    "\n",
    "    def experience_replay(self):\n",
    "        if self.batch_size > len(self.experience):\n",
    "            return\n",
    "        minibatch = map(np.array, zip(*sample(self.experience, self.batch_size)))\n",
    "        states, actions, rewards, next_states, not_done = minibatch\n",
    "\n",
    "        next_q_values = self.online_network.predict_on_batch(next_states)\n",
    "        best_actions = tf.argmax(next_q_values, axis=1)\n",
    "\n",
    "        next_q_values_target = self.target_network.predict_on_batch(next_states)\n",
    "        target_q_values = tf.gather_nd(next_q_values_target,\n",
    "                                       tf.stack((self.idx, tf.cast(best_actions, tf.int32)), axis=1))\n",
    "\n",
    "        targets = rewards + not_done * self.gamma * target_q_values\n",
    "\n",
    "        q_values = self.online_network.predict_on_batch(states)\n",
    "        print(targets)\n",
    "        q_values[[self.idx, actions]] = targets\n",
    "\n",
    "        loss = self.online_network.train_on_batch(x=states, y=q_values)\n",
    "        self.losses.append(loss)\n",
    "\n",
    "        if self.total_steps % self.tau == 0:\n",
    "            self.update_target()"
   ]
  },
  {
   "cell_type": "markdown",
   "metadata": {},
   "source": [
    "## Define hyperparameters"
   ]
  },
  {
   "cell_type": "code",
   "execution_count": 14,
   "metadata": {
    "ExecuteTime": {
     "end_time": "2020-06-22T18:55:16.960294Z",
     "start_time": "2020-06-22T18:55:16.940891Z"
    }
   },
   "outputs": [],
   "source": [
    "gamma = .99,  # discount factor\n",
    "tau = 100  # target network update frequency"
   ]
  },
  {
   "cell_type": "markdown",
   "metadata": {},
   "source": [
    "### NN Architecture"
   ]
  },
  {
   "cell_type": "code",
   "execution_count": 15,
   "metadata": {
    "ExecuteTime": {
     "end_time": "2020-06-22T18:55:16.976898Z",
     "start_time": "2020-06-22T18:55:16.961660Z"
    }
   },
   "outputs": [],
   "source": [
    "architecture = (256, 256)  # units per layer\n",
    "learning_rate = 0.0001  # learning rate\n",
    "l2_reg = 1e-6  # L2 regularization"
   ]
  },
  {
   "cell_type": "markdown",
   "metadata": {},
   "source": [
    "### Experience Replay"
   ]
  },
  {
   "cell_type": "code",
   "execution_count": 16,
   "metadata": {
    "ExecuteTime": {
     "end_time": "2020-06-22T18:55:16.981461Z",
     "start_time": "2020-06-22T18:55:16.978282Z"
    }
   },
   "outputs": [],
   "source": [
    "replay_capacity = int(1e6)\n",
    "batch_size = 4096"
   ]
  },
  {
   "cell_type": "markdown",
   "metadata": {},
   "source": [
    "### $\\epsilon$-greedy Policy"
   ]
  },
  {
   "cell_type": "code",
   "execution_count": 17,
   "metadata": {
    "ExecuteTime": {
     "end_time": "2020-06-22T18:55:16.990720Z",
     "start_time": "2020-06-22T18:55:16.983526Z"
    }
   },
   "outputs": [],
   "source": [
    "epsilon_start = 1.0\n",
    "epsilon_end = .01\n",
    "epsilon_decay_steps = 250\n",
    "epsilon_exponential_decay = .99"
   ]
  },
  {
   "cell_type": "markdown",
   "metadata": {},
   "source": [
    "## Create DDQN Agent"
   ]
  },
  {
   "cell_type": "markdown",
   "metadata": {},
   "source": [
    "We will use [TensorFlow](https://www.tensorflow.org/) to create our Double Deep Q-Network ."
   ]
  },
  {
   "cell_type": "code",
   "execution_count": 18,
   "metadata": {
    "ExecuteTime": {
     "end_time": "2020-06-22T18:55:17.001362Z",
     "start_time": "2020-06-22T18:55:16.991955Z"
    }
   },
   "outputs": [],
   "source": [
    "tf.keras.backend.clear_session()"
   ]
  },
  {
   "cell_type": "code",
   "execution_count": 19,
   "metadata": {
    "ExecuteTime": {
     "end_time": "2020-06-22T18:55:17.610034Z",
     "start_time": "2020-06-22T18:55:17.002991Z"
    }
   },
   "outputs": [],
   "source": [
    "ddqn = DDQNAgent(state_dim=state_dim,\n",
    "                 num_actions=num_actions,\n",
    "                 learning_rate=learning_rate,\n",
    "                 gamma=gamma,\n",
    "                 epsilon_start=epsilon_start,\n",
    "                 epsilon_end=epsilon_end,\n",
    "                 epsilon_decay_steps=epsilon_decay_steps,\n",
    "                 epsilon_exponential_decay=epsilon_exponential_decay,\n",
    "                 replay_capacity=replay_capacity,\n",
    "                 architecture=architecture,\n",
    "                 l2_reg=l2_reg,\n",
    "                 tau=tau,\n",
    "                 batch_size=batch_size)"
   ]
  },
  {
   "cell_type": "code",
   "execution_count": 20,
   "metadata": {
    "ExecuteTime": {
     "end_time": "2020-06-22T18:55:17.615621Z",
     "start_time": "2020-06-22T18:55:17.611049Z"
    }
   },
   "outputs": [
    {
     "name": "stdout",
     "output_type": "stream",
     "text": [
      "Model: \"sequential\"\n",
      "_________________________________________________________________\n",
      "Layer (type)                 Output Shape              Param #   \n",
      "=================================================================\n",
      "Dense_1 (Dense)              (None, 256)               2816      \n",
      "_________________________________________________________________\n",
      "Dense_2 (Dense)              (None, 256)               65792     \n",
      "_________________________________________________________________\n",
      "dropout (Dropout)            (None, 256)               0         \n",
      "_________________________________________________________________\n",
      "Output (Dense)               (None, 3)                 771       \n",
      "=================================================================\n",
      "Total params: 69,379\n",
      "Trainable params: 69,379\n",
      "Non-trainable params: 0\n",
      "_________________________________________________________________\n"
     ]
    }
   ],
   "source": [
    "ddqn.online_network.summary()"
   ]
  },
  {
   "cell_type": "markdown",
   "metadata": {},
   "source": [
    "## Run Experiment"
   ]
  },
  {
   "cell_type": "markdown",
   "metadata": {},
   "source": [
    "### Set parameters"
   ]
  },
  {
   "cell_type": "code",
   "execution_count": 21,
   "metadata": {
    "ExecuteTime": {
     "end_time": "2020-06-22T18:55:17.635835Z",
     "start_time": "2020-06-22T18:55:17.617132Z"
    }
   },
   "outputs": [],
   "source": [
    "total_steps = 0\n",
    "max_episodes = 300"
   ]
  },
  {
   "cell_type": "markdown",
   "metadata": {},
   "source": [
    "### Initialize variables"
   ]
  },
  {
   "cell_type": "code",
   "execution_count": 22,
   "metadata": {
    "ExecuteTime": {
     "end_time": "2020-06-22T18:55:17.643974Z",
     "start_time": "2020-06-22T18:55:17.637032Z"
    }
   },
   "outputs": [],
   "source": [
    "episode_time, navs, market_navs, diffs, episode_eps = [], [], [], [], []"
   ]
  },
  {
   "cell_type": "markdown",
   "metadata": {},
   "source": [
    "## Visualiztion"
   ]
  },
  {
   "cell_type": "code",
   "execution_count": 23,
   "metadata": {
    "ExecuteTime": {
     "end_time": "2020-06-22T18:55:17.651693Z",
     "start_time": "2020-06-22T18:55:17.645067Z"
    }
   },
   "outputs": [],
   "source": [
    "def track_results(episode, nav_ma_100, nav_ma_10,\n",
    "                  market_nav_100, market_nav_10,\n",
    "                  win_ratio, total, epsilon):\n",
    "    time_ma = np.mean([episode_time[-100:]])\n",
    "    T = np.sum(episode_time)\n",
    "    \n",
    "    template = '{:>4d} | {} | Agent: {:>6.1%} ({:>6.1%}) | '\n",
    "    template += 'Market: {:>6.1%} ({:>6.1%}) | '\n",
    "    template += 'Wins: {:>5.1%} | eps: {:>6.3f}'\n",
    "    print(template.format(episode, format_time(total), \n",
    "                          nav_ma_100-1, nav_ma_10-1, \n",
    "                          market_nav_100-1, market_nav_10-1, \n",
    "                          win_ratio, epsilon))"
   ]
  },
  {
   "cell_type": "markdown",
   "metadata": {},
   "source": [
    "### Train Agent"
   ]
  },
  {
   "cell_type": "code",
   "execution_count": 25,
   "metadata": {
    "ExecuteTime": {
     "end_time": "2020-06-23T00:03:36.237053Z",
     "start_time": "2020-06-22T18:55:17.652918Z"
    }
   },
   "outputs": [
    {
     "name": "stderr",
     "output_type": "stream",
     "text": [
      "C:\\Users\\TJ\\anaconda3\\envs\\ml01-02\\lib\\site-packages\\numpy\\core\\fromnumeric.py:3373: RuntimeWarning: Mean of empty slice.\n",
      "  out=out, **kwargs)\n",
      "C:\\Users\\TJ\\anaconda3\\envs\\ml01-02\\lib\\site-packages\\numpy\\core\\_methods.py:170: RuntimeWarning: invalid value encountered in double_scalars\n",
      "  ret = ret.dtype.type(ret / rcount)\n"
     ]
    },
    {
     "name": "stdout",
     "output_type": "stream",
     "text": [
      "  10 | 00:00:01 | Agent: -20.5% (-20.5%) | Market:  42.2% ( 42.2%) | Wins:  0.0% | eps:  0.960\n",
      "  20 | 00:00:05 | Agent: -21.4% (-22.2%) | Market:  42.9% ( 43.6%) | Wins:  0.0% | eps:  0.921\n",
      "  30 | 00:00:12 | Agent: -20.3% (-18.3%) | Market:  43.0% ( 43.2%) | Wins:  0.0% | eps:  0.881\n",
      "  40 | 00:00:21 | Agent: -19.5% (-17.0%) | Market:  42.9% ( 42.8%) | Wins:  0.0% | eps:  0.842\n",
      "  50 | 00:00:33 | Agent: -18.9% (-16.6%) | Market:  42.1% ( 38.9%) | Wins:  0.0% | eps:  0.802\n",
      "  60 | 00:00:48 | Agent: -18.8% (-18.2%) | Market:  41.8% ( 40.0%) | Wins:  0.0% | eps:  0.762\n",
      "  70 | 00:01:05 | Agent: -17.3% ( -8.2%) | Market:  41.4% ( 39.1%) | Wins:  0.0% | eps:  0.723\n",
      "  80 | 00:01:24 | Agent: -16.8% (-13.4%) | Market:  41.5% ( 42.6%) | Wins:  0.0% | eps:  0.683\n",
      "  90 | 00:01:46 | Agent: -16.9% (-18.1%) | Market:  42.3% ( 48.7%) | Wins:  0.0% | eps:  0.644\n",
      " 100 | 00:02:10 | Agent: -16.8% (-15.3%) | Market:  42.7% ( 45.6%) | Wins:  0.0% | eps:  0.604\n",
      " 110 | 00:02:37 | Agent: -16.5% (-17.6%) | Market:  42.5% ( 40.6%) | Wins:  0.0% | eps:  0.564\n",
      " 120 | 00:03:08 | Agent: -15.3% (-10.0%) | Market:  42.0% ( 38.4%) | Wins:  0.0% | eps:  0.525\n",
      " 130 | 00:03:40 | Agent: -15.0% (-15.4%) | Market:  41.5% ( 38.3%) | Wins:  0.0% | eps:  0.485\n",
      " 140 | 00:04:17 | Agent: -14.6% (-13.4%) | Market:  41.0% ( 38.1%) | Wins:  0.0% | eps:  0.446\n",
      " 150 | 00:04:55 | Agent: -13.4% ( -4.2%) | Market:  41.7% ( 46.1%) | Wins:  0.0% | eps:  0.406\n",
      " 160 | 00:05:37 | Agent: -13.2% (-16.4%) | Market:  42.6% ( 48.3%) | Wins:  0.0% | eps:  0.366\n",
      " 170 | 00:06:19 | Agent: -13.4% (-10.0%) | Market:  42.5% ( 38.6%) | Wins:  0.0% | eps:  0.327\n",
      " 180 | 00:07:06 | Agent: -13.4% (-13.4%) | Market:  42.3% ( 40.4%) | Wins:  0.0% | eps:  0.287\n",
      " 190 | 00:07:53 | Agent: -12.5% ( -9.8%) | Market:  42.7% ( 53.0%) | Wins:  0.0% | eps:  0.248\n",
      " 200 | 00:08:44 | Agent: -12.1% (-11.0%) | Market:  42.3% ( 41.7%) | Wins:  0.0% | eps:  0.208\n",
      " 210 | 00:09:37 | Agent: -11.0% ( -6.7%) | Market:  42.8% ( 45.2%) | Wins:  0.0% | eps:  0.168\n",
      " 220 | 00:10:33 | Agent: -10.5% ( -4.8%) | Market:  43.3% ( 42.9%) | Wins:  0.0% | eps:  0.129\n",
      " 230 | 00:11:33 | Agent:  -9.7% ( -6.9%) | Market:  44.1% ( 46.5%) | Wins:  0.0% | eps:  0.089\n",
      " 240 | 00:12:37 | Agent:  -8.9% ( -5.8%) | Market:  44.7% ( 44.0%) | Wins:  0.0% | eps:  0.050\n",
      " 250 | 00:13:43 | Agent:  -8.9% ( -4.2%) | Market:  44.6% ( 45.3%) | Wins:  0.0% | eps:  0.010\n",
      " 260 | 00:14:47 | Agent:  -7.6% ( -3.9%) | Market:  45.1% ( 52.9%) | Wins:  0.0% | eps:  0.009\n",
      " 270 | 00:15:51 | Agent:  -7.0% ( -3.8%) | Market:  45.2% ( 39.9%) | Wins:  0.0% | eps:  0.008\n",
      " 280 | 00:16:58 | Agent:  -6.0% ( -3.2%) | Market:  45.8% ( 47.0%) | Wins:  0.0% | eps:  0.007\n",
      " 290 | 00:18:02 | Agent:  -5.3% ( -3.0%) | Market:  43.9% ( 33.6%) | Wins:  0.0% | eps:  0.007\n",
      " 300 | 00:19:07 | Agent:  -4.6% ( -3.6%) | Market:  43.5% ( 37.3%) | Wins:  0.0% | eps:  0.006\n"
     ]
    }
   ],
   "source": [
    "start = time()\n",
    "results = []\n",
    "for episode in range(1, max_episodes + 1):\n",
    "    this_state = trading_environment.reset()\n",
    "    for episode_step in range(max_episode_steps):\n",
    "        action = ddqn.epsilon_greedy_policy(this_state.reshape(-1, state_dim))\n",
    "        next_state, reward, done, _ = trading_environment.step(action)\n",
    "    \n",
    "        ddqn.memorize_transition(this_state, \n",
    "                                 action, \n",
    "                                 reward, \n",
    "                                 next_state, \n",
    "                                 0.0 if done else 1.0)\n",
    "#         if ddqn.train:\n",
    "#             ddqn.experience_replay()\n",
    "        if done:\n",
    "            break\n",
    "        this_state = next_state\n",
    "\n",
    "    result = trading_environment.simulator.result()\n",
    "    final = result.iloc[-1]\n",
    "\n",
    "    nav = final.nav * (1 + final.strategy_return)\n",
    "    navs.append(nav)\n",
    "\n",
    "    market_nav = final.market_nav\n",
    "    market_navs.append(market_nav)\n",
    "\n",
    "    diff = nav - market_nav\n",
    "    diffs.append(diff)\n",
    "    if episode % 10 == 0:\n",
    "        track_results(episode, np.mean(navs[-100:]), np.mean(navs[-10:]), \n",
    "                      np.mean(market_navs[-100:]), np.mean(market_navs[-10:]), \n",
    "                      np.sum([s > 0 for s in diffs[-100:]])/min(len(diffs), 100), \n",
    "                      time() - start, ddqn.epsilon)\n",
    "    if len(diffs) > 25 and all([r > 0 for r in diffs[-25:]]):\n",
    "        print(result.tail())\n",
    "        break\n",
    "\n",
    "trading_environment.close()"
   ]
  },
  {
   "cell_type": "code",
   "execution_count": 26,
   "metadata": {
    "ExecuteTime": {
     "end_time": "2020-06-23T00:03:36.248773Z",
     "start_time": "2020-06-23T00:03:36.238411Z"
    }
   },
   "outputs": [
    {
     "name": "stdout",
     "output_type": "stream",
     "text": [
      "<class 'pandas.core.frame.DataFrame'>\n",
      "Int64Index: 300 entries, 1 to 300\n",
      "Data columns (total 4 columns):\n",
      " #   Column             Non-Null Count  Dtype  \n",
      "---  ------             --------------  -----  \n",
      " 0   Agent              300 non-null    float64\n",
      " 1   Market             300 non-null    float64\n",
      " 2   Difference         300 non-null    float64\n",
      " 3   Strategy Wins (%)  201 non-null    float64\n",
      "dtypes: float64(4)\n",
      "memory usage: 11.7 KB\n"
     ]
    }
   ],
   "source": [
    "results = pd.DataFrame({'Episode': list(range(1, episode+1)),\n",
    "                        'Agent': navs,\n",
    "                        'Market': market_navs,\n",
    "                        'Difference': diffs}).set_index('Episode')\n",
    "\n",
    "results['Strategy Wins (%)'] = (results.Difference > 0).rolling(100).sum()\n",
    "results.info()"
   ]
  },
  {
   "cell_type": "code",
   "execution_count": 31,
   "metadata": {},
   "outputs": [
    {
     "data": {
      "text/html": [
       "<div>\n",
       "<style scoped>\n",
       "    .dataframe tbody tr th:only-of-type {\n",
       "        vertical-align: middle;\n",
       "    }\n",
       "\n",
       "    .dataframe tbody tr th {\n",
       "        vertical-align: top;\n",
       "    }\n",
       "\n",
       "    .dataframe thead th {\n",
       "        text-align: right;\n",
       "    }\n",
       "</style>\n",
       "<table border=\"1\" class=\"dataframe\">\n",
       "  <thead>\n",
       "    <tr style=\"text-align: right;\">\n",
       "      <th></th>\n",
       "      <th>Agent</th>\n",
       "      <th>Market</th>\n",
       "      <th>Difference</th>\n",
       "      <th>Strategy Wins (%)</th>\n",
       "    </tr>\n",
       "    <tr>\n",
       "      <th>Episode</th>\n",
       "      <th></th>\n",
       "      <th></th>\n",
       "      <th></th>\n",
       "      <th></th>\n",
       "    </tr>\n",
       "  </thead>\n",
       "  <tbody>\n",
       "    <tr>\n",
       "      <th>1</th>\n",
       "      <td>0.838894</td>\n",
       "      <td>1.637076</td>\n",
       "      <td>-0.798182</td>\n",
       "      <td>NaN</td>\n",
       "    </tr>\n",
       "    <tr>\n",
       "      <th>2</th>\n",
       "      <td>0.892999</td>\n",
       "      <td>1.336310</td>\n",
       "      <td>-0.443311</td>\n",
       "      <td>NaN</td>\n",
       "    </tr>\n",
       "    <tr>\n",
       "      <th>3</th>\n",
       "      <td>0.659735</td>\n",
       "      <td>1.485107</td>\n",
       "      <td>-0.825372</td>\n",
       "      <td>NaN</td>\n",
       "    </tr>\n",
       "    <tr>\n",
       "      <th>4</th>\n",
       "      <td>0.808344</td>\n",
       "      <td>1.336258</td>\n",
       "      <td>-0.527914</td>\n",
       "      <td>NaN</td>\n",
       "    </tr>\n",
       "    <tr>\n",
       "      <th>5</th>\n",
       "      <td>0.787542</td>\n",
       "      <td>1.544353</td>\n",
       "      <td>-0.756811</td>\n",
       "      <td>NaN</td>\n",
       "    </tr>\n",
       "    <tr>\n",
       "      <th>...</th>\n",
       "      <td>...</td>\n",
       "      <td>...</td>\n",
       "      <td>...</td>\n",
       "      <td>...</td>\n",
       "    </tr>\n",
       "    <tr>\n",
       "      <th>296</th>\n",
       "      <td>0.961045</td>\n",
       "      <td>1.267281</td>\n",
       "      <td>-0.306236</td>\n",
       "      <td>0.0</td>\n",
       "    </tr>\n",
       "    <tr>\n",
       "      <th>297</th>\n",
       "      <td>0.988964</td>\n",
       "      <td>1.262026</td>\n",
       "      <td>-0.273063</td>\n",
       "      <td>0.0</td>\n",
       "    </tr>\n",
       "    <tr>\n",
       "      <th>298</th>\n",
       "      <td>0.988964</td>\n",
       "      <td>1.270828</td>\n",
       "      <td>-0.281864</td>\n",
       "      <td>0.0</td>\n",
       "    </tr>\n",
       "    <tr>\n",
       "      <th>299</th>\n",
       "      <td>0.958035</td>\n",
       "      <td>1.485008</td>\n",
       "      <td>-0.526973</td>\n",
       "      <td>0.0</td>\n",
       "    </tr>\n",
       "    <tr>\n",
       "      <th>300</th>\n",
       "      <td>0.916836</td>\n",
       "      <td>1.515166</td>\n",
       "      <td>-0.598330</td>\n",
       "      <td>0.0</td>\n",
       "    </tr>\n",
       "  </tbody>\n",
       "</table>\n",
       "<p>300 rows × 4 columns</p>\n",
       "</div>"
      ],
      "text/plain": [
       "            Agent    Market  Difference  Strategy Wins (%)\n",
       "Episode                                                   \n",
       "1        0.838894  1.637076   -0.798182                NaN\n",
       "2        0.892999  1.336310   -0.443311                NaN\n",
       "3        0.659735  1.485107   -0.825372                NaN\n",
       "4        0.808344  1.336258   -0.527914                NaN\n",
       "5        0.787542  1.544353   -0.756811                NaN\n",
       "...           ...       ...         ...                ...\n",
       "296      0.961045  1.267281   -0.306236                0.0\n",
       "297      0.988964  1.262026   -0.273063                0.0\n",
       "298      0.988964  1.270828   -0.281864                0.0\n",
       "299      0.958035  1.485008   -0.526973                0.0\n",
       "300      0.916836  1.515166   -0.598330                0.0\n",
       "\n",
       "[300 rows x 4 columns]"
      ]
     },
     "execution_count": 31,
     "metadata": {},
     "output_type": "execute_result"
    }
   ],
   "source": [
    "results"
   ]
  },
  {
   "cell_type": "code",
   "execution_count": 32,
   "metadata": {
    "ExecuteTime": {
     "end_time": "2020-06-23T00:03:36.273693Z",
     "start_time": "2020-06-23T00:03:36.250683Z"
    }
   },
   "outputs": [],
   "source": [
    "results.to_csv(results_path / 'results.csv', index=False)"
   ]
  },
  {
   "cell_type": "code",
   "execution_count": 33,
   "metadata": {
    "ExecuteTime": {
     "end_time": "2020-06-23T00:03:36.579693Z",
     "start_time": "2020-06-23T00:03:36.274946Z"
    }
   },
   "outputs": [
    {
     "name": "stderr",
     "output_type": "stream",
     "text": [
      "C:\\Users\\TJ\\anaconda3\\envs\\ml01-02\\lib\\site-packages\\seaborn\\distributions.py:2551: FutureWarning: `distplot` is a deprecated function and will be removed in a future version. Please adapt your code to use either `displot` (a figure-level function with similar flexibility) or `histplot` (an axes-level function for histograms).\n",
      "  warnings.warn(msg, FutureWarning)\n"
     ]
    },
    {
     "data": {
      "image/png": "[encoded data removed]",
      "text/plain": [
       "<Figure size 432x288 with 1 Axes>"
      ]
     },
     "metadata": {},
     "output_type": "display_data"
    }
   ],
   "source": [
    "with sns.axes_style('white'):\n",
    "    sns.distplot(results.Difference)\n",
    "    sns.despine()"
   ]
  },
  {
   "cell_type": "markdown",
   "metadata": {},
   "source": [
    "### Evaluate Results"
   ]
  },
  {
   "cell_type": "code",
   "execution_count": 34,
   "metadata": {
    "ExecuteTime": {
     "end_time": "2020-06-23T00:03:36.585823Z",
     "start_time": "2020-06-23T00:03:36.580808Z"
    }
   },
   "outputs": [
    {
     "name": "stdout",
     "output_type": "stream",
     "text": [
      "<class 'pandas.core.frame.DataFrame'>\n",
      "Int64Index: 300 entries, 1 to 300\n",
      "Data columns (total 4 columns):\n",
      " #   Column             Non-Null Count  Dtype  \n",
      "---  ------             --------------  -----  \n",
      " 0   Agent              300 non-null    float64\n",
      " 1   Market             300 non-null    float64\n",
      " 2   Difference         300 non-null    float64\n",
      " 3   Strategy Wins (%)  201 non-null    float64\n",
      "dtypes: float64(4)\n",
      "memory usage: 11.7 KB\n"
     ]
    }
   ],
   "source": [
    "results.info()"
   ]
  },
  {
   "cell_type": "code",
   "execution_count": 35,
   "metadata": {
    "ExecuteTime": {
     "end_time": "2020-06-23T00:03:37.361710Z",
     "start_time": "2020-06-23T00:03:36.587097Z"
    }
   },
   "outputs": [
    {
     "data": {
      "image/png": "[encoded data removed]",
      "text/plain": [
       "<Figure size 1008x288 with 2 Axes>"
      ]
     },
     "metadata": {},
     "output_type": "display_data"
    }
   ],
   "source": [
    "fig, axes = plt.subplots(ncols=2, figsize=(14, 4), sharey=True)\n",
    "\n",
    "df1 = (results[['Agent', 'Market']]\n",
    "       .sub(1)\n",
    "       .rolling(100)\n",
    "       .mean())\n",
    "df1.plot(ax=axes[0],\n",
    "         title='Annual Returns (Moving Average)',\n",
    "         lw=1)\n",
    "\n",
    "df2 = results['Strategy Wins (%)'].div(100).rolling(50).mean()\n",
    "df2.plot(ax=axes[1],\n",
    "         title='Agent Outperformance (%, Moving Average)')\n",
    "\n",
    "for ax in axes:\n",
    "    ax.yaxis.set_major_formatter(\n",
    "        FuncFormatter(lambda y, _: '{:.0%}'.format(y)))\n",
    "    ax.xaxis.set_major_formatter(\n",
    "        FuncFormatter(lambda x, _: '{:,.0f}'.format(x)))\n",
    "axes[1].axhline(.5, ls='--', c='k', lw=1)\n",
    "\n",
    "sns.despine()\n",
    "fig.tight_layout()\n",
    "fig.savefig(results_path / 'performance', dpi=300)"
   ]
  }
 ],
 "metadata": {
  "kernelspec": {
   "display_name": "ml01-02",
   "language": "python",
   "name": "ml01-02"
  },
  "language_info": {
   "codemirror_mode": {
    "name": "ipython",
    "version": 3
   },
   "file_extension": ".py",
   "mimetype": "text/x-python",
   "name": "python",
   "nbconvert_exporter": "python",
   "pygments_lexer": "ipython3",
   "version": "3.7.7"
  },
  "toc": {
   "base_numbering": 1,
   "nav_menu": {},
   "number_sections": true,
   "sideBar": true,
   "skip_h1_title": true,
   "title_cell": "Table of Contents",
   "title_sidebar": "Contents",
   "toc_cell": false,
   "toc_position": {
    "height": "calc(100% - 180px)",
    "left": "10px",
    "top": "150px",
    "width": "230.906px"
   },
   "toc_section_display": true,
   "toc_window_display": true
  }
 },
 "nbformat": 4,
 "nbformat_minor": 4
}
