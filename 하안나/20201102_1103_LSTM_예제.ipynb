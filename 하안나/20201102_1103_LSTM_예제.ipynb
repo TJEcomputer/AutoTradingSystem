{
  "nbformat": 4,
  "nbformat_minor": 0,
  "metadata": {
    "colab": {
      "name": "20201102 - 1103.  LSTM 예제.ipynb",
      "provenance": [],
      "collapsed_sections": [],
      "toc_visible": true,
      "authorship_tag": "ABX9TyNVNyOQlNdaETb7r4azK6OU",
      "include_colab_link": true
    },
    "kernelspec": {
      "name": "python3",
      "display_name": "Python 3"
    },
    "accelerator": "GPU"
  },
  "cells": [
    {
      "cell_type": "markdown",
      "metadata": {
        "id": "view-in-github",
        "colab_type": "text"
      },
      "source": [
        "<a href=\"https://colab.research.google.com/github/TJEcomputer/AutoTradingSystem/blob/Anna/20201102_1103_LSTM_%EC%98%88%EC%A0%9C.ipynb\" target=\"_parent\"><img src=\"https://colab.research.google.com/assets/colab-badge.svg\" alt=\"Open In Colab\"/></a>"
      ]
    },
    {
      "cell_type": "markdown",
      "metadata": {
        "id": "DxB8MJ73rj07"
      },
      "source": [
        "### LSTM 레이어 \n",
        "- 장기 기억 의존 문제를 해결하기 위함\n"
      ]
    },
    {
      "cell_type": "markdown",
      "metadata": {
        "id": "9qehy-S0roZ6"
      },
      "source": [
        "### 1. Simple RNN 예제 \n",
        "- 먼저 simple RNN 을 통해, 어떤 문제점이 발생되는지 알아보자"
      ]
    },
    {
      "cell_type": "code",
      "metadata": {
        "id": "tjZpU-dgrqnq"
      },
      "source": [
        "import numpy as np\n",
        "import pandas as pd\n",
        "import tensorflow as tf"
      ],
      "execution_count": null,
      "outputs": []
    },
    {
      "cell_type": "code",
      "metadata": {
        "id": "ZSX7wK_x-pef"
      },
      "source": [
        "import matplotlib.pyplot as plt"
      ],
      "execution_count": null,
      "outputs": []
    },
    {
      "cell_type": "markdown",
      "metadata": {
        "id": "52rAdD4svVzx"
      },
      "source": [
        "- 문제의 데이터셋(X)과 답(Y) 생성"
      ]
    },
    {
      "cell_type": "code",
      "metadata": {
        "id": "_NYgtBuhrbwL",
        "outputId": "ed654129-5805-4a33-acc5-e816627fdace",
        "colab": {
          "base_uri": "https://localhost:8080/"
        }
      },
      "source": [
        "# 3000 개의 데이터셋 생성: 1개의 데이터셋에는 0~1에서의 숫자 100개가 랜덤으로 입력됨\n",
        "X=[]\n",
        "Y=[]\n",
        "for i in range(3000):\n",
        "  # 0~1 범위의 랜덤한 숫자 100개를 만듭니다\n",
        "  lst = np.random.rand(100)\n",
        "  # 마킹할 숫자 2개의 인덱스 뽑기\n",
        "  idx = np.random.choice(100, 2, replace=False)\n",
        "  # 마킹 인덱스가 저장된 원-핫 인코딩 벡터 생성\n",
        "  zeros_ = np.zeros(100)\n",
        "  zeros_[idx] = 1\n",
        "\n",
        "  # 마킹 인덱스와 랜덤한 숫자를 합쳐서 X에 저장\n",
        "  X.append(np.array(list(zip(zeros_, lst))))\n",
        "\n",
        "  # 마킹 인덱스가 1인값만 서로 곱해서 Y에 저장 : Y는 label 즉 답이 됨\n",
        "  Y.append(np.prod(lst[idx]))\n",
        "\n",
        "print(X[0], Y[0])"
      ],
      "execution_count": null,
      "outputs": [
        {
          "output_type": "stream",
          "text": [
            "[[0.         0.60966926]\n",
            " [0.         0.89569097]\n",
            " [0.         0.38720366]\n",
            " [1.         0.72915365]\n",
            " [0.         0.08107682]\n",
            " [0.         0.62746469]\n",
            " [0.         0.2470832 ]\n",
            " [0.         0.49741218]\n",
            " [0.         0.06007894]\n",
            " [0.         0.75174209]\n",
            " [0.         0.20326797]\n",
            " [0.         0.88551574]\n",
            " [0.         0.59909357]\n",
            " [0.         0.07657857]\n",
            " [0.         0.6008064 ]\n",
            " [0.         0.9758859 ]\n",
            " [0.         0.72323433]\n",
            " [0.         0.44797183]\n",
            " [0.         0.24695948]\n",
            " [0.         0.33311771]\n",
            " [0.         0.14381634]\n",
            " [0.         0.04934423]\n",
            " [0.         0.82847907]\n",
            " [0.         0.21101157]\n",
            " [0.         0.76395468]\n",
            " [0.         0.57575872]\n",
            " [0.         0.56113437]\n",
            " [0.         0.53749822]\n",
            " [0.         0.4945384 ]\n",
            " [0.         0.86415581]\n",
            " [0.         0.39681124]\n",
            " [0.         0.8604965 ]\n",
            " [0.         0.6090603 ]\n",
            " [0.         0.13510618]\n",
            " [0.         0.14120964]\n",
            " [0.         0.05779595]\n",
            " [0.         0.4215842 ]\n",
            " [0.         0.21569355]\n",
            " [0.         0.36637386]\n",
            " [0.         0.19886215]\n",
            " [0.         0.25781024]\n",
            " [0.         0.93812069]\n",
            " [0.         0.78725626]\n",
            " [0.         0.57109647]\n",
            " [0.         0.1731847 ]\n",
            " [0.         0.48272766]\n",
            " [0.         0.17144699]\n",
            " [0.         0.56119816]\n",
            " [0.         0.96663846]\n",
            " [0.         0.01938522]\n",
            " [0.         0.14026676]\n",
            " [0.         0.49484937]\n",
            " [0.         0.97933864]\n",
            " [0.         0.54658671]\n",
            " [0.         0.47415926]\n",
            " [0.         0.45126769]\n",
            " [0.         0.13356035]\n",
            " [0.         0.96787191]\n",
            " [0.         0.2677323 ]\n",
            " [0.         0.3659015 ]\n",
            " [0.         0.19345842]\n",
            " [0.         0.53890047]\n",
            " [0.         0.3663712 ]\n",
            " [0.         0.3255162 ]\n",
            " [0.         0.68321117]\n",
            " [0.         0.8430342 ]\n",
            " [0.         0.96318989]\n",
            " [0.         0.79456011]\n",
            " [0.         0.81991429]\n",
            " [0.         0.09864671]\n",
            " [0.         0.78273602]\n",
            " [1.         0.90834315]\n",
            " [0.         0.02820556]\n",
            " [0.         0.98368363]\n",
            " [0.         0.15707926]\n",
            " [0.         0.13766224]\n",
            " [0.         0.27609988]\n",
            " [0.         0.38111249]\n",
            " [0.         0.98094032]\n",
            " [0.         0.64726948]\n",
            " [0.         0.52093556]\n",
            " [0.         0.39370957]\n",
            " [0.         0.18404979]\n",
            " [0.         0.14777645]\n",
            " [0.         0.10454808]\n",
            " [0.         0.41610488]\n",
            " [0.         0.93040152]\n",
            " [0.         0.71154043]\n",
            " [0.         0.55890521]\n",
            " [0.         0.19483915]\n",
            " [0.         0.68302846]\n",
            " [0.         0.14528423]\n",
            " [0.         0.45896604]\n",
            " [0.         0.03410705]\n",
            " [0.         0.0128694 ]\n",
            " [0.         0.26162982]\n",
            " [0.         0.29635978]\n",
            " [0.         0.8818659 ]\n",
            " [0.         0.58334485]\n",
            " [0.         0.34951579]] 0.6623217237110017\n"
          ],
          "name": "stdout"
        }
      ]
    },
    {
      "cell_type": "code",
      "metadata": {
        "id": "ghKkADvRuqco"
      },
      "source": [
        "# 앞선 간단한 예제에 비해 어렵기 때문에 SimpleRNN 레이어의 뉴런수도 늘리고 RNN 레이어를 두 층으로 겹친 모델 구조를 사용해보기 p.188 그림 참고\n",
        "model = tf.keras.Sequential([\n",
        "                               tf.keras.layers.SimpleRNN(units=30, return_sequences=True, input_shape = [100,2])   # RNN레이어를 겹치기 위해 첫번째 레이어에서 return_sequences=True로 지정 => 레이어 출력을 그대로 다음 레이어에 넘겨줌\n",
        "                             , tf.keras.layers.SimpleRNN(units=30)\n",
        "                             , tf.keras.layers.Dense(1)\n",
        "])"
      ],
      "execution_count": null,
      "outputs": []
    },
    {
      "cell_type": "code",
      "metadata": {
        "id": "mX6M7w0yv58B"
      },
      "source": [
        "model.compile(optimizer='adam', loss='mse')"
      ],
      "execution_count": null,
      "outputs": []
    },
    {
      "cell_type": "code",
      "metadata": {
        "id": "I1uafse7wZNB",
        "outputId": "803bb065-145e-43f7-c650-bf1ccbac30be",
        "colab": {
          "base_uri": "https://localhost:8080/"
        }
      },
      "source": [
        "model.summary()"
      ],
      "execution_count": null,
      "outputs": [
        {
          "output_type": "stream",
          "text": [
            "Model: \"sequential\"\n",
            "_________________________________________________________________\n",
            "Layer (type)                 Output Shape              Param #   \n",
            "=================================================================\n",
            "simple_rnn (SimpleRNN)       (None, 100, 30)           990       \n",
            "_________________________________________________________________\n",
            "simple_rnn_1 (SimpleRNN)     (None, 30)                1830      \n",
            "_________________________________________________________________\n",
            "dense (Dense)                (None, 1)                 31        \n",
            "=================================================================\n",
            "Total params: 2,851\n",
            "Trainable params: 2,851\n",
            "Non-trainable params: 0\n",
            "_________________________________________________________________\n"
          ],
          "name": "stdout"
        }
      ]
    },
    {
      "cell_type": "code",
      "metadata": {
        "id": "tZ2gn0JFwmqp"
      },
      "source": [
        "# 학습 시키기\n",
        "\n",
        "# 어레이로 타입 변환\n",
        "X = np.array(X)\n",
        "Y = np.array(Y)"
      ],
      "execution_count": null,
      "outputs": []
    },
    {
      "cell_type": "code",
      "metadata": {
        "id": "yZsDLENVR57y",
        "outputId": "a591c8a5-7df5-4b8c-9dab-f6594033946b",
        "colab": {
          "base_uri": "https://localhost:8080/"
        }
      },
      "source": [
        "X.shape"
      ],
      "execution_count": null,
      "outputs": [
        {
          "output_type": "execute_result",
          "data": {
            "text/plain": [
              "(3000, 100, 2)"
            ]
          },
          "metadata": {
            "tags": []
          },
          "execution_count": 6
        }
      ]
    },
    {
      "cell_type": "code",
      "metadata": {
        "id": "9-s1J8M9R7hg",
        "outputId": "17f02a82-697e-4437-93a6-d0a06f6a5d5a",
        "colab": {
          "base_uri": "https://localhost:8080/"
        }
      },
      "source": [
        "Y.shape"
      ],
      "execution_count": null,
      "outputs": [
        {
          "output_type": "execute_result",
          "data": {
            "text/plain": [
              "(3000,)"
            ]
          },
          "metadata": {
            "tags": []
          },
          "execution_count": 7
        }
      ]
    },
    {
      "cell_type": "code",
      "metadata": {
        "id": "aAc4nY9tcQhC",
        "outputId": "7e84a3cc-f4ed-4465-b046-2b0bb28279fd",
        "colab": {
          "base_uri": "https://localhost:8080/"
        }
      },
      "source": [
        "Y[5]"
      ],
      "execution_count": null,
      "outputs": [
        {
          "output_type": "execute_result",
          "data": {
            "text/plain": [
              "0.28149021952336023"
            ]
          },
          "metadata": {
            "tags": []
          },
          "execution_count": 11
        }
      ]
    },
    {
      "cell_type": "markdown",
      "metadata": {
        "id": "Fxkgu8po_EQ-"
      },
      "source": [
        "- 여기서 지정되는 검증데이터는 훈련데이터와 별개로, 네트워크의 가중치에 영향을 미치지 않는다."
      ]
    },
    {
      "cell_type": "code",
      "metadata": {
        "id": "2bcrMvi6w3gh",
        "outputId": "c9b0f687-09a1-4b71-c0de-0bc3f6f4f17c",
        "colab": {
          "base_uri": "https://localhost:8080/"
        }
      },
      "source": [
        "# 2560개의 데이터만 학습시키기. 검증데이터는 20% 로 지정\n",
        "history = model.fit(X[:2560], Y[:2560], epochs=100, validation_split=0.2)"
      ],
      "execution_count": null,
      "outputs": [
        {
          "output_type": "stream",
          "text": [
            "Epoch 1/100\n",
            "64/64 [==============================] - 5s 83ms/step - loss: 0.0887 - val_loss: 0.0479\n",
            "Epoch 2/100\n",
            "64/64 [==============================] - 5s 81ms/step - loss: 0.0514 - val_loss: 0.0482\n",
            "Epoch 3/100\n",
            "64/64 [==============================] - 5s 81ms/step - loss: 0.0513 - val_loss: 0.0480\n",
            "Epoch 4/100\n",
            "64/64 [==============================] - 5s 82ms/step - loss: 0.0553 - val_loss: 0.0481\n",
            "Epoch 5/100\n",
            "64/64 [==============================] - 5s 80ms/step - loss: 0.0515 - val_loss: 0.0467\n",
            "Epoch 6/100\n",
            "64/64 [==============================] - 5s 80ms/step - loss: 0.0503 - val_loss: 0.0468\n",
            "Epoch 7/100\n",
            "64/64 [==============================] - 5s 81ms/step - loss: 0.0502 - val_loss: 0.0523\n",
            "Epoch 8/100\n",
            "64/64 [==============================] - 5s 85ms/step - loss: 0.0510 - val_loss: 0.0508\n",
            "Epoch 9/100\n",
            "64/64 [==============================] - 5s 82ms/step - loss: 0.0517 - val_loss: 0.0490\n",
            "Epoch 10/100\n",
            "64/64 [==============================] - 5s 82ms/step - loss: 0.0504 - val_loss: 0.0498\n",
            "Epoch 11/100\n",
            "64/64 [==============================] - 5s 82ms/step - loss: 0.0521 - val_loss: 0.0472\n",
            "Epoch 12/100\n",
            "64/64 [==============================] - 5s 81ms/step - loss: 0.0516 - val_loss: 0.0479\n",
            "Epoch 13/100\n",
            "64/64 [==============================] - 5s 80ms/step - loss: 0.0517 - val_loss: 0.0466\n",
            "Epoch 14/100\n",
            "64/64 [==============================] - 5s 80ms/step - loss: 0.0509 - val_loss: 0.0473\n",
            "Epoch 15/100\n",
            "64/64 [==============================] - 5s 80ms/step - loss: 0.0514 - val_loss: 0.0505\n",
            "Epoch 16/100\n",
            "64/64 [==============================] - 5s 80ms/step - loss: 0.0505 - val_loss: 0.0482\n",
            "Epoch 17/100\n",
            "64/64 [==============================] - 5s 79ms/step - loss: 0.0503 - val_loss: 0.0470\n",
            "Epoch 18/100\n",
            "64/64 [==============================] - 5s 79ms/step - loss: 0.0499 - val_loss: 0.0485\n",
            "Epoch 19/100\n",
            "64/64 [==============================] - 5s 80ms/step - loss: 0.0500 - val_loss: 0.0516\n",
            "Epoch 20/100\n",
            "64/64 [==============================] - 5s 79ms/step - loss: 0.0501 - val_loss: 0.0474\n",
            "Epoch 21/100\n",
            "64/64 [==============================] - 5s 80ms/step - loss: 0.0520 - val_loss: 0.0472\n",
            "Epoch 22/100\n",
            "64/64 [==============================] - 5s 79ms/step - loss: 0.0499 - val_loss: 0.0474\n",
            "Epoch 23/100\n",
            "64/64 [==============================] - 5s 79ms/step - loss: 0.0494 - val_loss: 0.0497\n",
            "Epoch 24/100\n",
            "64/64 [==============================] - 5s 79ms/step - loss: 0.0500 - val_loss: 0.0471\n",
            "Epoch 25/100\n",
            "64/64 [==============================] - 5s 79ms/step - loss: 0.0500 - val_loss: 0.0468\n",
            "Epoch 26/100\n",
            "64/64 [==============================] - 5s 78ms/step - loss: 0.0492 - val_loss: 0.0485\n",
            "Epoch 27/100\n",
            "64/64 [==============================] - 5s 80ms/step - loss: 0.0491 - val_loss: 0.0486\n",
            "Epoch 28/100\n",
            "64/64 [==============================] - 5s 79ms/step - loss: 0.0495 - val_loss: 0.0494\n",
            "Epoch 29/100\n",
            "64/64 [==============================] - 5s 78ms/step - loss: 0.0502 - val_loss: 0.0487\n",
            "Epoch 30/100\n",
            "64/64 [==============================] - 5s 78ms/step - loss: 0.0490 - val_loss: 0.0530\n",
            "Epoch 31/100\n",
            "64/64 [==============================] - 5s 78ms/step - loss: 0.0488 - val_loss: 0.0481\n",
            "Epoch 32/100\n",
            "64/64 [==============================] - 5s 76ms/step - loss: 0.0501 - val_loss: 0.0480\n",
            "Epoch 33/100\n",
            "64/64 [==============================] - 5s 78ms/step - loss: 0.0485 - val_loss: 0.0491\n",
            "Epoch 34/100\n",
            "64/64 [==============================] - 5s 79ms/step - loss: 0.0495 - val_loss: 0.0478\n",
            "Epoch 35/100\n",
            "64/64 [==============================] - 5s 77ms/step - loss: 0.0484 - val_loss: 0.0479\n",
            "Epoch 36/100\n",
            "64/64 [==============================] - 5s 81ms/step - loss: 0.0500 - val_loss: 0.0488\n",
            "Epoch 37/100\n",
            "64/64 [==============================] - 5s 81ms/step - loss: 0.0488 - val_loss: 0.0490\n",
            "Epoch 38/100\n",
            "64/64 [==============================] - 5s 78ms/step - loss: 0.0489 - val_loss: 0.0563\n",
            "Epoch 39/100\n",
            "64/64 [==============================] - 5s 78ms/step - loss: 0.0486 - val_loss: 0.0482\n",
            "Epoch 40/100\n",
            "64/64 [==============================] - 5s 77ms/step - loss: 0.0480 - val_loss: 0.0494\n",
            "Epoch 41/100\n",
            "64/64 [==============================] - 5s 78ms/step - loss: 0.0485 - val_loss: 0.0482\n",
            "Epoch 42/100\n",
            "64/64 [==============================] - 5s 77ms/step - loss: 0.0482 - val_loss: 0.0491\n",
            "Epoch 43/100\n",
            "64/64 [==============================] - 5s 77ms/step - loss: 0.0486 - val_loss: 0.0507\n",
            "Epoch 44/100\n",
            "64/64 [==============================] - 5s 77ms/step - loss: 0.0475 - val_loss: 0.0508\n",
            "Epoch 45/100\n",
            "64/64 [==============================] - 5s 78ms/step - loss: 0.0471 - val_loss: 0.0479\n",
            "Epoch 46/100\n",
            "64/64 [==============================] - 5s 77ms/step - loss: 0.0467 - val_loss: 0.0477\n",
            "Epoch 47/100\n",
            "64/64 [==============================] - 5s 77ms/step - loss: 0.0469 - val_loss: 0.0488\n",
            "Epoch 48/100\n",
            "64/64 [==============================] - 5s 77ms/step - loss: 0.0466 - val_loss: 0.0479\n",
            "Epoch 49/100\n",
            "64/64 [==============================] - 5s 78ms/step - loss: 0.0461 - val_loss: 0.0503\n",
            "Epoch 50/100\n",
            "64/64 [==============================] - 5s 83ms/step - loss: 0.0457 - val_loss: 0.0532\n",
            "Epoch 51/100\n",
            "64/64 [==============================] - 5s 82ms/step - loss: 0.0470 - val_loss: 0.0491\n",
            "Epoch 52/100\n",
            "64/64 [==============================] - 5s 79ms/step - loss: 0.0466 - val_loss: 0.0491\n",
            "Epoch 53/100\n",
            "64/64 [==============================] - 5s 81ms/step - loss: 0.0461 - val_loss: 0.0515\n",
            "Epoch 54/100\n",
            "64/64 [==============================] - 5s 81ms/step - loss: 0.0454 - val_loss: 0.0495\n",
            "Epoch 55/100\n",
            "64/64 [==============================] - 5s 84ms/step - loss: 0.0452 - val_loss: 0.0501\n",
            "Epoch 56/100\n",
            "64/64 [==============================] - 5s 81ms/step - loss: 0.0459 - val_loss: 0.0501\n",
            "Epoch 57/100\n",
            "64/64 [==============================] - 5s 81ms/step - loss: 0.0446 - val_loss: 0.0528\n",
            "Epoch 58/100\n",
            "64/64 [==============================] - 5s 84ms/step - loss: 0.0455 - val_loss: 0.0498\n",
            "Epoch 59/100\n",
            "64/64 [==============================] - 5s 83ms/step - loss: 0.0456 - val_loss: 0.0495\n",
            "Epoch 60/100\n",
            "64/64 [==============================] - 5s 84ms/step - loss: 0.0444 - val_loss: 0.0507\n",
            "Epoch 61/100\n",
            "64/64 [==============================] - 5s 84ms/step - loss: 0.0437 - val_loss: 0.0506\n",
            "Epoch 62/100\n",
            "64/64 [==============================] - 5s 83ms/step - loss: 0.0434 - val_loss: 0.0507\n",
            "Epoch 63/100\n",
            "64/64 [==============================] - 5s 85ms/step - loss: 0.0448 - val_loss: 0.0510\n",
            "Epoch 64/100\n",
            "64/64 [==============================] - 5s 83ms/step - loss: 0.0433 - val_loss: 0.0504\n",
            "Epoch 65/100\n",
            "64/64 [==============================] - 5s 82ms/step - loss: 0.0426 - val_loss: 0.0525\n",
            "Epoch 66/100\n",
            "64/64 [==============================] - 5s 83ms/step - loss: 0.0427 - val_loss: 0.0553\n",
            "Epoch 67/100\n",
            "64/64 [==============================] - 5s 83ms/step - loss: 0.0422 - val_loss: 0.0531\n",
            "Epoch 68/100\n",
            "64/64 [==============================] - 5s 81ms/step - loss: 0.0410 - val_loss: 0.0540\n",
            "Epoch 69/100\n",
            "64/64 [==============================] - 5s 82ms/step - loss: 0.0414 - val_loss: 0.0558\n",
            "Epoch 70/100\n",
            "64/64 [==============================] - 5s 82ms/step - loss: 0.0414 - val_loss: 0.0526\n",
            "Epoch 71/100\n",
            "64/64 [==============================] - 5s 82ms/step - loss: 0.0409 - val_loss: 0.0529\n",
            "Epoch 72/100\n",
            "64/64 [==============================] - 5s 81ms/step - loss: 0.0402 - val_loss: 0.0529\n",
            "Epoch 73/100\n",
            "64/64 [==============================] - 5s 81ms/step - loss: 0.0410 - val_loss: 0.0513\n",
            "Epoch 74/100\n",
            "64/64 [==============================] - 5s 82ms/step - loss: 0.0402 - val_loss: 0.0539\n",
            "Epoch 75/100\n",
            "64/64 [==============================] - 5s 83ms/step - loss: 0.0401 - val_loss: 0.0518\n",
            "Epoch 76/100\n",
            "64/64 [==============================] - 5s 82ms/step - loss: 0.0388 - val_loss: 0.0518\n",
            "Epoch 77/100\n",
            "64/64 [==============================] - 5s 82ms/step - loss: 0.0386 - val_loss: 0.0582\n",
            "Epoch 78/100\n",
            "64/64 [==============================] - 5s 82ms/step - loss: 0.0394 - val_loss: 0.0530\n",
            "Epoch 79/100\n",
            "64/64 [==============================] - 5s 83ms/step - loss: 0.0381 - val_loss: 0.0571\n",
            "Epoch 80/100\n",
            "64/64 [==============================] - 5s 82ms/step - loss: 0.0385 - val_loss: 0.0563\n",
            "Epoch 81/100\n",
            "64/64 [==============================] - 5s 81ms/step - loss: 0.0370 - val_loss: 0.0543\n",
            "Epoch 82/100\n",
            "64/64 [==============================] - 5s 81ms/step - loss: 0.0366 - val_loss: 0.0557\n",
            "Epoch 83/100\n",
            "64/64 [==============================] - 5s 78ms/step - loss: 0.0375 - val_loss: 0.0570\n",
            "Epoch 84/100\n",
            "64/64 [==============================] - 5s 77ms/step - loss: 0.0360 - val_loss: 0.0549\n",
            "Epoch 85/100\n",
            "64/64 [==============================] - 5s 75ms/step - loss: 0.0354 - val_loss: 0.0589\n",
            "Epoch 86/100\n",
            "64/64 [==============================] - 5s 78ms/step - loss: 0.0359 - val_loss: 0.0560\n",
            "Epoch 87/100\n",
            "64/64 [==============================] - 5s 77ms/step - loss: 0.0355 - val_loss: 0.0580\n",
            "Epoch 88/100\n",
            "64/64 [==============================] - 5s 77ms/step - loss: 0.0358 - val_loss: 0.0600\n",
            "Epoch 89/100\n",
            "64/64 [==============================] - 5s 79ms/step - loss: 0.0345 - val_loss: 0.0555\n",
            "Epoch 90/100\n",
            "64/64 [==============================] - 5s 77ms/step - loss: 0.0352 - val_loss: 0.0586\n",
            "Epoch 91/100\n",
            "64/64 [==============================] - 5s 76ms/step - loss: 0.0356 - val_loss: 0.0596\n",
            "Epoch 92/100\n",
            "64/64 [==============================] - 5s 79ms/step - loss: 0.0340 - val_loss: 0.0590\n",
            "Epoch 93/100\n",
            "64/64 [==============================] - 5s 84ms/step - loss: 0.0324 - val_loss: 0.0624\n",
            "Epoch 94/100\n",
            "64/64 [==============================] - 5s 86ms/step - loss: 0.0333 - val_loss: 0.0593\n",
            "Epoch 95/100\n",
            "64/64 [==============================] - 5s 82ms/step - loss: 0.0324 - val_loss: 0.0573\n",
            "Epoch 96/100\n",
            "64/64 [==============================] - 6s 87ms/step - loss: 0.0327 - val_loss: 0.0625\n",
            "Epoch 97/100\n",
            "64/64 [==============================] - 5s 84ms/step - loss: 0.0312 - val_loss: 0.0598\n",
            "Epoch 98/100\n",
            "64/64 [==============================] - 5s 83ms/step - loss: 0.0330 - val_loss: 0.0587\n",
            "Epoch 99/100\n",
            "64/64 [==============================] - 5s 80ms/step - loss: 0.0307 - val_loss: 0.0616\n",
            "Epoch 100/100\n",
            "64/64 [==============================] - 5s 80ms/step - loss: 0.0310 - val_loss: 0.0611\n"
          ],
          "name": "stdout"
        }
      ]
    },
    {
      "cell_type": "code",
      "metadata": {
        "id": "oFKRa2xhw-E5",
        "outputId": "12d386f4-6a65-4f30-be0f-1cb68f8e2c2b",
        "colab": {
          "base_uri": "https://localhost:8080/",
          "height": 279
        }
      },
      "source": [
        "# 경향 파악 위해 시각화\n",
        "import matplotlib.pyplot as plt\n",
        "plt.plot(history.history['loss'], 'b-', label='loss')\n",
        "plt.plot(history.history['val_loss'], 'r--', label='val_loss')\n",
        "plt.xlabel('Epoch')\n",
        "plt.legend()\n",
        "plt.show()"
      ],
      "execution_count": null,
      "outputs": [
        {
          "output_type": "display_data",
          "data": {
            "image/png": "[encoded data removed]",
            "text/plain": [
              "<Figure size 432x288 with 1 Axes>"
            ]
          },
          "metadata": {
            "tags": [],
            "needs_background": "light"
          }
        }
      ]
    },
    {
      "cell_type": "markdown",
      "metadata": {
        "id": "FTgKX1EOzz0A"
      },
      "source": [
        "- 전형적인 과적합 그래프가 나온다.\n",
        "- 즉 학습시킨 데이터는 학습을 반복할수록(가중치 변경이 반복) loss가 줄어들지만, valudation data는 불안정하다. \n"
      ]
    },
    {
      "cell_type": "code",
      "metadata": {
        "id": "LysgdtI0zn4z",
        "outputId": "c4ef7e1f-aabe-400d-b84e-a3006f42f4b1",
        "colab": {
          "base_uri": "https://localhost:8080/"
        }
      },
      "source": [
        "#  전체 테스트 데이터 결과 확인\n",
        "\n",
        "model.evaluate(X[2560:], Y[2560:])"
      ],
      "execution_count": null,
      "outputs": [
        {
          "output_type": "stream",
          "text": [
            "14/14 [==============================] - 0s 12ms/step - loss: 0.0669\n"
          ],
          "name": "stdout"
        },
        {
          "output_type": "execute_result",
          "data": {
            "text/plain": [
              "0.06693551689386368"
            ]
          },
          "metadata": {
            "tags": []
          },
          "execution_count": 44
        }
      ]
    },
    {
      "cell_type": "markdown",
      "metadata": {
        "id": "WAk0kWM926D_"
      },
      "source": [
        "- 100번째 epoch의 val_loss 인  0.0611 보다도 높다.  => 네트워크가 학습 과정에서 보지 못했던 데이터에 대해서 잘 예측하지 못한다"
      ]
    },
    {
      "cell_type": "code",
      "metadata": {
        "id": "452NA1PP0uc4",
        "outputId": "4ad1c597-7cb6-44cc-9825-722f698437de",
        "colab": {
          "base_uri": "https://localhost:8080/"
        }
      },
      "source": [
        "pred[0][0]"
      ],
      "execution_count": null,
      "outputs": [
        {
          "output_type": "execute_result",
          "data": {
            "text/plain": [
              "0.10519735"
            ]
          },
          "metadata": {
            "tags": []
          },
          "execution_count": 39
        }
      ]
    },
    {
      "cell_type": "code",
      "metadata": {
        "id": "CUjiSs2L0sVg",
        "outputId": "d5085c96-b6db-44d6-91ea-85706e317ebb",
        "colab": {
          "base_uri": "https://localhost:8080/"
        }
      },
      "source": [
        "# 5개 테스트 데이터에 대한 예측  표시\n",
        "pred = model.predict(X[2560:2560+5])\n",
        "for i in range(5):\n",
        "  print(Y[2560+i],'\\t', pred[i][0], '\\tdiff:', abs(pred[i][0]-Y[2560+i]))\n",
        "\n",
        "# 전체 테스트 데이터에 대한 정확도 확인 (오차가 0.04 이상인 경우 오답으로 처리)\n",
        "prediction = model.predict(X[2560:])\n",
        "# 오차가 0.04인경우 cnt할 변수 fail 선언\n",
        "fail = 0\n",
        "for i in range(len(prediction)):\n",
        "  if abs(prediction[i][0]-Y[2560+i])  > 0.04:\n",
        "    fail +=1\n",
        "print('correctness: ', (440-fail)/440*100, '%')\n"
      ],
      "execution_count": null,
      "outputs": [
        {
          "output_type": "stream",
          "text": [
            "0.18982348094415957 \t 0.10519735 \tdiff: 0.08462613324356372\n",
            "0.674710649073077 \t 0.23314637 \tdiff: 0.4415642796158321\n",
            "0.6782049608977108 \t 0.33183023 \tdiff: 0.34637472756221577\n",
            "0.019594320405173397 \t 0.107528545 \tdiff: 0.08793422455723277\n",
            "0.014357379445345635 \t 0.18322265 \tdiff: 0.1688652720362828\n",
            "correctness:  10.227272727272728 %\n"
          ],
          "name": "stdout"
        }
      ]
    },
    {
      "cell_type": "markdown",
      "metadata": {
        "id": "k-deVfwV1yPX"
      },
      "source": [
        "- 10% 정도의 정확도로 정확도가 매우 낮다\n"
      ]
    },
    {
      "cell_type": "markdown",
      "metadata": {
        "id": "aK_AIQW23GuP"
      },
      "source": [
        "## 2. LSTM 레이어로 동일한 문제를 풀어보자"
      ]
    },
    {
      "cell_type": "code",
      "metadata": {
        "id": "W8wEFch_D64f"
      },
      "source": [
        "import tensorflow as tf"
      ],
      "execution_count": null,
      "outputs": []
    },
    {
      "cell_type": "code",
      "metadata": {
        "id": "UCOD5AS61wi_"
      },
      "source": [
        "# 모델 정의\n",
        "model = tf.keras.Sequential([\n",
        "                               tf.keras.layers.LSTM(units=30, return_sequences=True, input_shape=[100,2])\n",
        "                             , tf.keras.layers.LSTM(units=30)\n",
        "                             , tf.keras.layers.Dense(1)\n",
        "])"
      ],
      "execution_count": null,
      "outputs": []
    },
    {
      "cell_type": "markdown",
      "metadata": {
        "id": "IcIt2X37EJMW"
      },
      "source": [
        "metrics: List of metrics to be evaluated by the model during training\n",
        "      and testing. Each of this can be a string (name of a built-in\n",
        "      function), function or a tf.keras.metrics.Metric instance. See\n",
        "      tf.keras.metrics. Typically you will use metrics=['accuracy']. A\n",
        "      function is any callable with the signature result = fn(y_true,\n",
        "      y_pred). To specify different metrics for different outputs of a\n",
        "      multi-output model, you could also pass a dictionary, such as\n",
        "        metrics={'output_a': 'accuracy', 'output_b': ['accuracy', 'mse']}.\n",
        "          You can also pass a list (len = len(outputs)) of lists of metrics\n",
        "          such as metrics=[['accuracy'], ['accuracy', 'mse']] or\n",
        "          metrics=['accuracy', ['accuracy', 'mse']]. When you pass the\n",
        "          strings 'accuracy' or 'acc', we convert this to one of\n",
        "          tf.keras.metrics.BinaryAccuracy,\n",
        "          tf.keras.metrics.CategoricalAccuracy,\n",
        "          tf.keras.metrics.SparseCategoricalAccuracy based on the loss\n",
        "          function used and the model output shape. We do a similar\n",
        "          conversion for the strings 'crossentropy' and 'ce' as well."
      ]
    },
    {
      "cell_type": "code",
      "metadata": {
        "id": "0SQwmpkN2h2_",
        "outputId": "44e7b911-ddef-4aa0-fcc4-cf650d294c38",
        "colab": {
          "base_uri": "https://localhost:8080/"
        }
      },
      "source": [
        "model.compile(optimizer='adam', loss='mse', metrics=None )\n",
        "model.summary()"
      ],
      "execution_count": null,
      "outputs": [
        {
          "output_type": "stream",
          "text": [
            "Model: \"sequential\"\n",
            "_________________________________________________________________\n",
            "Layer (type)                 Output Shape              Param #   \n",
            "=================================================================\n",
            "lstm (LSTM)                  (None, 100, 30)           3960      \n",
            "_________________________________________________________________\n",
            "lstm_1 (LSTM)                (None, 30)                7320      \n",
            "_________________________________________________________________\n",
            "dense (Dense)                (None, 1)                 31        \n",
            "=================================================================\n",
            "Total params: 11,311\n",
            "Trainable params: 11,311\n",
            "Non-trainable params: 0\n",
            "_________________________________________________________________\n"
          ],
          "name": "stdout"
        }
      ]
    },
    {
      "cell_type": "markdown",
      "metadata": {
        "id": "4Xy8KriQ3y0n"
      },
      "source": [
        "- param# 가 훨씬 늘어있다(상대적으로 복잡한 구조)\n",
        "- 그러나 데이터나 다른 조건들은 모두 동일, 즉 SimpleRNN을 LSTM으로 바꾼 것 외에는 없다\n",
        "- 여기서는 정확도를 사용자가 지정한 기준에 따라 나오기 때문에 metrics 미지정 (metrics=None) \n",
        "- metrics 로 인해 회귀와 분류가 나눠지게 될것이다.Typically you will use metrics=['accuracy']"
      ]
    },
    {
      "cell_type": "code",
      "metadata": {
        "id": "RnjdDOyc3uGx",
        "outputId": "67973893-2a89-46e6-8a26-9be96ae139dc",
        "colab": {
          "base_uri": "https://localhost:8080/"
        }
      },
      "source": [
        "# 여기서 지정되는 검증데이터는 훈련데이터와 별개로, 네트워크의 가중치에 영향을 미치지 않는다.\n",
        "history = model.fit(X[:2560],Y[:2560], epochs=100, validation_split=0.2, batch_size=None)"
      ],
      "execution_count": null,
      "outputs": [
        {
          "output_type": "stream",
          "text": [
            "Epoch 1/100\n",
            "64/64 [==============================] - 1s 20ms/step - loss: 0.0547 - val_loss: 0.0463\n",
            "Epoch 2/100\n",
            "64/64 [==============================] - 1s 10ms/step - loss: 0.0501 - val_loss: 0.0462\n",
            "Epoch 3/100\n",
            "64/64 [==============================] - 1s 10ms/step - loss: 0.0506 - val_loss: 0.0463\n",
            "Epoch 4/100\n",
            "64/64 [==============================] - 1s 10ms/step - loss: 0.0499 - val_loss: 0.0464\n",
            "Epoch 5/100\n",
            "64/64 [==============================] - 1s 10ms/step - loss: 0.0498 - val_loss: 0.0462\n",
            "Epoch 6/100\n",
            "64/64 [==============================] - 1s 10ms/step - loss: 0.0499 - val_loss: 0.0463\n",
            "Epoch 7/100\n",
            "64/64 [==============================] - 1s 10ms/step - loss: 0.0500 - val_loss: 0.0468\n",
            "Epoch 8/100\n",
            "64/64 [==============================] - 1s 10ms/step - loss: 0.0499 - val_loss: 0.0463\n",
            "Epoch 9/100\n",
            "64/64 [==============================] - 1s 10ms/step - loss: 0.0497 - val_loss: 0.0463\n",
            "Epoch 10/100\n",
            "64/64 [==============================] - 1s 10ms/step - loss: 0.0494 - val_loss: 0.0473\n",
            "Epoch 11/100\n",
            "64/64 [==============================] - 1s 10ms/step - loss: 0.0498 - val_loss: 0.0463\n",
            "Epoch 12/100\n",
            "64/64 [==============================] - 1s 10ms/step - loss: 0.0495 - val_loss: 0.0462\n",
            "Epoch 13/100\n",
            "64/64 [==============================] - 1s 10ms/step - loss: 0.0495 - val_loss: 0.0465\n",
            "Epoch 14/100\n",
            "64/64 [==============================] - 1s 10ms/step - loss: 0.0494 - val_loss: 0.0466\n",
            "Epoch 15/100\n",
            "64/64 [==============================] - 1s 10ms/step - loss: 0.0494 - val_loss: 0.0462\n",
            "Epoch 16/100\n",
            "64/64 [==============================] - 1s 11ms/step - loss: 0.0496 - val_loss: 0.0462\n",
            "Epoch 17/100\n",
            "64/64 [==============================] - 1s 10ms/step - loss: 0.0493 - val_loss: 0.0465\n",
            "Epoch 18/100\n",
            "64/64 [==============================] - 1s 10ms/step - loss: 0.0498 - val_loss: 0.0463\n",
            "Epoch 19/100\n",
            "64/64 [==============================] - 1s 11ms/step - loss: 0.0491 - val_loss: 0.0461\n",
            "Epoch 20/100\n",
            "64/64 [==============================] - 1s 11ms/step - loss: 0.0493 - val_loss: 0.0467\n",
            "Epoch 21/100\n",
            "64/64 [==============================] - 1s 10ms/step - loss: 0.0491 - val_loss: 0.0464\n",
            "Epoch 22/100\n",
            "64/64 [==============================] - 1s 10ms/step - loss: 0.0493 - val_loss: 0.0466\n",
            "Epoch 23/100\n",
            "64/64 [==============================] - 1s 10ms/step - loss: 0.0491 - val_loss: 0.0462\n",
            "Epoch 24/100\n",
            "64/64 [==============================] - 1s 10ms/step - loss: 0.0491 - val_loss: 0.0458\n",
            "Epoch 25/100\n",
            "64/64 [==============================] - 1s 10ms/step - loss: 0.0485 - val_loss: 0.0457\n",
            "Epoch 26/100\n",
            "64/64 [==============================] - 1s 10ms/step - loss: 0.0481 - val_loss: 0.0429\n",
            "Epoch 27/100\n",
            "64/64 [==============================] - 1s 10ms/step - loss: 0.0478 - val_loss: 0.0451\n",
            "Epoch 28/100\n",
            "64/64 [==============================] - 1s 11ms/step - loss: 0.0437 - val_loss: 0.0316\n",
            "Epoch 29/100\n",
            "64/64 [==============================] - 1s 11ms/step - loss: 0.0217 - val_loss: 0.0141\n",
            "Epoch 30/100\n",
            "64/64 [==============================] - 1s 10ms/step - loss: 0.0090 - val_loss: 0.0089\n",
            "Epoch 31/100\n",
            "64/64 [==============================] - 1s 11ms/step - loss: 0.0059 - val_loss: 0.0052\n",
            "Epoch 32/100\n",
            "64/64 [==============================] - 1s 11ms/step - loss: 0.0046 - val_loss: 0.0057\n",
            "Epoch 33/100\n",
            "64/64 [==============================] - 1s 10ms/step - loss: 0.0040 - val_loss: 0.0040\n",
            "Epoch 34/100\n",
            "64/64 [==============================] - 1s 11ms/step - loss: 0.0034 - val_loss: 0.0037\n",
            "Epoch 35/100\n",
            "64/64 [==============================] - 1s 11ms/step - loss: 0.0026 - val_loss: 0.0030\n",
            "Epoch 36/100\n",
            "64/64 [==============================] - 1s 11ms/step - loss: 0.0021 - val_loss: 0.0019\n",
            "Epoch 37/100\n",
            "64/64 [==============================] - 1s 11ms/step - loss: 0.0021 - val_loss: 0.0032\n",
            "Epoch 38/100\n",
            "64/64 [==============================] - 1s 11ms/step - loss: 0.0017 - val_loss: 0.0020\n",
            "Epoch 39/100\n",
            "64/64 [==============================] - 1s 11ms/step - loss: 0.0016 - val_loss: 0.0031\n",
            "Epoch 40/100\n",
            "64/64 [==============================] - 1s 10ms/step - loss: 0.0017 - val_loss: 0.0012\n",
            "Epoch 41/100\n",
            "64/64 [==============================] - 1s 10ms/step - loss: 0.0015 - val_loss: 0.0024\n",
            "Epoch 42/100\n",
            "64/64 [==============================] - 1s 10ms/step - loss: 0.0013 - val_loss: 0.0026\n",
            "Epoch 43/100\n",
            "64/64 [==============================] - 1s 11ms/step - loss: 0.0020 - val_loss: 0.0021\n",
            "Epoch 44/100\n",
            "64/64 [==============================] - 1s 11ms/step - loss: 0.0012 - val_loss: 0.0016\n",
            "Epoch 45/100\n",
            "64/64 [==============================] - 1s 10ms/step - loss: 0.0012 - val_loss: 0.0010\n",
            "Epoch 46/100\n",
            "64/64 [==============================] - 1s 11ms/step - loss: 0.0013 - val_loss: 0.0011\n",
            "Epoch 47/100\n",
            "64/64 [==============================] - 1s 11ms/step - loss: 0.0013 - val_loss: 7.6580e-04\n",
            "Epoch 48/100\n",
            "64/64 [==============================] - 1s 11ms/step - loss: 9.8943e-04 - val_loss: 7.7191e-04\n",
            "Epoch 49/100\n",
            "64/64 [==============================] - 1s 11ms/step - loss: 8.7741e-04 - val_loss: 7.1127e-04\n",
            "Epoch 50/100\n",
            "64/64 [==============================] - 1s 11ms/step - loss: 0.0011 - val_loss: 8.0471e-04\n",
            "Epoch 51/100\n",
            "64/64 [==============================] - 1s 11ms/step - loss: 9.8104e-04 - val_loss: 8.7814e-04\n",
            "Epoch 52/100\n",
            "64/64 [==============================] - 1s 11ms/step - loss: 0.0014 - val_loss: 7.9797e-04\n",
            "Epoch 53/100\n",
            "64/64 [==============================] - 1s 11ms/step - loss: 8.9268e-04 - val_loss: 8.7860e-04\n",
            "Epoch 54/100\n",
            "64/64 [==============================] - 1s 10ms/step - loss: 9.3403e-04 - val_loss: 0.0012\n",
            "Epoch 55/100\n",
            "64/64 [==============================] - 1s 11ms/step - loss: 9.2652e-04 - val_loss: 8.3219e-04\n",
            "Epoch 56/100\n",
            "64/64 [==============================] - 1s 11ms/step - loss: 6.7802e-04 - val_loss: 6.5005e-04\n",
            "Epoch 57/100\n",
            "64/64 [==============================] - 1s 10ms/step - loss: 8.1743e-04 - val_loss: 5.6249e-04\n",
            "Epoch 58/100\n",
            "64/64 [==============================] - 1s 11ms/step - loss: 9.6384e-04 - val_loss: 7.2157e-04\n",
            "Epoch 59/100\n",
            "64/64 [==============================] - 1s 11ms/step - loss: 9.5067e-04 - val_loss: 6.8050e-04\n",
            "Epoch 60/100\n",
            "64/64 [==============================] - 1s 11ms/step - loss: 6.5549e-04 - val_loss: 7.4695e-04\n",
            "Epoch 61/100\n",
            "64/64 [==============================] - 1s 10ms/step - loss: 7.0723e-04 - val_loss: 4.6056e-04\n",
            "Epoch 62/100\n",
            "64/64 [==============================] - 1s 10ms/step - loss: 5.9812e-04 - val_loss: 8.9434e-04\n",
            "Epoch 63/100\n",
            "64/64 [==============================] - 1s 10ms/step - loss: 6.3565e-04 - val_loss: 8.6560e-04\n",
            "Epoch 64/100\n",
            "64/64 [==============================] - 1s 10ms/step - loss: 6.7262e-04 - val_loss: 4.4213e-04\n",
            "Epoch 65/100\n",
            "64/64 [==============================] - 1s 10ms/step - loss: 5.8442e-04 - val_loss: 4.7581e-04\n",
            "Epoch 66/100\n",
            "64/64 [==============================] - 1s 11ms/step - loss: 7.3027e-04 - val_loss: 7.4854e-04\n",
            "Epoch 67/100\n",
            "64/64 [==============================] - 1s 10ms/step - loss: 4.9209e-04 - val_loss: 4.3630e-04\n",
            "Epoch 68/100\n",
            "64/64 [==============================] - 1s 11ms/step - loss: 4.7592e-04 - val_loss: 4.6875e-04\n",
            "Epoch 69/100\n",
            "64/64 [==============================] - 1s 10ms/step - loss: 5.1490e-04 - val_loss: 0.0011\n",
            "Epoch 70/100\n",
            "64/64 [==============================] - 1s 10ms/step - loss: 6.2903e-04 - val_loss: 3.5898e-04\n",
            "Epoch 71/100\n",
            "64/64 [==============================] - 1s 10ms/step - loss: 6.1636e-04 - val_loss: 0.0010\n",
            "Epoch 72/100\n",
            "64/64 [==============================] - 1s 11ms/step - loss: 6.6882e-04 - val_loss: 8.7392e-04\n",
            "Epoch 73/100\n",
            "64/64 [==============================] - 1s 10ms/step - loss: 5.1631e-04 - val_loss: 7.9707e-04\n",
            "Epoch 74/100\n",
            "64/64 [==============================] - 1s 10ms/step - loss: 3.9570e-04 - val_loss: 3.7380e-04\n",
            "Epoch 75/100\n",
            "64/64 [==============================] - 1s 11ms/step - loss: 4.2485e-04 - val_loss: 6.1160e-04\n",
            "Epoch 76/100\n",
            "64/64 [==============================] - 1s 11ms/step - loss: 5.0145e-04 - val_loss: 3.5309e-04\n",
            "Epoch 77/100\n",
            "64/64 [==============================] - 1s 10ms/step - loss: 4.0997e-04 - val_loss: 3.7526e-04\n",
            "Epoch 78/100\n",
            "64/64 [==============================] - 1s 10ms/step - loss: 3.9329e-04 - val_loss: 3.0395e-04\n",
            "Epoch 79/100\n",
            "64/64 [==============================] - 1s 10ms/step - loss: 6.1087e-04 - val_loss: 4.8215e-04\n",
            "Epoch 80/100\n",
            "64/64 [==============================] - 1s 11ms/step - loss: 3.1079e-04 - val_loss: 3.2585e-04\n",
            "Epoch 81/100\n",
            "64/64 [==============================] - 1s 10ms/step - loss: 0.0011 - val_loss: 6.1572e-04\n",
            "Epoch 82/100\n",
            "64/64 [==============================] - 1s 10ms/step - loss: 5.1428e-04 - val_loss: 4.1181e-04\n",
            "Epoch 83/100\n",
            "64/64 [==============================] - 1s 10ms/step - loss: 3.8546e-04 - val_loss: 3.5287e-04\n",
            "Epoch 84/100\n",
            "64/64 [==============================] - 1s 10ms/step - loss: 2.6659e-04 - val_loss: 2.7496e-04\n",
            "Epoch 85/100\n",
            "64/64 [==============================] - 1s 10ms/step - loss: 3.8038e-04 - val_loss: 9.9263e-04\n",
            "Epoch 86/100\n",
            "64/64 [==============================] - 1s 10ms/step - loss: 4.0383e-04 - val_loss: 3.2643e-04\n",
            "Epoch 87/100\n",
            "64/64 [==============================] - 1s 10ms/step - loss: 3.8001e-04 - val_loss: 4.7124e-04\n",
            "Epoch 88/100\n",
            "64/64 [==============================] - 1s 11ms/step - loss: 4.0205e-04 - val_loss: 4.1678e-04\n",
            "Epoch 89/100\n",
            "64/64 [==============================] - 1s 10ms/step - loss: 5.8538e-04 - val_loss: 4.8426e-04\n",
            "Epoch 90/100\n",
            "64/64 [==============================] - 1s 10ms/step - loss: 3.6813e-04 - val_loss: 6.6425e-04\n",
            "Epoch 91/100\n",
            "64/64 [==============================] - 1s 11ms/step - loss: 4.6923e-04 - val_loss: 2.5172e-04\n",
            "Epoch 92/100\n",
            "64/64 [==============================] - 1s 10ms/step - loss: 3.1597e-04 - val_loss: 2.6440e-04\n",
            "Epoch 93/100\n",
            "64/64 [==============================] - 1s 11ms/step - loss: 7.0374e-04 - val_loss: 3.6161e-04\n",
            "Epoch 94/100\n",
            "64/64 [==============================] - 1s 11ms/step - loss: 3.4594e-04 - val_loss: 3.5937e-04\n",
            "Epoch 95/100\n",
            "64/64 [==============================] - 1s 10ms/step - loss: 2.8386e-04 - val_loss: 3.6563e-04\n",
            "Epoch 96/100\n",
            "64/64 [==============================] - 1s 10ms/step - loss: 3.6824e-04 - val_loss: 2.6932e-04\n",
            "Epoch 97/100\n",
            "64/64 [==============================] - 1s 10ms/step - loss: 2.5426e-04 - val_loss: 4.6174e-04\n",
            "Epoch 98/100\n",
            "64/64 [==============================] - 1s 10ms/step - loss: 3.7293e-04 - val_loss: 2.5015e-04\n",
            "Epoch 99/100\n",
            "64/64 [==============================] - 1s 10ms/step - loss: 2.2728e-04 - val_loss: 3.9602e-04\n",
            "Epoch 100/100\n",
            "64/64 [==============================] - 1s 10ms/step - loss: 2.7641e-04 - val_loss: 2.3873e-04\n"
          ],
          "name": "stdout"
        }
      ]
    },
    {
      "cell_type": "markdown",
      "metadata": {
        "id": "Hri_6Nps4mPf"
      },
      "source": [
        "- 이거 왜 속도도 더 빠르지?"
      ]
    },
    {
      "cell_type": "markdown",
      "metadata": {
        "id": "egtAXjpbIXON"
      },
      "source": [
        "- batch_size: learning rate 와 같은 개념인듯 -batch_size will default to 32.\n",
        "        Integer or None.\n",
        "        Number of samples per gradient update.\n",
        "        If unspecified, batch_size will default to 32.\n",
        "        Do not specify the batch_size if your data is in the\n",
        "        form of datasets, generators, or keras.utils.Sequence instances\n",
        "        (since they generate batches)."
      ]
    },
    {
      "cell_type": "code",
      "metadata": {
        "id": "pEfg2x494vSG",
        "outputId": "e2b6e636-b0aa-4add-c6db-9517e6e4fe27",
        "colab": {
          "base_uri": "https://localhost:8080/"
        }
      },
      "source": [
        "# 학습된 객체의 history 속성안에 딕셔너리 구조로 loss와 val_loss를 확인할수 있다.\n",
        "history.history.keys()"
      ],
      "execution_count": null,
      "outputs": [
        {
          "output_type": "execute_result",
          "data": {
            "text/plain": [
              "dict_keys(['loss', 'val_loss'])"
            ]
          },
          "metadata": {
            "tags": []
          },
          "execution_count": 52
        }
      ]
    },
    {
      "cell_type": "code",
      "metadata": {
        "id": "m2tIBw3H4LpG",
        "outputId": "7aa39537-5d20-417a-889d-dc0645e736bc",
        "colab": {
          "base_uri": "https://localhost:8080/",
          "height": 265
        }
      },
      "source": [
        "# 시각화\n",
        "plt.plot(history.history['loss'], 'b-', label ='loss')\n",
        "plt.plot(history.history['val_loss'], 'r--', label='val_loss')\n",
        "plt.legend()\n",
        "plt.show()"
      ],
      "execution_count": null,
      "outputs": [
        {
          "output_type": "display_data",
          "data": {
            "image/png": "[encoded data removed]",
            "text/plain": [
              "<Figure size 432x288 with 1 Axes>"
            ]
          },
          "metadata": {
            "tags": [],
            "needs_background": "light"
          }
        }
      ]
    },
    {
      "cell_type": "markdown",
      "metadata": {
        "id": "-bpMaIme5EQG"
      },
      "source": [
        "- loss와 val_loss 모두 매우 작은값으로 수렴하고 있다."
      ]
    },
    {
      "cell_type": "code",
      "metadata": {
        "id": "puNVFJkd5CvK",
        "outputId": "37fe70b2-2ccf-485f-8d5f-0316124c6868",
        "colab": {
          "base_uri": "https://localhost:8080/"
        }
      },
      "source": [
        "# 테스트 데이터로 확인하기\n",
        "model.evaluate(X[2560:], Y[2560:])"
      ],
      "execution_count": null,
      "outputs": [
        {
          "output_type": "stream",
          "text": [
            "14/14 [==============================] - 0s 5ms/step - loss: 2.0366e-04\n"
          ],
          "name": "stdout"
        },
        {
          "output_type": "execute_result",
          "data": {
            "text/plain": [
              "0.00020366256649140269"
            ]
          },
          "metadata": {
            "tags": []
          },
          "execution_count": 54
        }
      ]
    },
    {
      "cell_type": "markdown",
      "metadata": {
        "id": "wOcwoGuC5Xyg"
      },
      "source": [
        "- 테스트 데이터에 대해서도 0.0002와 같이 매우 작은 val_loss 를 보인다"
      ]
    },
    {
      "cell_type": "code",
      "metadata": {
        "id": "oo92LR6E5REX",
        "outputId": "61401543-f2cd-49bc-9143-9b9f0a4843a1",
        "colab": {
          "base_uri": "https://localhost:8080/"
        }
      },
      "source": [
        "# 5개 테스트 데이터에 대한 예측  표시\n",
        "pred = model.predict(X[2560:2560+5])\n",
        "for i in range(5):\n",
        "  print(Y[2560+i],'\\t', pred[i][0], '\\tdiff:', abs(pred[i][0]-Y[2560+i]))\n",
        "\n",
        "# 전체 테스트 데이터에 대한 정확도 확인 (오차가 0.04 이상인 경우 오답으로 처리)\n",
        "prediction = model.predict(X[2560:])\n",
        "# 오차가 0.04인경우 cnt할 변수 fail 선언\n",
        "fail = 0\n",
        "for i in range(len(prediction)):\n",
        "  if abs(prediction[i][0]-Y[2560+i])  > 0.04:\n",
        "    fail +=1\n",
        "print('correctness: ', (440-fail)/440*100, '%')"
      ],
      "execution_count": null,
      "outputs": [
        {
          "output_type": "stream",
          "text": [
            "0.18982348094415957 \t 0.17889759 \tdiff: 0.010925891499045437\n",
            "0.674710649073077 \t 0.677333 \tdiff: 0.002622348249005535\n",
            "0.6782049608977108 \t 0.65875083 \tdiff: 0.019454128816869698\n",
            "0.019594320405173397 \t 0.017818503 \tdiff: 0.0017758173233748432\n",
            "0.014357379445345635 \t -0.0051757544 \tdiff: 0.019533133873255486\n",
            "correctness:  98.18181818181819 %\n"
          ],
          "name": "stdout"
        }
      ]
    },
    {
      "cell_type": "markdown",
      "metadata": {
        "id": "MWbZobwj5hbI"
      },
      "source": [
        "- 정확도는 98% 로 매우 높게 나왔다"
      ]
    },
    {
      "cell_type": "markdown",
      "metadata": {
        "id": "XDH5yt3c5oHm"
      },
      "source": [
        "## 뉴런 개수를 늘려보자 ( unit 개수)"
      ]
    },
    {
      "cell_type": "code",
      "metadata": {
        "id": "yCNRJpqj5ntu"
      },
      "source": [
        "# 뉴런 개수를 50개로 늘려보자\n",
        "model = tf.keras.Sequential([\n",
        "                               tf.keras.layers.LSTM(units=50, return_sequences=True, input_shape=[100,2])\n",
        "                             , tf.keras.layers.LSTM(units=50)\n",
        "                             , tf.keras.layers.Dense(1)\n",
        "])"
      ],
      "execution_count": null,
      "outputs": []
    },
    {
      "cell_type": "code",
      "metadata": {
        "id": "NvCH7yVW5glW",
        "outputId": "2b6edc1f-3e81-41f1-88cb-6e1d92d5409a",
        "colab": {
          "base_uri": "https://localhost:8080/"
        }
      },
      "source": [
        "model.compile(optimizer='adam', loss='mse')\n",
        "model.summary()"
      ],
      "execution_count": null,
      "outputs": [
        {
          "output_type": "stream",
          "text": [
            "Model: \"sequential_2\"\n",
            "_________________________________________________________________\n",
            "Layer (type)                 Output Shape              Param #   \n",
            "=================================================================\n",
            "lstm_2 (LSTM)                (None, 100, 50)           10600     \n",
            "_________________________________________________________________\n",
            "lstm_3 (LSTM)                (None, 50)                20200     \n",
            "_________________________________________________________________\n",
            "dense_2 (Dense)              (None, 1)                 51        \n",
            "=================================================================\n",
            "Total params: 30,851\n",
            "Trainable params: 30,851\n",
            "Non-trainable params: 0\n",
            "_________________________________________________________________\n"
          ],
          "name": "stdout"
        }
      ]
    },
    {
      "cell_type": "code",
      "metadata": {
        "id": "z9QoUVqU50_w",
        "outputId": "402c50f8-be16-4004-9d2d-f7790f43e49b",
        "colab": {
          "base_uri": "https://localhost:8080/"
        }
      },
      "source": [
        "history = model.fit(X[:2560],Y[:2560], epochs=100, validation_split=0.2)"
      ],
      "execution_count": null,
      "outputs": [
        {
          "output_type": "stream",
          "text": [
            "Epoch 1/100\n",
            "64/64 [==============================] - 1s 20ms/step - loss: 0.0525 - val_loss: 0.0462\n",
            "Epoch 2/100\n",
            "64/64 [==============================] - 1s 11ms/step - loss: 0.0502 - val_loss: 0.0465\n",
            "Epoch 3/100\n",
            "64/64 [==============================] - 1s 11ms/step - loss: 0.0504 - val_loss: 0.0462\n",
            "Epoch 4/100\n",
            "64/64 [==============================] - 1s 11ms/step - loss: 0.0501 - val_loss: 0.0465\n",
            "Epoch 5/100\n",
            "64/64 [==============================] - 1s 11ms/step - loss: 0.0498 - val_loss: 0.0464\n",
            "Epoch 6/100\n",
            "64/64 [==============================] - 1s 11ms/step - loss: 0.0503 - val_loss: 0.0477\n",
            "Epoch 7/100\n",
            "64/64 [==============================] - 1s 11ms/step - loss: 0.0497 - val_loss: 0.0465\n",
            "Epoch 8/100\n",
            "64/64 [==============================] - 1s 11ms/step - loss: 0.0499 - val_loss: 0.0463\n",
            "Epoch 9/100\n",
            "64/64 [==============================] - 1s 11ms/step - loss: 0.0498 - val_loss: 0.0465\n",
            "Epoch 10/100\n",
            "64/64 [==============================] - 1s 11ms/step - loss: 0.0496 - val_loss: 0.0464\n",
            "Epoch 11/100\n",
            "64/64 [==============================] - 1s 11ms/step - loss: 0.0497 - val_loss: 0.0465\n",
            "Epoch 12/100\n",
            "64/64 [==============================] - 1s 11ms/step - loss: 0.0497 - val_loss: 0.0468\n",
            "Epoch 13/100\n",
            "64/64 [==============================] - 1s 11ms/step - loss: 0.0498 - val_loss: 0.0465\n",
            "Epoch 14/100\n",
            "64/64 [==============================] - 1s 11ms/step - loss: 0.0495 - val_loss: 0.0467\n",
            "Epoch 15/100\n",
            "64/64 [==============================] - 1s 11ms/step - loss: 0.0495 - val_loss: 0.0465\n",
            "Epoch 16/100\n",
            "64/64 [==============================] - 1s 11ms/step - loss: 0.0497 - val_loss: 0.0463\n",
            "Epoch 17/100\n",
            "64/64 [==============================] - 1s 11ms/step - loss: 0.0493 - val_loss: 0.0467\n",
            "Epoch 18/100\n",
            "64/64 [==============================] - 1s 11ms/step - loss: 0.0493 - val_loss: 0.0461\n",
            "Epoch 19/100\n",
            "64/64 [==============================] - 1s 11ms/step - loss: 0.0490 - val_loss: 0.0479\n",
            "Epoch 20/100\n",
            "64/64 [==============================] - 1s 11ms/step - loss: 0.0494 - val_loss: 0.0461\n",
            "Epoch 21/100\n",
            "64/64 [==============================] - 1s 11ms/step - loss: 0.0491 - val_loss: 0.0458\n",
            "Epoch 22/100\n",
            "64/64 [==============================] - 1s 11ms/step - loss: 0.0489 - val_loss: 0.0464\n",
            "Epoch 23/100\n",
            "64/64 [==============================] - 1s 11ms/step - loss: 0.0489 - val_loss: 0.0451\n",
            "Epoch 24/100\n",
            "64/64 [==============================] - 1s 11ms/step - loss: 0.0485 - val_loss: 0.0460\n",
            "Epoch 25/100\n",
            "64/64 [==============================] - 1s 11ms/step - loss: 0.0480 - val_loss: 0.0436\n",
            "Epoch 26/100\n",
            "64/64 [==============================] - 1s 11ms/step - loss: 0.0490 - val_loss: 0.0459\n",
            "Epoch 27/100\n",
            "64/64 [==============================] - 1s 11ms/step - loss: 0.0487 - val_loss: 0.0454\n",
            "Epoch 28/100\n",
            "64/64 [==============================] - 1s 11ms/step - loss: 0.0483 - val_loss: 0.0445\n",
            "Epoch 29/100\n",
            "64/64 [==============================] - 1s 11ms/step - loss: 0.0514 - val_loss: 0.0453\n",
            "Epoch 30/100\n",
            "64/64 [==============================] - 1s 11ms/step - loss: 0.0482 - val_loss: 0.0448\n",
            "Epoch 31/100\n",
            "64/64 [==============================] - 1s 11ms/step - loss: 0.0456 - val_loss: 0.0396\n",
            "Epoch 32/100\n",
            "64/64 [==============================] - 1s 11ms/step - loss: 0.0427 - val_loss: 0.0468\n",
            "Epoch 33/100\n",
            "64/64 [==============================] - 1s 11ms/step - loss: 0.0508 - val_loss: 0.0465\n",
            "Epoch 34/100\n",
            "64/64 [==============================] - 1s 11ms/step - loss: 0.0504 - val_loss: 0.0466\n",
            "Epoch 35/100\n",
            "64/64 [==============================] - 1s 11ms/step - loss: 0.0509 - val_loss: 0.0480\n",
            "Epoch 36/100\n",
            "64/64 [==============================] - 1s 11ms/step - loss: 0.0509 - val_loss: 0.0465\n",
            "Epoch 37/100\n",
            "64/64 [==============================] - 1s 11ms/step - loss: 0.0501 - val_loss: 0.0475\n",
            "Epoch 38/100\n",
            "64/64 [==============================] - 1s 11ms/step - loss: 0.0498 - val_loss: 0.0467\n",
            "Epoch 39/100\n",
            "64/64 [==============================] - 1s 11ms/step - loss: 0.0509 - val_loss: 0.0463\n",
            "Epoch 40/100\n",
            "64/64 [==============================] - 1s 11ms/step - loss: 0.0499 - val_loss: 0.0477\n",
            "Epoch 41/100\n",
            "64/64 [==============================] - 1s 11ms/step - loss: 0.0506 - val_loss: 0.0463\n",
            "Epoch 42/100\n",
            "64/64 [==============================] - 1s 11ms/step - loss: 0.0496 - val_loss: 0.0468\n",
            "Epoch 43/100\n",
            "64/64 [==============================] - 1s 12ms/step - loss: 0.0499 - val_loss: 0.0464\n",
            "Epoch 44/100\n",
            "64/64 [==============================] - 1s 11ms/step - loss: 0.0497 - val_loss: 0.0463\n",
            "Epoch 45/100\n",
            "64/64 [==============================] - 1s 11ms/step - loss: 0.0501 - val_loss: 0.0473\n",
            "Epoch 46/100\n",
            "64/64 [==============================] - 1s 11ms/step - loss: 0.0497 - val_loss: 0.0475\n",
            "Epoch 47/100\n",
            "64/64 [==============================] - 1s 11ms/step - loss: 0.0497 - val_loss: 0.0471\n",
            "Epoch 48/100\n",
            "64/64 [==============================] - 1s 11ms/step - loss: 0.0499 - val_loss: 0.0465\n",
            "Epoch 49/100\n",
            "64/64 [==============================] - 1s 11ms/step - loss: 0.0498 - val_loss: 0.0461\n",
            "Epoch 50/100\n",
            "64/64 [==============================] - 1s 12ms/step - loss: 0.0498 - val_loss: 0.0462\n",
            "Epoch 51/100\n",
            "64/64 [==============================] - 1s 11ms/step - loss: 0.0495 - val_loss: 0.0469\n",
            "Epoch 52/100\n",
            "64/64 [==============================] - 1s 11ms/step - loss: 0.0499 - val_loss: 0.0461\n",
            "Epoch 53/100\n",
            "64/64 [==============================] - 1s 11ms/step - loss: 0.0498 - val_loss: 0.0462\n",
            "Epoch 54/100\n",
            "64/64 [==============================] - 1s 11ms/step - loss: 0.0494 - val_loss: 0.0461\n",
            "Epoch 55/100\n",
            "64/64 [==============================] - 1s 11ms/step - loss: 0.0493 - val_loss: 0.0456\n",
            "Epoch 56/100\n",
            "64/64 [==============================] - 1s 12ms/step - loss: 0.0489 - val_loss: 0.0471\n",
            "Epoch 57/100\n",
            "64/64 [==============================] - 1s 11ms/step - loss: 0.0488 - val_loss: 0.0461\n",
            "Epoch 58/100\n",
            "64/64 [==============================] - 1s 12ms/step - loss: 0.0450 - val_loss: 0.0377\n",
            "Epoch 59/100\n",
            "64/64 [==============================] - 1s 12ms/step - loss: 0.0401 - val_loss: 0.0207\n",
            "Epoch 60/100\n",
            "64/64 [==============================] - 1s 12ms/step - loss: 0.0228 - val_loss: 0.0206\n",
            "Epoch 61/100\n",
            "64/64 [==============================] - 1s 11ms/step - loss: 0.0138 - val_loss: 0.0099\n",
            "Epoch 62/100\n",
            "64/64 [==============================] - 1s 11ms/step - loss: 0.0099 - val_loss: 0.0079\n",
            "Epoch 63/100\n",
            "64/64 [==============================] - 1s 11ms/step - loss: 0.0079 - val_loss: 0.0049\n",
            "Epoch 64/100\n",
            "64/64 [==============================] - 1s 11ms/step - loss: 0.0064 - val_loss: 0.0050\n",
            "Epoch 65/100\n",
            "64/64 [==============================] - 1s 11ms/step - loss: 0.0035 - val_loss: 0.0031\n",
            "Epoch 66/100\n",
            "64/64 [==============================] - 1s 11ms/step - loss: 0.0024 - val_loss: 0.0020\n",
            "Epoch 67/100\n",
            "64/64 [==============================] - 1s 12ms/step - loss: 0.0023 - val_loss: 0.0017\n",
            "Epoch 68/100\n",
            "64/64 [==============================] - 1s 11ms/step - loss: 0.0020 - val_loss: 0.0020\n",
            "Epoch 69/100\n",
            "64/64 [==============================] - 1s 12ms/step - loss: 0.0019 - val_loss: 0.0052\n",
            "Epoch 70/100\n",
            "64/64 [==============================] - 1s 11ms/step - loss: 0.0016 - val_loss: 0.0022\n",
            "Epoch 71/100\n",
            "64/64 [==============================] - 1s 11ms/step - loss: 0.0015 - val_loss: 0.0011\n",
            "Epoch 72/100\n",
            "64/64 [==============================] - 1s 11ms/step - loss: 0.0013 - val_loss: 0.0011\n",
            "Epoch 73/100\n",
            "64/64 [==============================] - 1s 11ms/step - loss: 0.0011 - val_loss: 9.7907e-04\n",
            "Epoch 74/100\n",
            "64/64 [==============================] - 1s 12ms/step - loss: 0.0011 - val_loss: 0.0012\n",
            "Epoch 75/100\n",
            "64/64 [==============================] - 1s 12ms/step - loss: 0.0010 - val_loss: 8.9797e-04\n",
            "Epoch 76/100\n",
            "64/64 [==============================] - 1s 11ms/step - loss: 0.0012 - val_loss: 0.0015\n",
            "Epoch 77/100\n",
            "64/64 [==============================] - 1s 11ms/step - loss: 0.0012 - val_loss: 8.6901e-04\n",
            "Epoch 78/100\n",
            "64/64 [==============================] - 1s 11ms/step - loss: 9.8806e-04 - val_loss: 9.0130e-04\n",
            "Epoch 79/100\n",
            "64/64 [==============================] - 1s 11ms/step - loss: 8.7099e-04 - val_loss: 0.0011\n",
            "Epoch 80/100\n",
            "64/64 [==============================] - 1s 11ms/step - loss: 8.6544e-04 - val_loss: 7.9498e-04\n",
            "Epoch 81/100\n",
            "64/64 [==============================] - 1s 11ms/step - loss: 8.4020e-04 - val_loss: 9.0106e-04\n",
            "Epoch 82/100\n",
            "64/64 [==============================] - 1s 12ms/step - loss: 8.5579e-04 - val_loss: 0.0014\n",
            "Epoch 83/100\n",
            "64/64 [==============================] - 1s 11ms/step - loss: 6.5235e-04 - val_loss: 6.0066e-04\n",
            "Epoch 84/100\n",
            "64/64 [==============================] - 1s 11ms/step - loss: 8.3539e-04 - val_loss: 0.0020\n",
            "Epoch 85/100\n",
            "64/64 [==============================] - 1s 11ms/step - loss: 0.0012 - val_loss: 0.0010\n",
            "Epoch 86/100\n",
            "64/64 [==============================] - 1s 12ms/step - loss: 9.3946e-04 - val_loss: 8.9235e-04\n",
            "Epoch 87/100\n",
            "64/64 [==============================] - 1s 12ms/step - loss: 6.1671e-04 - val_loss: 5.3649e-04\n",
            "Epoch 88/100\n",
            "64/64 [==============================] - 1s 11ms/step - loss: 6.4393e-04 - val_loss: 5.3404e-04\n",
            "Epoch 89/100\n",
            "64/64 [==============================] - 1s 11ms/step - loss: 7.6306e-04 - val_loss: 9.0276e-04\n",
            "Epoch 90/100\n",
            "64/64 [==============================] - 1s 12ms/step - loss: 8.0871e-04 - val_loss: 0.0012\n",
            "Epoch 91/100\n",
            "64/64 [==============================] - 1s 11ms/step - loss: 7.1547e-04 - val_loss: 5.8865e-04\n",
            "Epoch 92/100\n",
            "64/64 [==============================] - 1s 12ms/step - loss: 4.7828e-04 - val_loss: 4.2191e-04\n",
            "Epoch 93/100\n",
            "64/64 [==============================] - 1s 12ms/step - loss: 4.7578e-04 - val_loss: 5.3580e-04\n",
            "Epoch 94/100\n",
            "64/64 [==============================] - 1s 11ms/step - loss: 4.7970e-04 - val_loss: 4.5196e-04\n",
            "Epoch 95/100\n",
            "64/64 [==============================] - 1s 11ms/step - loss: 5.3294e-04 - val_loss: 4.0098e-04\n",
            "Epoch 96/100\n",
            "64/64 [==============================] - 1s 11ms/step - loss: 4.5793e-04 - val_loss: 4.2628e-04\n",
            "Epoch 97/100\n",
            "64/64 [==============================] - 1s 11ms/step - loss: 5.8941e-04 - val_loss: 0.0011\n",
            "Epoch 98/100\n",
            "64/64 [==============================] - 1s 11ms/step - loss: 6.5835e-04 - val_loss: 3.9596e-04\n",
            "Epoch 99/100\n",
            "64/64 [==============================] - 1s 11ms/step - loss: 3.6823e-04 - val_loss: 9.2639e-04\n",
            "Epoch 100/100\n",
            "64/64 [==============================] - 1s 11ms/step - loss: 6.8664e-04 - val_loss: 6.0298e-04\n"
          ],
          "name": "stdout"
        }
      ]
    },
    {
      "cell_type": "code",
      "metadata": {
        "id": "C5R1ueor52FX",
        "outputId": "b041001b-9e5f-444a-dfcb-2c37b85186d4",
        "colab": {
          "base_uri": "https://localhost:8080/",
          "height": 265
        }
      },
      "source": [
        "# 시각화\n",
        "plt.plot(history.history['loss'], 'b-', label ='loss')\n",
        "plt.plot(history.history['val_loss'], 'r--', label='val_loss')\n",
        "plt.legend()\n",
        "plt.show()"
      ],
      "execution_count": null,
      "outputs": [
        {
          "output_type": "display_data",
          "data": {
            "image/png": "[encoded data removed]",
            "text/plain": [
              "<Figure size 432x288 with 1 Axes>"
            ]
          },
          "metadata": {
            "tags": [],
            "needs_background": "light"
          }
        }
      ]
    },
    {
      "cell_type": "code",
      "metadata": {
        "id": "3I1ieFBc7UYI",
        "outputId": "4b5e3203-92ef-4ee3-8744-3a4488c8d23a",
        "colab": {
          "base_uri": "https://localhost:8080/"
        }
      },
      "source": [
        "# 테스트 데이터로 확인하기\n",
        "model.evaluate(X[2560:], Y[2560:])"
      ],
      "execution_count": null,
      "outputs": [
        {
          "output_type": "stream",
          "text": [
            "14/14 [==============================] - 0s 6ms/step - loss: 5.7852e-04\n"
          ],
          "name": "stdout"
        },
        {
          "output_type": "execute_result",
          "data": {
            "text/plain": [
              "0.000578524312004447"
            ]
          },
          "metadata": {
            "tags": []
          },
          "execution_count": 60
        }
      ]
    },
    {
      "cell_type": "code",
      "metadata": {
        "id": "ZI8uxlZi7dbG",
        "outputId": "632723df-3fea-42fe-a4ad-d1a4c8a7633a",
        "colab": {
          "base_uri": "https://localhost:8080/"
        }
      },
      "source": [
        "# 5개 테스트 데이터에 대한 예측  표시\n",
        "pred = model.predict(X[2560:2560+5])\n",
        "for i in range(5):\n",
        "  print(Y[2560+i],'\\t', pred[i][0], '\\tdiff:', abs(pred[i][0]-Y[2560+i]))\n",
        "\n",
        "# 전체 테스트 데이터에 대한 정확도 확인 (오차가 0.04 이상인 경우 오답으로 처리)\n",
        "prediction = model.predict(X[2560:])\n",
        "# 오차가 0.04인경우 cnt할 변수 fail 선언\n",
        "fail = 0\n",
        "for i in range(len(prediction)):\n",
        "  if abs(prediction[i][0]-Y[2560+i])  > 0.04:\n",
        "    fail +=1\n",
        "print('correctness: ', (440-fail)/440*100, '%')"
      ],
      "execution_count": null,
      "outputs": [
        {
          "output_type": "stream",
          "text": [
            "0.18982348094415957 \t 0.1541388 \tdiff: 0.03568467746210391\n",
            "0.674710649073077 \t 0.6779052 \tdiff: 0.003194552838849285\n",
            "0.6782049608977108 \t 0.6774666 \tdiff: 0.0007383895666865925\n",
            "0.019594320405173397 \t 0.030603088 \tdiff: 0.011008768033337498\n",
            "0.014357379445345635 \t 0.016682535 \tdiff: 0.002325155964581733\n",
            "correctness:  91.5909090909091 %\n"
          ],
          "name": "stdout"
        }
      ]
    },
    {
      "cell_type": "markdown",
      "metadata": {
        "id": "j1PZl0Rf6wJh"
      },
      "source": [
        "- 오히려 정확도가 90% 수준으로 떨어졌다.\n",
        "- 어느정도 이상의 뉴런개수가 넘어가면 그 이상으로 올리면 오히려 과적합이 발생하는 것 같다\n",
        "    - ex)뉴런 개수 30개\n",
        "    64/64 [==============================] - 1s 10ms/step - loss: 2.2728e-04 - val_loss: 3.9602e-04 \n",
        "    Epoch 100/100\n",
        "    64/64 [==============================] - 1s 10ms/step - loss: 2.7641e-04 - val_loss: 2.3873e-04\n",
        "\n",
        "    - ex) 뉴런 개수 50개:\n",
        "    /64 [==============================] - 1s 11ms/step - loss: 3.6823e-04 - val_loss: 9.2639e-04\n",
        "    Epoch 100/100\n",
        "    64/64 [==============================] - 1s 11ms/step - loss: 6.8664e-04 - val_loss: 6.0298e-04\n",
        "\n",
        "\n",
        "- 뉴런개수가 늘어나면 epoch 수도 늘려서 해봐야할듯"
      ]
    },
    {
      "cell_type": "markdown",
      "metadata": {
        "id": "Grn8OywII1Gd"
      },
      "source": [
        "#### epoch 수를 늘리기(뉴런 + epoch 수 늘리기)"
      ]
    },
    {
      "cell_type": "code",
      "metadata": {
        "id": "eAFS-JByIwLh"
      },
      "source": [
        "# 뉴런 개수를 50개로 늘려보자\n",
        "model = tf.keras.Sequential([\n",
        "                               tf.keras.layers.LSTM(units=50, return_sequences=True, input_shape=[100,2])\n",
        "                             , tf.keras.layers.LSTM(units=50)\n",
        "                             , tf.keras.layers.Dense(1)\n",
        "])"
      ],
      "execution_count": null,
      "outputs": []
    },
    {
      "cell_type": "code",
      "metadata": {
        "id": "pWaQUsbmJCeD",
        "outputId": "0d0bf1b9-81bd-4323-9912-af9086c743e9",
        "colab": {
          "base_uri": "https://localhost:8080/"
        }
      },
      "source": [
        "model.compile(optimizer='adam', loss='mse')\n",
        "model.summary()"
      ],
      "execution_count": null,
      "outputs": [
        {
          "output_type": "stream",
          "text": [
            "Model: \"sequential_9\"\n",
            "_________________________________________________________________\n",
            "Layer (type)                 Output Shape              Param #   \n",
            "=================================================================\n",
            "lstm_16 (LSTM)               (None, 100, 50)           10600     \n",
            "_________________________________________________________________\n",
            "lstm_17 (LSTM)               (None, 50)                20200     \n",
            "_________________________________________________________________\n",
            "dense_9 (Dense)              (None, 1)                 51        \n",
            "=================================================================\n",
            "Total params: 30,851\n",
            "Trainable params: 30,851\n",
            "Non-trainable params: 0\n",
            "_________________________________________________________________\n"
          ],
          "name": "stdout"
        }
      ]
    },
    {
      "cell_type": "code",
      "metadata": {
        "id": "GQJ29wU0JEvT",
        "outputId": "16aa2f65-05ec-4312-d7de-e5138169423f",
        "colab": {
          "base_uri": "https://localhost:8080/"
        }
      },
      "source": [
        "# epoch 수 200으로 증가\n",
        "history = model.fit(X[:2560],Y[:2560], epochs=200, validation_split=0.2)"
      ],
      "execution_count": null,
      "outputs": [
        {
          "output_type": "stream",
          "text": [
            "Epoch 1/200\n",
            "64/64 [==============================] - 1s 20ms/step - loss: 0.0537 - val_loss: 0.0476\n",
            "Epoch 2/200\n",
            "64/64 [==============================] - 1s 11ms/step - loss: 0.0502 - val_loss: 0.0463\n",
            "Epoch 3/200\n",
            "64/64 [==============================] - 1s 11ms/step - loss: 0.0500 - val_loss: 0.0477\n",
            "Epoch 4/200\n",
            "64/64 [==============================] - 1s 11ms/step - loss: 0.0502 - val_loss: 0.0470\n",
            "Epoch 5/200\n",
            "64/64 [==============================] - 1s 11ms/step - loss: 0.0501 - val_loss: 0.0462\n",
            "Epoch 6/200\n",
            "64/64 [==============================] - 1s 11ms/step - loss: 0.0500 - val_loss: 0.0465\n",
            "Epoch 7/200\n",
            "64/64 [==============================] - 1s 11ms/step - loss: 0.0496 - val_loss: 0.0471\n",
            "Epoch 8/200\n",
            "64/64 [==============================] - 1s 11ms/step - loss: 0.0494 - val_loss: 0.0471\n",
            "Epoch 9/200\n",
            "64/64 [==============================] - 1s 11ms/step - loss: 0.0497 - val_loss: 0.0464\n",
            "Epoch 10/200\n",
            "64/64 [==============================] - 1s 11ms/step - loss: 0.0496 - val_loss: 0.0464\n",
            "Epoch 11/200\n",
            "64/64 [==============================] - 1s 11ms/step - loss: 0.0496 - val_loss: 0.0464\n",
            "Epoch 12/200\n",
            "64/64 [==============================] - 1s 11ms/step - loss: 0.0496 - val_loss: 0.0466\n",
            "Epoch 13/200\n",
            "64/64 [==============================] - 1s 11ms/step - loss: 0.0495 - val_loss: 0.0463\n",
            "Epoch 14/200\n",
            "64/64 [==============================] - 1s 11ms/step - loss: 0.0494 - val_loss: 0.0462\n",
            "Epoch 15/200\n",
            "64/64 [==============================] - 1s 11ms/step - loss: 0.0495 - val_loss: 0.0463\n",
            "Epoch 16/200\n",
            "64/64 [==============================] - 1s 11ms/step - loss: 0.0494 - val_loss: 0.0473\n",
            "Epoch 17/200\n",
            "64/64 [==============================] - 1s 11ms/step - loss: 0.0491 - val_loss: 0.0465\n",
            "Epoch 18/200\n",
            "64/64 [==============================] - 1s 11ms/step - loss: 0.0490 - val_loss: 0.0459\n",
            "Epoch 19/200\n",
            "64/64 [==============================] - 1s 11ms/step - loss: 0.0494 - val_loss: 0.0455\n",
            "Epoch 20/200\n",
            "64/64 [==============================] - 1s 11ms/step - loss: 0.0485 - val_loss: 0.0451\n",
            "Epoch 21/200\n",
            "64/64 [==============================] - 1s 11ms/step - loss: 0.0466 - val_loss: 0.0399\n",
            "Epoch 22/200\n",
            "64/64 [==============================] - 1s 11ms/step - loss: 0.0354 - val_loss: 0.0259\n",
            "Epoch 23/200\n",
            "64/64 [==============================] - 1s 11ms/step - loss: 0.0141 - val_loss: 0.0076\n",
            "Epoch 24/200\n",
            "64/64 [==============================] - 1s 11ms/step - loss: 0.0075 - val_loss: 0.0083\n",
            "Epoch 25/200\n",
            "64/64 [==============================] - 1s 11ms/step - loss: 0.0050 - val_loss: 0.0050\n",
            "Epoch 26/200\n",
            "64/64 [==============================] - 1s 11ms/step - loss: 0.0041 - val_loss: 0.0030\n",
            "Epoch 27/200\n",
            "64/64 [==============================] - 1s 11ms/step - loss: 0.0045 - val_loss: 0.0022\n",
            "Epoch 28/200\n",
            "64/64 [==============================] - 1s 11ms/step - loss: 0.0028 - val_loss: 0.0017\n",
            "Epoch 29/200\n",
            "64/64 [==============================] - 1s 11ms/step - loss: 0.0026 - val_loss: 0.0016\n",
            "Epoch 30/200\n",
            "64/64 [==============================] - 1s 11ms/step - loss: 0.0017 - val_loss: 0.0027\n",
            "Epoch 31/200\n",
            "64/64 [==============================] - 1s 11ms/step - loss: 0.0016 - val_loss: 0.0017\n",
            "Epoch 32/200\n",
            "64/64 [==============================] - 1s 11ms/step - loss: 0.0014 - val_loss: 0.0030\n",
            "Epoch 33/200\n",
            "64/64 [==============================] - 1s 11ms/step - loss: 0.0016 - val_loss: 0.0013\n",
            "Epoch 34/200\n",
            "64/64 [==============================] - 1s 11ms/step - loss: 0.0015 - val_loss: 0.0010\n",
            "Epoch 35/200\n",
            "64/64 [==============================] - 1s 11ms/step - loss: 0.0011 - val_loss: 0.0015\n",
            "Epoch 36/200\n",
            "64/64 [==============================] - 1s 11ms/step - loss: 0.0013 - val_loss: 0.0022\n",
            "Epoch 37/200\n",
            "64/64 [==============================] - 1s 11ms/step - loss: 0.0012 - val_loss: 9.8213e-04\n",
            "Epoch 38/200\n",
            "64/64 [==============================] - 1s 11ms/step - loss: 0.0015 - val_loss: 9.9653e-04\n",
            "Epoch 39/200\n",
            "64/64 [==============================] - 1s 11ms/step - loss: 0.0013 - val_loss: 7.5465e-04\n",
            "Epoch 40/200\n",
            "64/64 [==============================] - 1s 11ms/step - loss: 0.0010 - val_loss: 0.0010\n",
            "Epoch 41/200\n",
            "64/64 [==============================] - 1s 11ms/step - loss: 9.0994e-04 - val_loss: 7.3112e-04\n",
            "Epoch 42/200\n",
            "64/64 [==============================] - 1s 11ms/step - loss: 0.0013 - val_loss: 9.5069e-04\n",
            "Epoch 43/200\n",
            "64/64 [==============================] - 1s 11ms/step - loss: 0.0014 - val_loss: 0.0010\n",
            "Epoch 44/200\n",
            "64/64 [==============================] - 1s 11ms/step - loss: 9.2171e-04 - val_loss: 7.1757e-04\n",
            "Epoch 45/200\n",
            "64/64 [==============================] - 1s 11ms/step - loss: 9.7211e-04 - val_loss: 0.0010\n",
            "Epoch 46/200\n",
            "64/64 [==============================] - 1s 11ms/step - loss: 0.0010 - val_loss: 6.9164e-04\n",
            "Epoch 47/200\n",
            "64/64 [==============================] - 1s 11ms/step - loss: 9.7108e-04 - val_loss: 0.0014\n",
            "Epoch 48/200\n",
            "64/64 [==============================] - 1s 11ms/step - loss: 8.9189e-04 - val_loss: 9.0852e-04\n",
            "Epoch 49/200\n",
            "64/64 [==============================] - 1s 11ms/step - loss: 8.0280e-04 - val_loss: 7.2985e-04\n",
            "Epoch 50/200\n",
            "64/64 [==============================] - 1s 11ms/step - loss: 6.3336e-04 - val_loss: 7.3995e-04\n",
            "Epoch 51/200\n",
            "64/64 [==============================] - 1s 11ms/step - loss: 7.8293e-04 - val_loss: 0.0010\n",
            "Epoch 52/200\n",
            "64/64 [==============================] - 1s 11ms/step - loss: 6.8900e-04 - val_loss: 6.9418e-04\n",
            "Epoch 53/200\n",
            "64/64 [==============================] - 1s 11ms/step - loss: 6.2469e-04 - val_loss: 4.7847e-04\n",
            "Epoch 54/200\n",
            "64/64 [==============================] - 1s 11ms/step - loss: 9.6871e-04 - val_loss: 8.5182e-04\n",
            "Epoch 55/200\n",
            "64/64 [==============================] - 1s 11ms/step - loss: 6.6209e-04 - val_loss: 7.4757e-04\n",
            "Epoch 56/200\n",
            "64/64 [==============================] - 1s 11ms/step - loss: 5.8990e-04 - val_loss: 4.4134e-04\n",
            "Epoch 57/200\n",
            "64/64 [==============================] - 1s 11ms/step - loss: 8.0123e-04 - val_loss: 5.2568e-04\n",
            "Epoch 58/200\n",
            "64/64 [==============================] - 1s 11ms/step - loss: 9.5976e-04 - val_loss: 6.2879e-04\n",
            "Epoch 59/200\n",
            "64/64 [==============================] - 1s 11ms/step - loss: 6.0882e-04 - val_loss: 9.0281e-04\n",
            "Epoch 60/200\n",
            "64/64 [==============================] - 1s 11ms/step - loss: 4.9938e-04 - val_loss: 3.5894e-04\n",
            "Epoch 61/200\n",
            "64/64 [==============================] - 1s 11ms/step - loss: 4.8897e-04 - val_loss: 3.5382e-04\n",
            "Epoch 62/200\n",
            "64/64 [==============================] - 1s 11ms/step - loss: 8.4107e-04 - val_loss: 5.1819e-04\n",
            "Epoch 63/200\n",
            "64/64 [==============================] - 1s 11ms/step - loss: 5.9868e-04 - val_loss: 3.9828e-04\n",
            "Epoch 64/200\n",
            "64/64 [==============================] - 1s 11ms/step - loss: 3.6714e-04 - val_loss: 3.6428e-04\n",
            "Epoch 65/200\n",
            "64/64 [==============================] - 1s 11ms/step - loss: 4.5935e-04 - val_loss: 5.3889e-04\n",
            "Epoch 66/200\n",
            "64/64 [==============================] - 1s 11ms/step - loss: 5.3017e-04 - val_loss: 5.5183e-04\n",
            "Epoch 67/200\n",
            "64/64 [==============================] - 1s 11ms/step - loss: 4.1401e-04 - val_loss: 4.5962e-04\n",
            "Epoch 68/200\n",
            "64/64 [==============================] - 1s 11ms/step - loss: 6.3762e-04 - val_loss: 5.1794e-04\n",
            "Epoch 69/200\n",
            "64/64 [==============================] - 1s 11ms/step - loss: 5.4539e-04 - val_loss: 0.0017\n",
            "Epoch 70/200\n",
            "64/64 [==============================] - 1s 11ms/step - loss: 7.5756e-04 - val_loss: 0.0010\n",
            "Epoch 71/200\n",
            "64/64 [==============================] - 1s 11ms/step - loss: 6.7277e-04 - val_loss: 3.8756e-04\n",
            "Epoch 72/200\n",
            "64/64 [==============================] - 1s 11ms/step - loss: 4.4447e-04 - val_loss: 2.5858e-04\n",
            "Epoch 73/200\n",
            "64/64 [==============================] - 1s 11ms/step - loss: 4.3068e-04 - val_loss: 3.5854e-04\n",
            "Epoch 74/200\n",
            "64/64 [==============================] - 1s 11ms/step - loss: 6.4081e-04 - val_loss: 3.6665e-04\n",
            "Epoch 75/200\n",
            "64/64 [==============================] - 1s 11ms/step - loss: 3.1485e-04 - val_loss: 2.4938e-04\n",
            "Epoch 76/200\n",
            "64/64 [==============================] - 1s 11ms/step - loss: 3.1798e-04 - val_loss: 3.4539e-04\n",
            "Epoch 77/200\n",
            "64/64 [==============================] - 1s 11ms/step - loss: 2.6207e-04 - val_loss: 3.0905e-04\n",
            "Epoch 78/200\n",
            "64/64 [==============================] - 1s 11ms/step - loss: 3.7068e-04 - val_loss: 3.8523e-04\n",
            "Epoch 79/200\n",
            "64/64 [==============================] - 1s 11ms/step - loss: 4.1201e-04 - val_loss: 3.4566e-04\n",
            "Epoch 80/200\n",
            "64/64 [==============================] - 1s 11ms/step - loss: 3.5844e-04 - val_loss: 3.2504e-04\n",
            "Epoch 81/200\n",
            "64/64 [==============================] - 1s 11ms/step - loss: 4.7379e-04 - val_loss: 5.0516e-04\n",
            "Epoch 82/200\n",
            "64/64 [==============================] - 1s 11ms/step - loss: 3.3314e-04 - val_loss: 4.6306e-04\n",
            "Epoch 83/200\n",
            "64/64 [==============================] - 1s 11ms/step - loss: 5.4081e-04 - val_loss: 4.5311e-04\n",
            "Epoch 84/200\n",
            "64/64 [==============================] - 1s 11ms/step - loss: 3.1703e-04 - val_loss: 2.9415e-04\n",
            "Epoch 85/200\n",
            "64/64 [==============================] - 1s 11ms/step - loss: 2.1334e-04 - val_loss: 2.5489e-04\n",
            "Epoch 86/200\n",
            "64/64 [==============================] - 1s 11ms/step - loss: 2.9582e-04 - val_loss: 2.5454e-04\n",
            "Epoch 87/200\n",
            "64/64 [==============================] - 1s 11ms/step - loss: 3.0655e-04 - val_loss: 2.9855e-04\n",
            "Epoch 88/200\n",
            "64/64 [==============================] - 1s 11ms/step - loss: 2.7863e-04 - val_loss: 2.9125e-04\n",
            "Epoch 89/200\n",
            "64/64 [==============================] - 1s 11ms/step - loss: 1.9433e-04 - val_loss: 3.5262e-04\n",
            "Epoch 90/200\n",
            "64/64 [==============================] - 1s 11ms/step - loss: 6.8570e-04 - val_loss: 2.9760e-04\n",
            "Epoch 91/200\n",
            "64/64 [==============================] - 1s 11ms/step - loss: 4.6288e-04 - val_loss: 3.2473e-04\n",
            "Epoch 92/200\n",
            "64/64 [==============================] - 1s 11ms/step - loss: 3.5882e-04 - val_loss: 5.5532e-04\n",
            "Epoch 93/200\n",
            "64/64 [==============================] - 1s 11ms/step - loss: 4.1585e-04 - val_loss: 6.8463e-04\n",
            "Epoch 94/200\n",
            "64/64 [==============================] - 1s 11ms/step - loss: 5.7308e-04 - val_loss: 9.9357e-04\n",
            "Epoch 95/200\n",
            "64/64 [==============================] - 1s 11ms/step - loss: 3.2410e-04 - val_loss: 1.9785e-04\n",
            "Epoch 96/200\n",
            "64/64 [==============================] - 1s 11ms/step - loss: 4.5404e-04 - val_loss: 5.0114e-04\n",
            "Epoch 97/200\n",
            "64/64 [==============================] - 1s 11ms/step - loss: 3.2765e-04 - val_loss: 2.8902e-04\n",
            "Epoch 98/200\n",
            "64/64 [==============================] - 1s 11ms/step - loss: 2.2701e-04 - val_loss: 2.6307e-04\n",
            "Epoch 99/200\n",
            "64/64 [==============================] - 1s 11ms/step - loss: 1.9951e-04 - val_loss: 2.1809e-04\n",
            "Epoch 100/200\n",
            "64/64 [==============================] - 1s 11ms/step - loss: 5.6395e-04 - val_loss: 8.2474e-04\n",
            "Epoch 101/200\n",
            "64/64 [==============================] - 1s 11ms/step - loss: 3.9121e-04 - val_loss: 2.5223e-04\n",
            "Epoch 102/200\n",
            "64/64 [==============================] - 1s 11ms/step - loss: 1.9512e-04 - val_loss: 2.8860e-04\n",
            "Epoch 103/200\n",
            "64/64 [==============================] - 1s 11ms/step - loss: 5.4113e-04 - val_loss: 3.1584e-04\n",
            "Epoch 104/200\n",
            "64/64 [==============================] - 1s 11ms/step - loss: 5.2481e-04 - val_loss: 2.1846e-04\n",
            "Epoch 105/200\n",
            "64/64 [==============================] - 1s 11ms/step - loss: 1.5044e-04 - val_loss: 1.7673e-04\n",
            "Epoch 106/200\n",
            "64/64 [==============================] - 1s 11ms/step - loss: 3.4366e-04 - val_loss: 7.4987e-04\n",
            "Epoch 107/200\n",
            "64/64 [==============================] - 1s 11ms/step - loss: 2.4281e-04 - val_loss: 2.7151e-04\n",
            "Epoch 108/200\n",
            "64/64 [==============================] - 1s 11ms/step - loss: 2.5781e-04 - val_loss: 3.7152e-04\n",
            "Epoch 109/200\n",
            "64/64 [==============================] - 1s 11ms/step - loss: 1.9533e-04 - val_loss: 2.1388e-04\n",
            "Epoch 110/200\n",
            "64/64 [==============================] - 1s 11ms/step - loss: 3.0508e-04 - val_loss: 6.5931e-04\n",
            "Epoch 111/200\n",
            "64/64 [==============================] - 1s 11ms/step - loss: 2.3449e-04 - val_loss: 4.6680e-04\n",
            "Epoch 112/200\n",
            "64/64 [==============================] - 1s 11ms/step - loss: 1.3518e-04 - val_loss: 1.8444e-04\n",
            "Epoch 113/200\n",
            "64/64 [==============================] - 1s 11ms/step - loss: 2.9174e-04 - val_loss: 3.0387e-04\n",
            "Epoch 114/200\n",
            "64/64 [==============================] - 1s 11ms/step - loss: 4.7650e-04 - val_loss: 3.6354e-04\n",
            "Epoch 115/200\n",
            "64/64 [==============================] - 1s 11ms/step - loss: 3.5805e-04 - val_loss: 7.3445e-04\n",
            "Epoch 116/200\n",
            "64/64 [==============================] - 1s 11ms/step - loss: 5.8407e-04 - val_loss: 2.2707e-04\n",
            "Epoch 117/200\n",
            "64/64 [==============================] - 1s 11ms/step - loss: 5.2525e-04 - val_loss: 5.3788e-04\n",
            "Epoch 118/200\n",
            "64/64 [==============================] - 1s 11ms/step - loss: 2.5129e-04 - val_loss: 1.9717e-04\n",
            "Epoch 119/200\n",
            "64/64 [==============================] - 1s 11ms/step - loss: 2.2969e-04 - val_loss: 2.0581e-04\n",
            "Epoch 120/200\n",
            "64/64 [==============================] - 1s 11ms/step - loss: 1.1385e-04 - val_loss: 1.7292e-04\n",
            "Epoch 121/200\n",
            "64/64 [==============================] - 1s 11ms/step - loss: 3.7494e-04 - val_loss: 5.5991e-04\n",
            "Epoch 122/200\n",
            "64/64 [==============================] - 1s 11ms/step - loss: 2.9748e-04 - val_loss: 2.9472e-04\n",
            "Epoch 123/200\n",
            "64/64 [==============================] - 1s 11ms/step - loss: 1.2867e-04 - val_loss: 1.5445e-04\n",
            "Epoch 124/200\n",
            "64/64 [==============================] - 1s 11ms/step - loss: 1.1973e-04 - val_loss: 2.0422e-04\n",
            "Epoch 125/200\n",
            "64/64 [==============================] - 1s 11ms/step - loss: 1.4633e-04 - val_loss: 1.8612e-04\n",
            "Epoch 126/200\n",
            "64/64 [==============================] - 1s 11ms/step - loss: 1.2475e-04 - val_loss: 2.2464e-04\n",
            "Epoch 127/200\n",
            "64/64 [==============================] - 1s 11ms/step - loss: 2.6165e-04 - val_loss: 2.7510e-04\n",
            "Epoch 128/200\n",
            "64/64 [==============================] - 1s 11ms/step - loss: 4.2827e-04 - val_loss: 2.9663e-04\n",
            "Epoch 129/200\n",
            "64/64 [==============================] - 1s 11ms/step - loss: 3.1606e-04 - val_loss: 2.9930e-04\n",
            "Epoch 130/200\n",
            "64/64 [==============================] - 1s 11ms/step - loss: 1.4101e-04 - val_loss: 1.7314e-04\n",
            "Epoch 131/200\n",
            "64/64 [==============================] - 1s 11ms/step - loss: 1.6014e-04 - val_loss: 6.5221e-04\n",
            "Epoch 132/200\n",
            "64/64 [==============================] - 1s 11ms/step - loss: 2.2272e-04 - val_loss: 1.7844e-04\n",
            "Epoch 133/200\n",
            "64/64 [==============================] - 1s 11ms/step - loss: 3.9803e-04 - val_loss: 3.1712e-04\n",
            "Epoch 134/200\n",
            "64/64 [==============================] - 1s 11ms/step - loss: 2.7938e-04 - val_loss: 2.1946e-04\n",
            "Epoch 135/200\n",
            "64/64 [==============================] - 1s 11ms/step - loss: 1.8974e-04 - val_loss: 2.5509e-04\n",
            "Epoch 136/200\n",
            "64/64 [==============================] - 1s 11ms/step - loss: 2.2494e-04 - val_loss: 1.8392e-04\n",
            "Epoch 137/200\n",
            "64/64 [==============================] - 1s 11ms/step - loss: 2.8687e-04 - val_loss: 1.8161e-04\n",
            "Epoch 138/200\n",
            "64/64 [==============================] - 1s 11ms/step - loss: 1.2999e-04 - val_loss: 2.6641e-04\n",
            "Epoch 139/200\n",
            "64/64 [==============================] - 1s 11ms/step - loss: 1.9956e-04 - val_loss: 1.6235e-04\n",
            "Epoch 140/200\n",
            "64/64 [==============================] - 1s 11ms/step - loss: 9.9816e-05 - val_loss: 1.4519e-04\n",
            "Epoch 141/200\n",
            "64/64 [==============================] - 1s 11ms/step - loss: 1.3882e-04 - val_loss: 1.3627e-04\n",
            "Epoch 142/200\n",
            "64/64 [==============================] - 1s 11ms/step - loss: 1.8230e-04 - val_loss: 1.8831e-04\n",
            "Epoch 143/200\n",
            "64/64 [==============================] - 1s 11ms/step - loss: 4.8569e-04 - val_loss: 2.4762e-04\n",
            "Epoch 144/200\n",
            "64/64 [==============================] - 1s 11ms/step - loss: 1.5033e-04 - val_loss: 1.3732e-04\n",
            "Epoch 145/200\n",
            "64/64 [==============================] - 1s 11ms/step - loss: 9.0875e-05 - val_loss: 9.6243e-05\n",
            "Epoch 146/200\n",
            "64/64 [==============================] - 1s 11ms/step - loss: 9.7696e-05 - val_loss: 1.9781e-04\n",
            "Epoch 147/200\n",
            "64/64 [==============================] - 1s 11ms/step - loss: 2.1774e-04 - val_loss: 7.5169e-04\n",
            "Epoch 148/200\n",
            "64/64 [==============================] - 1s 11ms/step - loss: 7.5298e-04 - val_loss: 2.9084e-04\n",
            "Epoch 149/200\n",
            "64/64 [==============================] - 1s 11ms/step - loss: 6.9105e-04 - val_loss: 0.0010\n",
            "Epoch 150/200\n",
            "64/64 [==============================] - 1s 11ms/step - loss: 4.8952e-04 - val_loss: 1.3754e-04\n",
            "Epoch 151/200\n",
            "64/64 [==============================] - 1s 11ms/step - loss: 9.8580e-05 - val_loss: 1.1131e-04\n",
            "Epoch 152/200\n",
            "64/64 [==============================] - 1s 11ms/step - loss: 1.1053e-04 - val_loss: 1.2129e-04\n",
            "Epoch 153/200\n",
            "64/64 [==============================] - 1s 11ms/step - loss: 1.3450e-04 - val_loss: 2.1351e-04\n",
            "Epoch 154/200\n",
            "64/64 [==============================] - 1s 11ms/step - loss: 2.8601e-04 - val_loss: 1.4328e-04\n",
            "Epoch 155/200\n",
            "64/64 [==============================] - 1s 11ms/step - loss: 1.1122e-04 - val_loss: 1.3639e-04\n",
            "Epoch 156/200\n",
            "64/64 [==============================] - 1s 11ms/step - loss: 2.4422e-04 - val_loss: 1.2970e-04\n",
            "Epoch 157/200\n",
            "64/64 [==============================] - 1s 11ms/step - loss: 1.0165e-04 - val_loss: 1.2551e-04\n",
            "Epoch 158/200\n",
            "64/64 [==============================] - 1s 11ms/step - loss: 8.8601e-05 - val_loss: 1.2112e-04\n",
            "Epoch 159/200\n",
            "64/64 [==============================] - 1s 11ms/step - loss: 1.1546e-04 - val_loss: 1.0363e-04\n",
            "Epoch 160/200\n",
            "64/64 [==============================] - 1s 11ms/step - loss: 2.8376e-04 - val_loss: 0.0013\n",
            "Epoch 161/200\n",
            "64/64 [==============================] - 1s 11ms/step - loss: 4.5503e-04 - val_loss: 1.1687e-04\n",
            "Epoch 162/200\n",
            "64/64 [==============================] - 1s 12ms/step - loss: 9.1475e-05 - val_loss: 1.2492e-04\n",
            "Epoch 163/200\n",
            "64/64 [==============================] - 1s 11ms/step - loss: 1.1187e-04 - val_loss: 1.2798e-04\n",
            "Epoch 164/200\n",
            "64/64 [==============================] - 1s 11ms/step - loss: 1.0148e-04 - val_loss: 1.3045e-04\n",
            "Epoch 165/200\n",
            "64/64 [==============================] - 1s 11ms/step - loss: 1.6606e-04 - val_loss: 1.4802e-04\n",
            "Epoch 166/200\n",
            "64/64 [==============================] - 1s 11ms/step - loss: 0.0011 - val_loss: 0.0031\n",
            "Epoch 167/200\n",
            "64/64 [==============================] - 1s 11ms/step - loss: 7.8425e-04 - val_loss: 9.7747e-04\n",
            "Epoch 168/200\n",
            "64/64 [==============================] - 1s 11ms/step - loss: 5.8358e-04 - val_loss: 4.4457e-04\n",
            "Epoch 169/200\n",
            "64/64 [==============================] - 1s 11ms/step - loss: 1.8495e-04 - val_loss: 9.9197e-05\n",
            "Epoch 170/200\n",
            "64/64 [==============================] - 1s 11ms/step - loss: 1.3322e-04 - val_loss: 1.0749e-04\n",
            "Epoch 171/200\n",
            "64/64 [==============================] - 1s 11ms/step - loss: 1.2117e-04 - val_loss: 1.6347e-04\n",
            "Epoch 172/200\n",
            "64/64 [==============================] - 1s 11ms/step - loss: 1.4114e-04 - val_loss: 9.1137e-05\n",
            "Epoch 173/200\n",
            "64/64 [==============================] - 1s 11ms/step - loss: 1.0309e-04 - val_loss: 4.5038e-04\n",
            "Epoch 174/200\n",
            "64/64 [==============================] - 1s 11ms/step - loss: 1.6576e-04 - val_loss: 1.2730e-04\n",
            "Epoch 175/200\n",
            "64/64 [==============================] - 1s 11ms/step - loss: 1.0569e-04 - val_loss: 8.4770e-05\n",
            "Epoch 176/200\n",
            "64/64 [==============================] - 1s 11ms/step - loss: 1.2336e-04 - val_loss: 1.3693e-04\n",
            "Epoch 177/200\n",
            "64/64 [==============================] - 1s 11ms/step - loss: 6.8329e-05 - val_loss: 9.6168e-05\n",
            "Epoch 178/200\n",
            "64/64 [==============================] - 1s 11ms/step - loss: 8.3508e-05 - val_loss: 1.1692e-04\n",
            "Epoch 179/200\n",
            "64/64 [==============================] - 1s 11ms/step - loss: 7.2719e-05 - val_loss: 1.4005e-04\n",
            "Epoch 180/200\n",
            "64/64 [==============================] - 1s 11ms/step - loss: 1.5550e-04 - val_loss: 2.8338e-04\n",
            "Epoch 181/200\n",
            "64/64 [==============================] - 1s 11ms/step - loss: 1.4307e-04 - val_loss: 3.9163e-04\n",
            "Epoch 182/200\n",
            "64/64 [==============================] - 1s 11ms/step - loss: 5.0192e-04 - val_loss: 3.8122e-04\n",
            "Epoch 183/200\n",
            "64/64 [==============================] - 1s 11ms/step - loss: 2.0816e-04 - val_loss: 7.9095e-05\n",
            "Epoch 184/200\n",
            "64/64 [==============================] - 1s 11ms/step - loss: 6.9321e-05 - val_loss: 8.2971e-05\n",
            "Epoch 185/200\n",
            "64/64 [==============================] - 1s 11ms/step - loss: 1.3152e-04 - val_loss: 1.4819e-04\n",
            "Epoch 186/200\n",
            "64/64 [==============================] - 1s 11ms/step - loss: 1.3110e-04 - val_loss: 1.2869e-04\n",
            "Epoch 187/200\n",
            "64/64 [==============================] - 1s 11ms/step - loss: 2.7452e-04 - val_loss: 2.9142e-04\n",
            "Epoch 188/200\n",
            "64/64 [==============================] - 1s 11ms/step - loss: 9.8450e-05 - val_loss: 1.2864e-04\n",
            "Epoch 189/200\n",
            "64/64 [==============================] - 1s 11ms/step - loss: 6.5867e-05 - val_loss: 1.0179e-04\n",
            "Epoch 190/200\n",
            "64/64 [==============================] - 1s 11ms/step - loss: 1.0887e-04 - val_loss: 5.6216e-04\n",
            "Epoch 191/200\n",
            "64/64 [==============================] - 1s 11ms/step - loss: 2.4603e-04 - val_loss: 5.3920e-04\n",
            "Epoch 192/200\n",
            "64/64 [==============================] - 1s 11ms/step - loss: 2.2253e-04 - val_loss: 1.3433e-04\n",
            "Epoch 193/200\n",
            "64/64 [==============================] - 1s 11ms/step - loss: 1.6314e-04 - val_loss: 2.0902e-04\n",
            "Epoch 194/200\n",
            "64/64 [==============================] - 1s 11ms/step - loss: 1.2958e-04 - val_loss: 9.7794e-05\n",
            "Epoch 195/200\n",
            "64/64 [==============================] - 1s 11ms/step - loss: 1.2138e-04 - val_loss: 1.7907e-04\n",
            "Epoch 196/200\n",
            "64/64 [==============================] - 1s 12ms/step - loss: 1.9560e-04 - val_loss: 1.7788e-04\n",
            "Epoch 197/200\n",
            "64/64 [==============================] - 1s 12ms/step - loss: 2.0097e-04 - val_loss: 2.4880e-04\n",
            "Epoch 198/200\n",
            "64/64 [==============================] - 1s 11ms/step - loss: 1.8252e-04 - val_loss: 1.0107e-04\n",
            "Epoch 199/200\n",
            "64/64 [==============================] - 1s 12ms/step - loss: 7.3297e-05 - val_loss: 1.4383e-04\n",
            "Epoch 200/200\n",
            "64/64 [==============================] - 1s 12ms/step - loss: 6.9847e-05 - val_loss: 2.5511e-04\n"
          ],
          "name": "stdout"
        }
      ]
    },
    {
      "cell_type": "code",
      "metadata": {
        "id": "EtWDvDGWMYvD",
        "outputId": "581ef190-2377-4bdf-8ef6-cd1dc4f360ea",
        "colab": {
          "base_uri": "https://localhost:8080/",
          "height": 265
        }
      },
      "source": [
        "# 시각화\n",
        "plt.plot(history.history['loss'], 'b-', label ='loss')\n",
        "plt.plot(history.history['val_loss'], 'r--', label='val_loss')\n",
        "plt.legend()\n",
        "plt.show()"
      ],
      "execution_count": null,
      "outputs": [
        {
          "output_type": "display_data",
          "data": {
            "image/png": "[encoded data removed]",
            "text/plain": [
              "<Figure size 432x288 with 1 Axes>"
            ]
          },
          "metadata": {
            "tags": [],
            "needs_background": "light"
          }
        }
      ]
    },
    {
      "cell_type": "code",
      "metadata": {
        "id": "xpGwSVhnMcnq",
        "outputId": "5af452e5-b378-4ef7-f4e1-fc3a50f49a62",
        "colab": {
          "base_uri": "https://localhost:8080/"
        }
      },
      "source": [
        "# 테스트 데이터로 확인하기\n",
        "model.evaluate(X[2560:], Y[2560:])\n",
        "# 5개 테스트 데이터에 대한 예측  표시\n",
        "pred = model.predict(X[2560:2560+5])\n",
        "for i in range(5):\n",
        "  print(Y[2560+i],'\\t', pred[i][0], '\\tdiff:', abs(pred[i][0]-Y[2560+i]))\n",
        "\n",
        "# 전체 테스트 데이터에 대한 정확도 확인 (오차가 0.04 이상인 경우 오답으로 처리)\n",
        "prediction = model.predict(X[2560:])\n",
        "# 오차가 0.04인경우 cnt할 변수 fail 선언\n",
        "fail = 0\n",
        "for i in range(len(prediction)):\n",
        "  if abs(prediction[i][0]-Y[2560+i])  > 0.04:\n",
        "    fail +=1\n",
        "print('correctness: ', (440-fail)/440*100, '%')"
      ],
      "execution_count": null,
      "outputs": [
        {
          "output_type": "stream",
          "text": [
            "14/14 [==============================] - 0s 5ms/step - loss: 2.2158e-04\n",
            "0.18982348094415957 \t 0.20603392 \tdiff: 0.016210434337136204\n",
            "0.674710649073077 \t 0.68897295 \tdiff: 0.014262300908612469\n",
            "0.6782049608977108 \t 0.6859547 \tdiff: 0.00774972908184246\n",
            "0.019594320405173397 \t 0.01709038 \tdiff: 0.002503940213370418\n",
            "0.014357379445345635 \t 0.01109466 \tdiff: 0.003262719878466363\n",
            "correctness:  99.54545454545455 %\n"
          ],
          "name": "stdout"
        }
      ]
    },
    {
      "cell_type": "markdown",
      "metadata": {
        "id": "u9BIZQMoMqk5"
      },
      "source": [
        "- epoch 수도 함께 늘리니 뉴런개수가 늘어난 효과가 있었다 : 99.5454%"
      ]
    },
    {
      "cell_type": "markdown",
      "metadata": {
        "id": "WMFMmXhT7qvO"
      },
      "source": [
        "## 활성화 함수를 변경해보자 :tanh => ReLU\n",
        "-  디폴트 함수 값 참조\n",
        "tf.keras.layers.LSTM(units, activation='tanh', recurrent_activation='sigmoid', use_bias=True, kernel_initializer='glorot_uniform', recurrent_initializer='orthogonal', bias_initializer='zeros', unit_forget_bias=True, kernel_regularizer=None, recurrent_regularizer=None, bias_regularizer=None, activity_regularizer=None, kernel_constraint=None, recurrent_constraint=None, bias_constraint=None, dropout=0.0, recurrent_dropout=0.0, implementation=2, return_sequences=False, return_state=False, go_backwards=False, stateful=False, time_major=False, unroll=False, **kwargs)"
      ]
    },
    {
      "cell_type": "code",
      "metadata": {
        "id": "NFQLZV6Q6odm",
        "outputId": "05aef453-054e-418c-e396-f636fc11b281",
        "colab": {
          "base_uri": "https://localhost:8080/"
        }
      },
      "source": [
        "# 활성화 함수 변경\n",
        "model = tf.keras.Sequential([\n",
        "                               tf.keras.layers.LSTM(units=30, activation='relu' ,return_sequences=True, input_shape=[100,2])\n",
        "                             , tf.keras.layers.LSTM(units=30)\n",
        "                             , tf.keras.layers.Dense(1)\n",
        "])"
      ],
      "execution_count": null,
      "outputs": [
        {
          "output_type": "stream",
          "text": [
            "WARNING:tensorflow:Layer lstm_4 will not use cuDNN kernel since it doesn't meet the cuDNN kernel criteria. It will use generic GPU kernel as fallback when running on GPU\n"
          ],
          "name": "stdout"
        }
      ]
    },
    {
      "cell_type": "code",
      "metadata": {
        "id": "tGY4PYRH7-w2",
        "outputId": "cf63c1f2-d77a-47b0-b2d9-fba0ebc95b24",
        "colab": {
          "base_uri": "https://localhost:8080/"
        }
      },
      "source": [
        "model.compile(optimizer='adam', loss='mse')\n",
        "model.summary()"
      ],
      "execution_count": null,
      "outputs": [
        {
          "output_type": "stream",
          "text": [
            "Model: \"sequential_3\"\n",
            "_________________________________________________________________\n",
            "Layer (type)                 Output Shape              Param #   \n",
            "=================================================================\n",
            "lstm_4 (LSTM)                (None, 100, 30)           3960      \n",
            "_________________________________________________________________\n",
            "lstm_5 (LSTM)                (None, 30)                7320      \n",
            "_________________________________________________________________\n",
            "dense_3 (Dense)              (None, 1)                 31        \n",
            "=================================================================\n",
            "Total params: 11,311\n",
            "Trainable params: 11,311\n",
            "Non-trainable params: 0\n",
            "_________________________________________________________________\n"
          ],
          "name": "stdout"
        }
      ]
    },
    {
      "cell_type": "code",
      "metadata": {
        "id": "ZwoaL_Cx8jZO"
      },
      "source": [
        "history = model.fit(X[:2560],Y[:2560], epochs=100, validation_split=0.2)"
      ],
      "execution_count": null,
      "outputs": []
    },
    {
      "cell_type": "code",
      "metadata": {
        "id": "GlbchBal8tkt",
        "outputId": "284e4ea7-673e-4b31-cd86-0137fe2e4f48",
        "colab": {
          "base_uri": "https://localhost:8080/",
          "height": 265
        }
      },
      "source": [
        "# 시각화\n",
        "plt.plot(history.history['loss'], 'b-', label ='loss')\n",
        "plt.plot(history.history['val_loss'], 'r--', label='val_loss')\n",
        "plt.legend()\n",
        "plt.show()"
      ],
      "execution_count": null,
      "outputs": [
        {
          "output_type": "display_data",
          "data": {
            "image/png": "[encoded data removed]",
            "text/plain": [
              "<Figure size 432x288 with 1 Axes>"
            ]
          },
          "metadata": {
            "tags": [],
            "needs_background": "light"
          }
        }
      ]
    },
    {
      "cell_type": "markdown",
      "metadata": {
        "id": "4OQyZ8Cu-bc9"
      },
      "source": [
        "- epoch 수가 증가하면서 오히려 튀는 지점이 생겨났다. early stopping 을 주는 것이 모델 신뢰성 측면에서도 더 좋겠다\n",
        "- 즉 네트워크가 과적합 되지 않도록 학습 도중에 끼어들어(Callback함수) 학습을 중단시켜야 한다"
      ]
    },
    {
      "cell_type": "markdown",
      "metadata": {
        "id": "YNwSWNUn_vqu"
      },
      "source": [
        "### Callback 함수 적용(Earlystopping)"
      ]
    },
    {
      "cell_type": "code",
      "metadata": {
        "id": "Piioo7mh_sR3",
        "outputId": "6140d690-d03c-44d6-ff77-0f026240b111",
        "colab": {
          "base_uri": "https://localhost:8080/"
        }
      },
      "source": [
        "# 모델은 앞과 동일\n",
        "model = tf.keras.Sequential([\n",
        "                               tf.keras.layers.LSTM(units=30, activation='relu' ,return_sequences=True, input_shape=[100,2])\n",
        "                             , tf.keras.layers.LSTM(units=30)\n",
        "                             , tf.keras.layers.Dense(1)\n",
        "])"
      ],
      "execution_count": null,
      "outputs": [
        {
          "output_type": "stream",
          "text": [
            "WARNING:tensorflow:Layer lstm_8 will not use cuDNN kernel since it doesn't meet the cuDNN kernel criteria. It will use generic GPU kernel as fallback when running on GPU\n"
          ],
          "name": "stdout"
        }
      ]
    },
    {
      "cell_type": "code",
      "metadata": {
        "id": "38dFSa8a_5GA",
        "outputId": "722a5ff5-bb8f-4668-e7ef-6b1c950d45a6",
        "colab": {
          "base_uri": "https://localhost:8080/"
        }
      },
      "source": [
        "model.compile(optimizer='adam', loss='mse')\n",
        "model.summary()"
      ],
      "execution_count": null,
      "outputs": [
        {
          "output_type": "stream",
          "text": [
            "Model: \"sequential_5\"\n",
            "_________________________________________________________________\n",
            "Layer (type)                 Output Shape              Param #   \n",
            "=================================================================\n",
            "lstm_8 (LSTM)                (None, 100, 30)           3960      \n",
            "_________________________________________________________________\n",
            "lstm_9 (LSTM)                (None, 30)                7320      \n",
            "_________________________________________________________________\n",
            "dense_5 (Dense)              (None, 1)                 31        \n",
            "=================================================================\n",
            "Total params: 11,311\n",
            "Trainable params: 11,311\n",
            "Non-trainable params: 0\n",
            "_________________________________________________________________\n"
          ],
          "name": "stdout"
        }
      ]
    },
    {
      "cell_type": "code",
      "metadata": {
        "id": "5lkeq_WX-bGu",
        "outputId": "ec2c0dc4-0c1f-43b6-c326-8571d026fbab",
        "colab": {
          "base_uri": "https://localhost:8080/"
        }
      },
      "source": [
        "# fitting 시 callbacks 옵션 지정\n",
        "history = model.fit(X[:2560],Y[:2560], epochs=100, validation_split=0.2\n",
        "                    ,callbacks=[tf.keras.callbacks.EarlyStopping(patience=10, monitor='val_loss')])"
      ],
      "execution_count": null,
      "outputs": [
        {
          "output_type": "stream",
          "text": [
            "Epoch 1/100\n",
            "64/64 [==============================] - 4s 69ms/step - loss: 0.0546 - val_loss: 0.0460\n",
            "Epoch 2/100\n",
            "64/64 [==============================] - 4s 65ms/step - loss: 0.0494 - val_loss: 0.0447\n",
            "Epoch 3/100\n",
            "64/64 [==============================] - 4s 64ms/step - loss: 0.0471 - val_loss: 0.0414\n",
            "Epoch 4/100\n",
            "64/64 [==============================] - 4s 64ms/step - loss: 0.0429 - val_loss: 0.0348\n",
            "Epoch 5/100\n",
            "64/64 [==============================] - 4s 64ms/step - loss: 0.0194 - val_loss: 0.0097\n",
            "Epoch 6/100\n",
            "64/64 [==============================] - 4s 64ms/step - loss: 0.0077 - val_loss: 0.0061\n",
            "Epoch 7/100\n",
            "64/64 [==============================] - 4s 65ms/step - loss: 0.0095 - val_loss: 0.0047\n",
            "Epoch 8/100\n",
            "64/64 [==============================] - 4s 64ms/step - loss: 0.0048 - val_loss: 0.0044\n",
            "Epoch 9/100\n",
            "64/64 [==============================] - 4s 64ms/step - loss: 0.0044 - val_loss: 0.0037\n",
            "Epoch 10/100\n",
            "64/64 [==============================] - 4s 64ms/step - loss: 0.0034 - val_loss: 0.0038\n",
            "Epoch 11/100\n",
            "64/64 [==============================] - 4s 64ms/step - loss: 0.0027 - val_loss: 0.0024\n",
            "Epoch 12/100\n",
            "64/64 [==============================] - 4s 64ms/step - loss: 0.0035 - val_loss: 0.0022\n",
            "Epoch 13/100\n",
            "64/64 [==============================] - 4s 64ms/step - loss: 0.0024 - val_loss: 0.0024\n",
            "Epoch 14/100\n",
            "64/64 [==============================] - 4s 65ms/step - loss: 0.0019 - val_loss: 0.0020\n",
            "Epoch 15/100\n",
            "64/64 [==============================] - 4s 64ms/step - loss: 0.0022 - val_loss: 0.0024\n",
            "Epoch 16/100\n",
            "64/64 [==============================] - 4s 64ms/step - loss: 0.0018 - val_loss: 0.0019\n",
            "Epoch 17/100\n",
            "64/64 [==============================] - 4s 64ms/step - loss: 0.0018 - val_loss: 0.0015\n",
            "Epoch 18/100\n",
            "64/64 [==============================] - 4s 64ms/step - loss: 0.0017 - val_loss: 0.0013\n",
            "Epoch 19/100\n",
            "64/64 [==============================] - 4s 64ms/step - loss: 0.0016 - val_loss: 0.0013\n",
            "Epoch 20/100\n",
            "64/64 [==============================] - 4s 64ms/step - loss: 0.0021 - val_loss: 0.0012\n",
            "Epoch 21/100\n",
            "64/64 [==============================] - 4s 64ms/step - loss: 0.0014 - val_loss: 0.0012\n",
            "Epoch 22/100\n",
            "64/64 [==============================] - 4s 65ms/step - loss: 0.0011 - val_loss: 9.2548e-04\n",
            "Epoch 23/100\n",
            "64/64 [==============================] - 4s 64ms/step - loss: 0.0010 - val_loss: 7.7853e-04\n",
            "Epoch 24/100\n",
            "64/64 [==============================] - 4s 64ms/step - loss: 0.0011 - val_loss: 0.0017\n",
            "Epoch 25/100\n",
            "64/64 [==============================] - 4s 64ms/step - loss: 0.0012 - val_loss: 0.0013\n",
            "Epoch 26/100\n",
            "64/64 [==============================] - 4s 64ms/step - loss: 9.0042e-04 - val_loss: 6.1885e-04\n",
            "Epoch 27/100\n",
            "64/64 [==============================] - 4s 64ms/step - loss: 8.7945e-04 - val_loss: 6.3842e-04\n",
            "Epoch 28/100\n",
            "64/64 [==============================] - 4s 64ms/step - loss: 8.6024e-04 - val_loss: 6.2779e-04\n",
            "Epoch 29/100\n",
            "64/64 [==============================] - 4s 64ms/step - loss: 7.3061e-04 - val_loss: 6.2940e-04\n",
            "Epoch 30/100\n",
            "64/64 [==============================] - 4s 64ms/step - loss: 6.9169e-04 - val_loss: 7.2283e-04\n",
            "Epoch 31/100\n",
            "64/64 [==============================] - 4s 64ms/step - loss: 8.8690e-04 - val_loss: 0.0028\n",
            "Epoch 32/100\n",
            "64/64 [==============================] - 4s 64ms/step - loss: 9.8424e-04 - val_loss: 8.4353e-04\n",
            "Epoch 33/100\n",
            "64/64 [==============================] - 4s 64ms/step - loss: 6.5146e-04 - val_loss: 4.2611e-04\n",
            "Epoch 34/100\n",
            "64/64 [==============================] - 4s 64ms/step - loss: 6.1838e-04 - val_loss: 7.3363e-04\n",
            "Epoch 35/100\n",
            "64/64 [==============================] - 4s 64ms/step - loss: 7.5895e-04 - val_loss: 4.1802e-04\n",
            "Epoch 36/100\n",
            "64/64 [==============================] - 4s 65ms/step - loss: 5.7735e-04 - val_loss: 4.2593e-04\n",
            "Epoch 37/100\n",
            "64/64 [==============================] - 4s 65ms/step - loss: 5.2405e-04 - val_loss: 4.0302e-04\n",
            "Epoch 38/100\n",
            "64/64 [==============================] - 4s 64ms/step - loss: 4.3191e-04 - val_loss: 3.8106e-04\n",
            "Epoch 39/100\n",
            "64/64 [==============================] - 4s 64ms/step - loss: 6.3979e-04 - val_loss: 4.0412e-04\n",
            "Epoch 40/100\n",
            "64/64 [==============================] - 4s 64ms/step - loss: 4.7639e-04 - val_loss: 5.1381e-04\n",
            "Epoch 41/100\n",
            "64/64 [==============================] - 4s 64ms/step - loss: 4.6938e-04 - val_loss: 3.9452e-04\n",
            "Epoch 42/100\n",
            "64/64 [==============================] - 4s 64ms/step - loss: 5.9916e-04 - val_loss: 3.4880e-04\n",
            "Epoch 43/100\n",
            "64/64 [==============================] - 4s 64ms/step - loss: 3.4751e-04 - val_loss: 3.7755e-04\n",
            "Epoch 44/100\n",
            "64/64 [==============================] - 4s 65ms/step - loss: 5.0513e-04 - val_loss: 3.0107e-04\n",
            "Epoch 45/100\n",
            "64/64 [==============================] - 4s 64ms/step - loss: 6.7684e-04 - val_loss: 8.3059e-04\n",
            "Epoch 46/100\n",
            "64/64 [==============================] - 4s 64ms/step - loss: 4.4595e-04 - val_loss: 4.0224e-04\n",
            "Epoch 47/100\n",
            "64/64 [==============================] - 4s 64ms/step - loss: 3.7101e-04 - val_loss: 3.1319e-04\n",
            "Epoch 48/100\n",
            "64/64 [==============================] - 4s 65ms/step - loss: 3.4650e-04 - val_loss: 2.9451e-04\n",
            "Epoch 49/100\n",
            "64/64 [==============================] - 4s 64ms/step - loss: 4.0937e-04 - val_loss: 2.4721e-04\n",
            "Epoch 50/100\n",
            "64/64 [==============================] - 4s 63ms/step - loss: 2.9402e-04 - val_loss: 3.4135e-04\n",
            "Epoch 51/100\n",
            "64/64 [==============================] - 4s 65ms/step - loss: 3.2286e-04 - val_loss: 2.4657e-04\n",
            "Epoch 52/100\n",
            "64/64 [==============================] - 4s 65ms/step - loss: 4.0163e-04 - val_loss: 2.5188e-04\n",
            "Epoch 53/100\n",
            "64/64 [==============================] - 4s 64ms/step - loss: 3.0166e-04 - val_loss: 3.3216e-04\n",
            "Epoch 54/100\n",
            "64/64 [==============================] - 4s 64ms/step - loss: 3.6349e-04 - val_loss: 0.0014\n",
            "Epoch 55/100\n",
            "64/64 [==============================] - 4s 67ms/step - loss: 4.4774e-04 - val_loss: 2.5712e-04\n",
            "Epoch 56/100\n",
            "64/64 [==============================] - 4s 67ms/step - loss: 3.0152e-04 - val_loss: 2.9768e-04\n",
            "Epoch 57/100\n",
            "64/64 [==============================] - 4s 67ms/step - loss: 3.0203e-04 - val_loss: 2.2248e-04\n",
            "Epoch 58/100\n",
            "64/64 [==============================] - 4s 64ms/step - loss: 2.5393e-04 - val_loss: 2.2068e-04\n",
            "Epoch 59/100\n",
            "64/64 [==============================] - 4s 65ms/step - loss: 8.8541e-04 - val_loss: 8.3359e-04\n",
            "Epoch 60/100\n",
            "64/64 [==============================] - 4s 65ms/step - loss: 5.9874e-04 - val_loss: 2.6560e-04\n",
            "Epoch 61/100\n",
            "64/64 [==============================] - 4s 64ms/step - loss: 3.0212e-04 - val_loss: 2.2751e-04\n",
            "Epoch 62/100\n",
            "64/64 [==============================] - 4s 64ms/step - loss: 2.0239e-04 - val_loss: 2.4307e-04\n",
            "Epoch 63/100\n",
            "64/64 [==============================] - 4s 64ms/step - loss: 2.9512e-04 - val_loss: 2.3783e-04\n",
            "Epoch 64/100\n",
            "64/64 [==============================] - 4s 64ms/step - loss: 2.7949e-04 - val_loss: 8.6284e-04\n",
            "Epoch 65/100\n",
            "64/64 [==============================] - 4s 64ms/step - loss: 2.3556e-04 - val_loss: 2.0407e-04\n",
            "Epoch 66/100\n",
            "64/64 [==============================] - 4s 64ms/step - loss: 2.6265e-04 - val_loss: 5.7752e-04\n",
            "Epoch 67/100\n",
            "64/64 [==============================] - 4s 65ms/step - loss: 5.3086e-04 - val_loss: 1.8889e-04\n",
            "Epoch 68/100\n",
            "64/64 [==============================] - 4s 64ms/step - loss: 4.8390e-04 - val_loss: 0.0017\n",
            "Epoch 69/100\n",
            "64/64 [==============================] - 4s 64ms/step - loss: 5.0562e-04 - val_loss: 2.0760e-04\n",
            "Epoch 70/100\n",
            "64/64 [==============================] - 4s 65ms/step - loss: 6.0479e-04 - val_loss: 2.7963e-04\n",
            "Epoch 71/100\n",
            "64/64 [==============================] - 4s 64ms/step - loss: 1.9962e-04 - val_loss: 2.1547e-04\n",
            "Epoch 72/100\n",
            "64/64 [==============================] - 4s 65ms/step - loss: 2.1039e-04 - val_loss: 2.7072e-04\n",
            "Epoch 73/100\n",
            "64/64 [==============================] - 4s 64ms/step - loss: 3.6219e-04 - val_loss: 2.8937e-04\n",
            "Epoch 74/100\n",
            "64/64 [==============================] - 4s 65ms/step - loss: 1.5228e-04 - val_loss: 1.5897e-04\n",
            "Epoch 75/100\n",
            "64/64 [==============================] - 4s 66ms/step - loss: 1.6346e-04 - val_loss: 1.9194e-04\n",
            "Epoch 76/100\n",
            "64/64 [==============================] - 4s 65ms/step - loss: 1.3132e-04 - val_loss: 1.3370e-04\n",
            "Epoch 77/100\n",
            "64/64 [==============================] - 4s 64ms/step - loss: 2.1900e-04 - val_loss: 2.0575e-04\n",
            "Epoch 78/100\n",
            "64/64 [==============================] - 4s 65ms/step - loss: 2.3942e-04 - val_loss: 1.3571e-04\n",
            "Epoch 79/100\n",
            "64/64 [==============================] - 4s 65ms/step - loss: 2.1343e-04 - val_loss: 2.4181e-04\n",
            "Epoch 80/100\n",
            "64/64 [==============================] - 4s 64ms/step - loss: 1.5187e-04 - val_loss: 1.3267e-04\n",
            "Epoch 81/100\n",
            "64/64 [==============================] - 4s 65ms/step - loss: 1.5681e-04 - val_loss: 1.7536e-04\n",
            "Epoch 82/100\n",
            "64/64 [==============================] - 4s 65ms/step - loss: 2.1811e-04 - val_loss: 2.2204e-04\n",
            "Epoch 83/100\n",
            "64/64 [==============================] - 4s 64ms/step - loss: 1.8631e-04 - val_loss: 3.2135e-04\n",
            "Epoch 84/100\n",
            "64/64 [==============================] - 4s 64ms/step - loss: 3.5528e-04 - val_loss: 4.3726e-04\n",
            "Epoch 85/100\n",
            "64/64 [==============================] - 4s 64ms/step - loss: 5.1743e-04 - val_loss: 5.3631e-04\n",
            "Epoch 86/100\n",
            "64/64 [==============================] - 4s 66ms/step - loss: 2.6241e-04 - val_loss: 1.5796e-04\n",
            "Epoch 87/100\n",
            "64/64 [==============================] - 4s 64ms/step - loss: 1.1076e-04 - val_loss: 1.2511e-04\n",
            "Epoch 88/100\n",
            "64/64 [==============================] - 4s 64ms/step - loss: 1.1142e-04 - val_loss: 2.3925e-04\n",
            "Epoch 89/100\n",
            "64/64 [==============================] - 4s 65ms/step - loss: 1.2022e-04 - val_loss: 1.0788e-04\n",
            "Epoch 90/100\n",
            "64/64 [==============================] - 4s 64ms/step - loss: 1.5224e-04 - val_loss: 7.0909e-04\n",
            "Epoch 91/100\n",
            "64/64 [==============================] - 4s 63ms/step - loss: 0.0016 - val_loss: 0.0012\n",
            "Epoch 92/100\n",
            "64/64 [==============================] - 4s 65ms/step - loss: 4.6767e-04 - val_loss: 1.4644e-04\n",
            "Epoch 93/100\n",
            "64/64 [==============================] - 4s 64ms/step - loss: 1.4887e-04 - val_loss: 1.3251e-04\n",
            "Epoch 94/100\n",
            "64/64 [==============================] - 4s 64ms/step - loss: 1.1537e-04 - val_loss: 1.9358e-04\n",
            "Epoch 95/100\n",
            "64/64 [==============================] - 4s 63ms/step - loss: 1.3676e-04 - val_loss: 2.1016e-04\n",
            "Epoch 96/100\n",
            "64/64 [==============================] - 4s 65ms/step - loss: 1.1431e-04 - val_loss: 1.1140e-04\n",
            "Epoch 97/100\n",
            "64/64 [==============================] - 4s 69ms/step - loss: 1.6518e-04 - val_loss: 1.9517e-04\n",
            "Epoch 98/100\n",
            "64/64 [==============================] - 4s 65ms/step - loss: 2.2952e-04 - val_loss: 1.5581e-04\n",
            "Epoch 99/100\n",
            "64/64 [==============================] - 4s 65ms/step - loss: 2.0958e-04 - val_loss: 1.4328e-04\n"
          ],
          "name": "stdout"
        }
      ]
    },
    {
      "cell_type": "markdown",
      "metadata": {
        "id": "57CgWPAnA20m"
      },
      "source": [
        "- 99번째 epoch에서 멈췄다"
      ]
    },
    {
      "cell_type": "code",
      "metadata": {
        "id": "KobTXDym-YFY",
        "outputId": "e1415e83-e72e-4e68-baf9-094bd8186155",
        "colab": {
          "base_uri": "https://localhost:8080/",
          "height": 265
        }
      },
      "source": [
        "# 시각화\n",
        "plt.plot(history.history['loss'], 'b-', label ='loss')\n",
        "plt.plot(history.history['val_loss'], 'r--', label='val_loss')\n",
        "plt.legend()\n",
        "plt.show()"
      ],
      "execution_count": null,
      "outputs": [
        {
          "output_type": "display_data",
          "data": {
            "image/png": "[encoded data removed]",
            "text/plain": [
              "<Figure size 432x288 with 1 Axes>"
            ]
          },
          "metadata": {
            "tags": [],
            "needs_background": "light"
          }
        }
      ]
    },
    {
      "cell_type": "markdown",
      "metadata": {
        "id": "Y7tKzo8JDape"
      },
      "source": [
        "- 모든 조건이 같다고 해서 항상 같은 결과를 내놓지 않는다. 즉 값이 튈때도 있고, 안 튈때도 있다 => 자연적인 실험 테스트와 같은 느낌이네"
      ]
    },
    {
      "cell_type": "code",
      "metadata": {
        "id": "Ku1lEE78A5O9",
        "outputId": "5b4830ce-1336-40a9-b06e-d3b2baf5dbe0",
        "colab": {
          "base_uri": "https://localhost:8080/"
        }
      },
      "source": [
        "# 테스트 데이터로 확인하기\n",
        "model.evaluate(X[2560:], Y[2560:])"
      ],
      "execution_count": null,
      "outputs": [
        {
          "output_type": "stream",
          "text": [
            "14/14 [==============================] - 0s 14ms/step - loss: 1.4028e-04\n"
          ],
          "name": "stdout"
        },
        {
          "output_type": "execute_result",
          "data": {
            "text/plain": [
              "0.0001402788911946118"
            ]
          },
          "metadata": {
            "tags": []
          },
          "execution_count": 80
        }
      ]
    },
    {
      "cell_type": "code",
      "metadata": {
        "id": "PwKZ1Of1A-TF",
        "outputId": "3e3d66a2-c59b-4e5a-eb50-48a1826be415",
        "colab": {
          "base_uri": "https://localhost:8080/"
        }
      },
      "source": [
        "# 5개 테스트 데이터에 대한 예측  표시\n",
        "pred = model.predict(X[2560:2560+5])\n",
        "for i in range(5):\n",
        "  print(Y[2560+i],'\\t', pred[i][0], '\\tdiff:', abs(pred[i][0]-Y[2560+i]))\n",
        "\n",
        "# 전체 테스트 데이터에 대한 정확도 확인 (오차가 0.04 이상인 경우 오답으로 처리)\n",
        "prediction = model.predict(X[2560:])\n",
        "# 오차가 0.04인경우 cnt할 변수 fail 선언\n",
        "fail = 0\n",
        "for i in range(len(prediction)):\n",
        "  if abs(prediction[i][0]-Y[2560+i])  > 0.04:\n",
        "    fail +=1\n",
        "print('correctness: ', (440-fail)/440*100, '%')"
      ],
      "execution_count": null,
      "outputs": [
        {
          "output_type": "stream",
          "text": [
            "0.18982348094415957 \t 0.20738703 \tdiff: 0.017563549180504734\n",
            "0.674710649073077 \t 0.674818 \tdiff: 0.00010733026270792756\n",
            "0.6782049608977108 \t 0.6718953 \tdiff: 0.006309635713842354\n",
            "0.019594320405173397 \t 0.025730185 \tdiff: 0.006135864805531407\n",
            "0.014357379445345635 \t 0.022233136 \tdiff: 0.007875756552903419\n",
            "correctness:  99.54545454545455 %\n"
          ],
          "name": "stdout"
        }
      ]
    },
    {
      "cell_type": "markdown",
      "metadata": {
        "id": "-UYjK_7d_NDs"
      },
      "source": [
        "#### earlystopping : 5"
      ]
    },
    {
      "cell_type": "code",
      "metadata": {
        "id": "4e8PJTz7-yvF",
        "outputId": "3a9b0bcf-0d83-4cc7-a75a-a7faeb1ddfdf",
        "colab": {
          "base_uri": "https://localhost:8080/"
        }
      },
      "source": [
        "# 모델은 앞과 동일\n",
        "model = tf.keras.Sequential([\n",
        "                               tf.keras.layers.LSTM(units=30, activation='relu' ,return_sequences=True, input_shape=[100,2])\n",
        "                             , tf.keras.layers.LSTM(units=30)\n",
        "                             , tf.keras.layers.Dense(1)\n",
        "])"
      ],
      "execution_count": null,
      "outputs": [
        {
          "output_type": "stream",
          "text": [
            "WARNING:tensorflow:Layer lstm will not use cuDNN kernel since it doesn't meet the cuDNN kernel criteria. It will use generic GPU kernel as fallback when running on GPU\n"
          ],
          "name": "stdout"
        }
      ]
    },
    {
      "cell_type": "code",
      "metadata": {
        "id": "oK909bDa-7Hs",
        "outputId": "01590353-318a-4caa-a9b8-ef9d8aca7290",
        "colab": {
          "base_uri": "https://localhost:8080/"
        }
      },
      "source": [
        "model.compile(optimizer='adam', loss='mse')\n",
        "model.summary()"
      ],
      "execution_count": null,
      "outputs": [
        {
          "output_type": "stream",
          "text": [
            "Model: \"sequential\"\n",
            "_________________________________________________________________\n",
            "Layer (type)                 Output Shape              Param #   \n",
            "=================================================================\n",
            "lstm (LSTM)                  (None, 100, 30)           3960      \n",
            "_________________________________________________________________\n",
            "lstm_1 (LSTM)                (None, 30)                7320      \n",
            "_________________________________________________________________\n",
            "dense (Dense)                (None, 1)                 31        \n",
            "=================================================================\n",
            "Total params: 11,311\n",
            "Trainable params: 11,311\n",
            "Non-trainable params: 0\n",
            "_________________________________________________________________\n"
          ],
          "name": "stdout"
        }
      ]
    },
    {
      "cell_type": "code",
      "metadata": {
        "id": "MAU6l7oK-8-F",
        "outputId": "97c3e8fc-6f82-4116-bb74-35abccc52279",
        "colab": {
          "base_uri": "https://localhost:8080/"
        }
      },
      "source": [
        "# fitting 시 callbacks 옵션 지정\n",
        "history = model.fit(X[:2560],Y[:2560], epochs=100, validation_split=0.2\n",
        "                    ,callbacks=[tf.keras.callbacks.EarlyStopping(patience=5, monitor='val_loss')])"
      ],
      "execution_count": null,
      "outputs": [
        {
          "output_type": "stream",
          "text": [
            "Epoch 1/100\n",
            "64/64 [==============================] - 4s 67ms/step - loss: 0.0526 - val_loss: 0.0489\n",
            "Epoch 2/100\n",
            "64/64 [==============================] - 4s 61ms/step - loss: 0.0479 - val_loss: 0.0483\n",
            "Epoch 3/100\n",
            "64/64 [==============================] - 4s 61ms/step - loss: 0.0460 - val_loss: 0.0461\n",
            "Epoch 4/100\n",
            "64/64 [==============================] - 4s 63ms/step - loss: 0.0435 - val_loss: 0.0436\n",
            "Epoch 5/100\n",
            "64/64 [==============================] - 4s 63ms/step - loss: 0.0402 - val_loss: 0.0356\n",
            "Epoch 6/100\n",
            "64/64 [==============================] - 4s 63ms/step - loss: 0.0260 - val_loss: 0.0126\n",
            "Epoch 7/100\n",
            "64/64 [==============================] - 4s 62ms/step - loss: 0.0132 - val_loss: 0.0115\n",
            "Epoch 8/100\n",
            "64/64 [==============================] - 4s 62ms/step - loss: 0.0070 - val_loss: 0.0049\n",
            "Epoch 9/100\n",
            "64/64 [==============================] - 4s 62ms/step - loss: 0.0072 - val_loss: 0.0051\n",
            "Epoch 10/100\n",
            "64/64 [==============================] - 4s 61ms/step - loss: 0.0049 - val_loss: 0.0036\n",
            "Epoch 11/100\n",
            "64/64 [==============================] - 4s 61ms/step - loss: 0.0039 - val_loss: 0.0043\n",
            "Epoch 12/100\n",
            "64/64 [==============================] - 4s 60ms/step - loss: 0.0037 - val_loss: 0.0051\n",
            "Epoch 13/100\n",
            "64/64 [==============================] - 4s 62ms/step - loss: 0.0034 - val_loss: 0.0033\n",
            "Epoch 14/100\n",
            "64/64 [==============================] - 4s 61ms/step - loss: 0.0026 - val_loss: 0.0026\n",
            "Epoch 15/100\n",
            "64/64 [==============================] - 4s 61ms/step - loss: 0.0032 - val_loss: 0.0026\n",
            "Epoch 16/100\n",
            "64/64 [==============================] - 4s 61ms/step - loss: 0.0027 - val_loss: 0.0025\n",
            "Epoch 17/100\n",
            "64/64 [==============================] - 4s 60ms/step - loss: 0.0021 - val_loss: 0.0021\n",
            "Epoch 18/100\n",
            "64/64 [==============================] - 4s 61ms/step - loss: 0.0023 - val_loss: 0.0037\n",
            "Epoch 19/100\n",
            "64/64 [==============================] - 4s 61ms/step - loss: 0.0025 - val_loss: 0.0023\n",
            "Epoch 20/100\n",
            "64/64 [==============================] - 4s 61ms/step - loss: 0.0024 - val_loss: 0.0029\n",
            "Epoch 21/100\n",
            "64/64 [==============================] - 4s 61ms/step - loss: 0.0022 - val_loss: 0.0021\n",
            "Epoch 22/100\n",
            "64/64 [==============================] - 4s 61ms/step - loss: 0.0019 - val_loss: 0.0016\n",
            "Epoch 23/100\n",
            "64/64 [==============================] - 4s 60ms/step - loss: 0.0018 - val_loss: 0.0025\n",
            "Epoch 24/100\n",
            "64/64 [==============================] - 4s 61ms/step - loss: 0.0019 - val_loss: 0.0023\n",
            "Epoch 25/100\n",
            "64/64 [==============================] - 4s 60ms/step - loss: 0.0018 - val_loss: 0.0016\n",
            "Epoch 26/100\n",
            "64/64 [==============================] - 4s 61ms/step - loss: 0.0015 - val_loss: 0.0014\n",
            "Epoch 27/100\n",
            "64/64 [==============================] - 4s 61ms/step - loss: 0.0016 - val_loss: 0.0020\n",
            "Epoch 28/100\n",
            "64/64 [==============================] - 4s 62ms/step - loss: 0.0013 - val_loss: 0.0024\n",
            "Epoch 29/100\n",
            "64/64 [==============================] - 4s 62ms/step - loss: 0.0013 - val_loss: 0.0012\n",
            "Epoch 30/100\n",
            "64/64 [==============================] - 4s 60ms/step - loss: 0.0013 - val_loss: 0.0011\n",
            "Epoch 31/100\n",
            "64/64 [==============================] - 4s 61ms/step - loss: 0.0011 - val_loss: 0.0010\n",
            "Epoch 32/100\n",
            "64/64 [==============================] - 4s 60ms/step - loss: 0.0014 - val_loss: 0.0014\n",
            "Epoch 33/100\n",
            "64/64 [==============================] - 4s 60ms/step - loss: 0.0011 - val_loss: 0.0012\n",
            "Epoch 34/100\n",
            "64/64 [==============================] - 4s 61ms/step - loss: 8.0667e-04 - val_loss: 8.4857e-04\n",
            "Epoch 35/100\n",
            "64/64 [==============================] - 4s 61ms/step - loss: 9.9273e-04 - val_loss: 0.0011\n",
            "Epoch 36/100\n",
            "64/64 [==============================] - 4s 61ms/step - loss: 8.1940e-04 - val_loss: 8.9248e-04\n",
            "Epoch 37/100\n",
            "64/64 [==============================] - 4s 61ms/step - loss: 7.4750e-04 - val_loss: 7.5981e-04\n",
            "Epoch 38/100\n",
            "64/64 [==============================] - 4s 61ms/step - loss: 9.2100e-04 - val_loss: 0.0020\n",
            "Epoch 39/100\n",
            "64/64 [==============================] - 4s 61ms/step - loss: 8.4226e-04 - val_loss: 8.2190e-04\n",
            "Epoch 40/100\n",
            "64/64 [==============================] - 4s 60ms/step - loss: 0.0011 - val_loss: 7.6900e-04\n",
            "Epoch 41/100\n",
            "64/64 [==============================] - 4s 61ms/step - loss: 8.4531e-04 - val_loss: 6.4898e-04\n",
            "Epoch 42/100\n",
            "64/64 [==============================] - 4s 63ms/step - loss: 5.5737e-04 - val_loss: 5.8584e-04\n",
            "Epoch 43/100\n",
            "64/64 [==============================] - 4s 62ms/step - loss: 5.7949e-04 - val_loss: 9.5160e-04\n",
            "Epoch 44/100\n",
            "64/64 [==============================] - 4s 61ms/step - loss: 7.2375e-04 - val_loss: 5.9335e-04\n",
            "Epoch 45/100\n",
            "64/64 [==============================] - 4s 61ms/step - loss: 5.6689e-04 - val_loss: 4.7229e-04\n",
            "Epoch 46/100\n",
            "64/64 [==============================] - 4s 60ms/step - loss: 6.8530e-04 - val_loss: 5.5960e-04\n",
            "Epoch 47/100\n",
            "64/64 [==============================] - 4s 60ms/step - loss: 4.4377e-04 - val_loss: 0.0011\n",
            "Epoch 48/100\n",
            "64/64 [==============================] - 4s 61ms/step - loss: 5.8485e-04 - val_loss: 4.9469e-04\n",
            "Epoch 49/100\n",
            "64/64 [==============================] - 4s 60ms/step - loss: 5.3486e-04 - val_loss: 6.4160e-04\n",
            "Epoch 50/100\n",
            "64/64 [==============================] - 4s 60ms/step - loss: 4.5225e-04 - val_loss: 5.7353e-04\n"
          ],
          "name": "stdout"
        }
      ]
    },
    {
      "cell_type": "code",
      "metadata": {
        "id": "VH7ASfPgALHn",
        "outputId": "b26dcd71-4b6a-48e4-b183-6a5ddf2958c4",
        "colab": {
          "base_uri": "https://localhost:8080/",
          "height": 265
        }
      },
      "source": [
        "# 시각화\n",
        "plt.plot(history.history['loss'], 'b-', label ='loss')\n",
        "plt.plot(history.history['val_loss'], 'r--', label='val_loss')\n",
        "plt.legend()\n",
        "plt.show()"
      ],
      "execution_count": null,
      "outputs": [
        {
          "output_type": "display_data",
          "data": {
            "image/png": "[encoded data removed]",
            "text/plain": [
              "<Figure size 432x288 with 1 Axes>"
            ]
          },
          "metadata": {
            "tags": [],
            "needs_background": "light"
          }
        }
      ]
    },
    {
      "cell_type": "code",
      "metadata": {
        "id": "A1qAK88oASFf",
        "outputId": "4fc01f6a-b81c-42e2-c8b1-182371a3279f",
        "colab": {
          "base_uri": "https://localhost:8080/"
        }
      },
      "source": [
        "# 테스트 데이터로 확인하기\n",
        "model.evaluate(X[2560:], Y[2560:])\n",
        "# 5개 테스트 데이터에 대한 예측  표시\n",
        "pred = model.predict(X[2560:2560+5])\n",
        "for i in range(5):\n",
        "  print(Y[2560+i],'\\t', pred[i][0], '\\tdiff:', abs(pred[i][0]-Y[2560+i]))\n",
        "\n",
        "# 전체 테스트 데이터에 대한 정확도 확인 (오차가 0.04 이상인 경우 오답으로 처리)\n",
        "prediction = model.predict(X[2560:])\n",
        "# 오차가 0.04인경우 cnt할 변수 fail 선언\n",
        "fail = 0\n",
        "for i in range(len(prediction)):\n",
        "  if abs(prediction[i][0]-Y[2560+i])  > 0.04:\n",
        "    fail +=1\n",
        "print('correctness: ', (440-fail)/440*100, '%')"
      ],
      "execution_count": null,
      "outputs": [
        {
          "output_type": "stream",
          "text": [
            "14/14 [==============================] - 0s 14ms/step - loss: 5.2447e-04\n",
            "0.12233698531608188 \t 0.11141117 \tdiff: 0.010925816144748565\n",
            "0.3885990175021843 \t 0.37104884 \tdiff: 0.017550179602022542\n",
            "0.1365916113151087 \t 0.13419762 \tdiff: 0.0023939887774957758\n",
            "0.02086098511972038 \t 0.0148925595 \tdiff: 0.005968425621171874\n",
            "0.8187965430904066 \t 0.7858282 \tdiff: 0.032968369929853636\n",
            "correctness:  93.18181818181817 %\n"
          ],
          "name": "stdout"
        }
      ]
    },
    {
      "cell_type": "markdown",
      "metadata": {
        "id": "0wVT3_8mDpT8"
      },
      "source": [
        "- ReLU 로 동일하게 돌렸음에도 첫번째에는 81%의 정확도(왜냐면 모델이 튀어서)로 tanh(95%) 보다 낮은 정확도가 나왔고 \n",
        "- 동일한 조건의 두번째 돌린 모델에는 99% 이상의 정확도가 나왔다. (earlystoping 되긴 했지만 99번째 epoch 까지 돌아갔음으로 큰 차이는 없었을 텐데, 어쨌든 모델이 튀지 않아서 좋은 결과가 나왔다.)\n",
        "\n",
        "- 어떤 활성화 함수가 항상 좋거나 나쁘거나 하지 않네. tanh가 상대적으로 낮은 결과를 보이지만 대체적으로 안정적일수도 있고,\n",
        "ReLU의 어떤 모델객체는 exceptional하게 좋은 결과를 얻지만, 동일한 조건임에도 어쩔때는 tanh보다 형편없을수도 있네 \n",
        "\n",
        "\n",
        "- 모든 조건이 같다고 해서 항상 같은 결과를 내놓지 않는다. 즉 값이 튈때도 있고, 안 튈때도 있다 => 자연적인 실험 테스트와 같은 느낌\n",
        " => 이 말은 동일 조건을 돌려도 다른 모델이 생성된다는 말이네 -> physical한 실험처럼 모수를 늘려서 돌린 후 최고의 결과를 갖는 객체를 저장해야 할듯\n",
        "\n",
        "- 이것은 cpu가 가중치를 얻을 때 어디로 갈지 정해져 있지 않아서 그런가? 아니면 초기 가중치 지정이 랜덤하기 때문에 그런 결과가 나오는 것이 가장 설득력있겟다.\n",
        "\n",
        "- early stopping 도 적절한 값을 지정해야 한다. \n",
        " (ex) 값이 3 : 81%, 5:61%, 10 : 99% 의 정확도가 나왔다. 즉 선형적인 증가세가 아니다"
      ]
    },
    {
      "cell_type": "code",
      "metadata": {
        "id": "t2X88Jw4D8FE",
        "outputId": "25113634-a0b6-4d38-b437-2f71da214c05",
        "colab": {
          "base_uri": "https://localhost:8080/"
        }
      },
      "source": [
        "# 모델은 앞과 동일\n",
        "model = tf.keras.Sequential([\n",
        "                               tf.keras.layers.LSTM(units=30, activation='relu' ,return_sequences=True, input_shape=[100,2])\n",
        "                             , tf.keras.layers.LSTM(units=30)\n",
        "                             , tf.keras.layers.Dense(1)\n",
        "])\n",
        "model.compile(optimizer='adam', loss='mse')\n",
        "model.summary()"
      ],
      "execution_count": null,
      "outputs": [
        {
          "output_type": "stream",
          "text": [
            "WARNING:tensorflow:Layer lstm_14 will not use cuDNN kernel since it doesn't meet the cuDNN kernel criteria. It will use generic GPU kernel as fallback when running on GPU\n",
            "Model: \"sequential_8\"\n",
            "_________________________________________________________________\n",
            "Layer (type)                 Output Shape              Param #   \n",
            "=================================================================\n",
            "lstm_14 (LSTM)               (None, 100, 30)           3960      \n",
            "_________________________________________________________________\n",
            "lstm_15 (LSTM)               (None, 30)                7320      \n",
            "_________________________________________________________________\n",
            "dense_8 (Dense)              (None, 1)                 31        \n",
            "=================================================================\n",
            "Total params: 11,311\n",
            "Trainable params: 11,311\n",
            "Non-trainable params: 0\n",
            "_________________________________________________________________\n"
          ],
          "name": "stdout"
        }
      ]
    },
    {
      "cell_type": "code",
      "metadata": {
        "id": "WLUSvCd2BodT",
        "outputId": "ae7247ef-70ab-4856-96aa-0fd70ef5a909",
        "colab": {
          "base_uri": "https://localhost:8080/"
        }
      },
      "source": [
        "# earlystopping 3로 바꿔지정\n",
        "history = model.fit(X[:2560],Y[:2560], epochs=100, validation_split=0.2\n",
        "                    ,callbacks=[tf.keras.callbacks.EarlyStopping(patience=3, monitor='val_loss')])"
      ],
      "execution_count": null,
      "outputs": [
        {
          "output_type": "stream",
          "text": [
            "Epoch 1/100\n",
            "64/64 [==============================] - 4s 67ms/step - loss: 0.0512 - val_loss: 0.0472\n",
            "Epoch 2/100\n",
            "64/64 [==============================] - 4s 61ms/step - loss: 0.0488 - val_loss: 0.0431\n",
            "Epoch 3/100\n",
            "64/64 [==============================] - 4s 61ms/step - loss: 0.0429 - val_loss: 0.0250\n",
            "Epoch 4/100\n",
            "64/64 [==============================] - 4s 62ms/step - loss: 0.0115 - val_loss: 0.0073\n",
            "Epoch 5/100\n",
            "64/64 [==============================] - 4s 62ms/step - loss: 0.0104 - val_loss: 0.0122\n",
            "Epoch 6/100\n",
            "64/64 [==============================] - 4s 62ms/step - loss: 0.0101 - val_loss: 0.0054\n",
            "Epoch 7/100\n",
            "64/64 [==============================] - 4s 62ms/step - loss: 0.0058 - val_loss: 0.0042\n",
            "Epoch 8/100\n",
            "64/64 [==============================] - 4s 62ms/step - loss: 0.0042 - val_loss: 0.0040\n",
            "Epoch 9/100\n",
            "64/64 [==============================] - 4s 62ms/step - loss: 0.0046 - val_loss: 0.0029\n",
            "Epoch 10/100\n",
            "64/64 [==============================] - 4s 62ms/step - loss: 0.0036 - val_loss: 0.0051\n",
            "Epoch 11/100\n",
            "64/64 [==============================] - 4s 61ms/step - loss: 0.0040 - val_loss: 0.0043\n",
            "Epoch 12/100\n",
            "64/64 [==============================] - 4s 62ms/step - loss: 0.0031 - val_loss: 0.0028\n",
            "Epoch 13/100\n",
            "64/64 [==============================] - 4s 62ms/step - loss: 0.0019 - val_loss: 0.0023\n",
            "Epoch 14/100\n",
            "64/64 [==============================] - 4s 62ms/step - loss: 0.0020 - val_loss: 0.0014\n",
            "Epoch 15/100\n",
            "64/64 [==============================] - 4s 62ms/step - loss: 0.0015 - val_loss: 0.0015\n",
            "Epoch 16/100\n",
            "64/64 [==============================] - 4s 62ms/step - loss: 0.0026 - val_loss: 0.0013\n",
            "Epoch 17/100\n",
            "64/64 [==============================] - 4s 62ms/step - loss: 0.0015 - val_loss: 0.0011\n",
            "Epoch 18/100\n",
            "64/64 [==============================] - 4s 62ms/step - loss: 0.0012 - val_loss: 0.0015\n",
            "Epoch 19/100\n",
            "64/64 [==============================] - 4s 61ms/step - loss: 0.0012 - val_loss: 0.0014\n",
            "Epoch 20/100\n",
            "64/64 [==============================] - 4s 62ms/step - loss: 0.0012 - val_loss: 0.0010\n",
            "Epoch 21/100\n",
            "64/64 [==============================] - 4s 65ms/step - loss: 0.0011 - val_loss: 0.0012\n",
            "Epoch 22/100\n",
            "64/64 [==============================] - 4s 65ms/step - loss: 0.0010 - val_loss: 8.8049e-04\n",
            "Epoch 23/100\n",
            "64/64 [==============================] - 4s 65ms/step - loss: 0.0011 - val_loss: 9.2637e-04\n",
            "Epoch 24/100\n",
            "64/64 [==============================] - 4s 62ms/step - loss: 9.7118e-04 - val_loss: 7.3499e-04\n",
            "Epoch 25/100\n",
            "64/64 [==============================] - 4s 62ms/step - loss: 0.0012 - val_loss: 0.0016\n",
            "Epoch 26/100\n",
            "64/64 [==============================] - 4s 62ms/step - loss: 0.0014 - val_loss: 7.9324e-04\n",
            "Epoch 27/100\n",
            "64/64 [==============================] - 4s 62ms/step - loss: 7.9370e-04 - val_loss: 0.0011\n"
          ],
          "name": "stdout"
        }
      ]
    },
    {
      "cell_type": "code",
      "metadata": {
        "id": "ICMNeGSUBkll",
        "outputId": "0b17524d-fb17-4010-f29a-eca92cdcb53c",
        "colab": {
          "base_uri": "https://localhost:8080/",
          "height": 265
        }
      },
      "source": [
        "# 시각화\n",
        "plt.plot(history.history['loss'], 'b-', label ='loss')\n",
        "plt.plot(history.history['val_loss'], 'r--', label='val_loss')\n",
        "plt.legend()\n",
        "plt.show()"
      ],
      "execution_count": null,
      "outputs": [
        {
          "output_type": "display_data",
          "data": {
            "image/png": "[encoded data removed]",
            "text/plain": [
              "<Figure size 432x288 with 1 Axes>"
            ]
          },
          "metadata": {
            "tags": [],
            "needs_background": "light"
          }
        }
      ]
    },
    {
      "cell_type": "code",
      "metadata": {
        "id": "mmPEBq8QGyD0",
        "outputId": "f9887750-c2a1-4ebd-de51-f1624f825f35",
        "colab": {
          "base_uri": "https://localhost:8080/"
        }
      },
      "source": [
        "# 테스트 데이터로 확인하기\n",
        "model.evaluate(X[2560:], Y[2560:])\n",
        "# 5개 테스트 데이터에 대한 예측  표시\n",
        "pred = model.predict(X[2560:2560+5])\n",
        "for i in range(5):\n",
        "  print(Y[2560+i],'\\t', pred[i][0], '\\tdiff:', abs(pred[i][0]-Y[2560+i]))\n",
        "\n",
        "# 전체 테스트 데이터에 대한 정확도 확인 (오차가 0.04 이상인 경우 오답으로 처리)\n",
        "prediction = model.predict(X[2560:])\n",
        "# 오차가 0.04인경우 cnt할 변수 fail 선언\n",
        "fail = 0\n",
        "for i in range(len(prediction)):\n",
        "  if abs(prediction[i][0]-Y[2560+i])  > 0.04:\n",
        "    fail +=1\n",
        "print('correctness: ', (440-fail)/440*100, '%')"
      ],
      "execution_count": null,
      "outputs": [
        {
          "output_type": "stream",
          "text": [
            "14/14 [==============================] - 0s 15ms/step - loss: 0.0013\n",
            "0.18982348094415957 \t 0.1884426 \tdiff: 0.0013808781905203515\n",
            "0.674710649073077 \t 0.6286463 \tdiff: 0.04606433492894246\n",
            "0.6782049608977108 \t 0.5931514 \tdiff: 0.08505357034519001\n",
            "0.019594320405173397 \t 0.04436575 \tdiff: 0.024771428357911015\n",
            "0.014357379445345635 \t 0.01852893 \tdiff: 0.004171551397530799\n",
            "correctness:  81.81818181818183 %\n"
          ],
          "name": "stdout"
        }
      ]
    },
    {
      "cell_type": "markdown",
      "metadata": {
        "id": "t0ZeOhNnIEVm"
      },
      "source": [
        "-  현재까지 제일 좋은 성능을 가지는 모델 (뉴런 개수는 모두 30)\n",
        "1. ReLU, earlystopping = 10 : 99%\n",
        "2. tanh, epoch =100(earlysotpping 미지정) : 98%"
      ]
    },
    {
      "cell_type": "markdown",
      "metadata": {
        "id": "fMQT9z8YSzNa"
      },
      "source": [
        "## 11/3 여기부터~\n",
        "X,Y 데이터셋 리셋됨 - 데이터 달라짐"
      ]
    },
    {
      "cell_type": "markdown",
      "metadata": {
        "id": "BdJLDnDwMBR9"
      },
      "source": [
        "## 최적화 함수 변경 'Adam' ->'rmsprop'"
      ]
    },
    {
      "cell_type": "markdown",
      "metadata": {
        "id": "ogy2oR_FCQhI"
      },
      "source": [
        "- Adam method는 Adagrad + RMSProp의 장점을 섞어 놓은 것\n",
        "- RMSProp : 세밀하게 학습하되 상황을 보며 정도를 정하자"
      ]
    },
    {
      "cell_type": "code",
      "metadata": {
        "id": "MnC862WPG1jb",
        "outputId": "da2e541f-5648-4a03-d50a-5ce0bd9249e0",
        "colab": {
          "base_uri": "https://localhost:8080/"
        }
      },
      "source": [
        "# 모델은 앞과 동일\n",
        "model = tf.keras.Sequential([\n",
        "                               tf.keras.layers.LSTM(units=30, activation='relu' ,return_sequences=True, input_shape=[100,2])\n",
        "                             , tf.keras.layers.LSTM(units=30)\n",
        "                             , tf.keras.layers.Dense(1)\n",
        "])\n",
        "\n",
        "# optimizer : 'adam' => 'rmsprop' 으로 변경\n",
        "model.compile(optimizer='rmsprop', loss='mse')\n",
        "model.summary()"
      ],
      "execution_count": null,
      "outputs": [
        {
          "output_type": "stream",
          "text": [
            "WARNING:tensorflow:Layer lstm_4 will not use cuDNN kernel since it doesn't meet the cuDNN kernel criteria. It will use generic GPU kernel as fallback when running on GPU\n",
            "Model: \"sequential_2\"\n",
            "_________________________________________________________________\n",
            "Layer (type)                 Output Shape              Param #   \n",
            "=================================================================\n",
            "lstm_4 (LSTM)                (None, 100, 30)           3960      \n",
            "_________________________________________________________________\n",
            "lstm_5 (LSTM)                (None, 30)                7320      \n",
            "_________________________________________________________________\n",
            "dense_2 (Dense)              (None, 1)                 31        \n",
            "=================================================================\n",
            "Total params: 11,311\n",
            "Trainable params: 11,311\n",
            "Non-trainable params: 0\n",
            "_________________________________________________________________\n"
          ],
          "name": "stdout"
        }
      ]
    },
    {
      "cell_type": "code",
      "metadata": {
        "id": "5JYzHk5qMSOy"
      },
      "source": [
        "# earlystopping 미지정\n",
        "history = model.fit(X[:2560],Y[:2560], epochs=100, validation_split=0.2)\n",
        "     #               ,callbacks=[tf.keras.callbacks.EarlyStopping(patience=10, monitor='val_loss')])"
      ],
      "execution_count": null,
      "outputs": []
    },
    {
      "cell_type": "code",
      "metadata": {
        "id": "e9EQ7HHRBZtV",
        "outputId": "50b1fe17-a204-4c52-9b91-1c02991134c7",
        "colab": {
          "base_uri": "https://localhost:8080/",
          "height": 265
        }
      },
      "source": [
        "# 시각화\n",
        "plt.plot(history.history['loss'], 'b-', label ='loss')\n",
        "plt.plot(history.history['val_loss'], 'r--', label='val_loss')\n",
        "plt.legend()\n",
        "plt.show()"
      ],
      "execution_count": null,
      "outputs": [
        {
          "output_type": "display_data",
          "data": {
            "image/png": "[encoded data removed]",
            "text/plain": [
              "<Figure size 432x288 with 1 Axes>"
            ]
          },
          "metadata": {
            "tags": [],
            "needs_background": "light"
          }
        }
      ]
    },
    {
      "cell_type": "code",
      "metadata": {
        "id": "hxSUola7Bd6E",
        "outputId": "4331951c-0a5e-4e58-b8a6-d10be8c90a14",
        "colab": {
          "base_uri": "https://localhost:8080/"
        }
      },
      "source": [
        "# 테스트 데이터로 확인하기\n",
        "model.evaluate(X[2560:], Y[2560:])\n",
        "# 5개 테스트 데이터에 대한 예측  표시\n",
        "pred = model.predict(X[2560:2560+5])\n",
        "for i in range(5):\n",
        "  print(Y[2560+i],'\\t', pred[i][0], '\\tdiff:', abs(pred[i][0]-Y[2560+i]))\n",
        "\n",
        "# 전체 테스트 데이터에 대한 정확도 확인 (오차가 0.04 이상인 경우 오답으로 처리)\n",
        "prediction = model.predict(X[2560:])\n",
        "# 오차가 0.04인경우 cnt할 변수 fail 선언\n",
        "fail = 0\n",
        "for i in range(len(prediction)):\n",
        "  if abs(prediction[i][0]-Y[2560+i])  > 0.04:\n",
        "    fail +=1\n",
        "print('correctness: ', (440-fail)/440*100, '%')"
      ],
      "execution_count": null,
      "outputs": [
        {
          "output_type": "stream",
          "text": [
            "14/14 [==============================] - 0s 14ms/step - loss: 4.8684e-04\n",
            "0.12233698531608188 \t 0.11732796 \tdiff: 0.00500902697066867\n",
            "0.3885990175021843 \t 0.417498 \tdiff: 0.02889897501337968\n",
            "0.1365916113151087 \t 0.15291686 \tdiff: 0.016325252245567884\n",
            "0.02086098511972038 \t 0.0269792 \tdiff: 0.0061182154222527325\n",
            "0.8187965430904066 \t 0.83785564 \tdiff: 0.01905909398311023\n",
            "correctness:  92.72727272727272 %\n"
          ],
          "name": "stdout"
        }
      ]
    },
    {
      "cell_type": "markdown",
      "metadata": {
        "id": "UOFsKex9E2xr"
      },
      "source": [
        "- rmsprop을 적용한 모델의 경우, 피팅시 val_loss가 불안정하게 떨어지고, 완성 모델의 정확도도 adam 에 비해 떨어졌다. (동일 학습 조건시) "
      ]
    },
    {
      "cell_type": "code",
      "metadata": {
        "id": "c8MlhSkBEco7",
        "outputId": "578f52c3-2271-4c83-f9cb-eab4ea13dfbf",
        "colab": {
          "base_uri": "https://localhost:8080/"
        }
      },
      "source": [
        "# 모델은 앞과 동일\n",
        "model = tf.keras.Sequential([\n",
        "                               tf.keras.layers.LSTM(units=30, activation='relu' ,return_sequences=True, input_shape=[100,2])\n",
        "                             , tf.keras.layers.LSTM(units=30)\n",
        "                             , tf.keras.layers.Dense(1)\n",
        "])\n",
        "\n",
        "# optimizer : 'adam' 어제와 모델 구조 재현성 확인(랜덤 데이터셋이 달라졌음)\n",
        "model.compile(optimizer='adam', loss='mse')\n",
        "model.summary()"
      ],
      "execution_count": null,
      "outputs": [
        {
          "output_type": "stream",
          "text": [
            "WARNING:tensorflow:Layer lstm_6 will not use cuDNN kernel since it doesn't meet the cuDNN kernel criteria. It will use generic GPU kernel as fallback when running on GPU\n",
            "Model: \"sequential_3\"\n",
            "_________________________________________________________________\n",
            "Layer (type)                 Output Shape              Param #   \n",
            "=================================================================\n",
            "lstm_6 (LSTM)                (None, 100, 30)           3960      \n",
            "_________________________________________________________________\n",
            "lstm_7 (LSTM)                (None, 30)                7320      \n",
            "_________________________________________________________________\n",
            "dense_3 (Dense)              (None, 1)                 31        \n",
            "=================================================================\n",
            "Total params: 11,311\n",
            "Trainable params: 11,311\n",
            "Non-trainable params: 0\n",
            "_________________________________________________________________\n"
          ],
          "name": "stdout"
        }
      ]
    },
    {
      "cell_type": "code",
      "metadata": {
        "id": "uFu6VAv2FNXr",
        "outputId": "0c434251-c5b5-4c95-9f31-031eb9070a35",
        "colab": {
          "base_uri": "https://localhost:8080/"
        }
      },
      "source": [
        "# earlystopping 미지정\n",
        "history = model.fit(X[:2560],Y[:2560], epochs=100, validation_split=0.2)"
      ],
      "execution_count": null,
      "outputs": [
        {
          "output_type": "stream",
          "text": [
            "Epoch 1/100\n",
            "64/64 [==============================] - 4s 67ms/step - loss: 0.0486 - val_loss: 0.0482\n",
            "Epoch 2/100\n",
            "64/64 [==============================] - 4s 61ms/step - loss: 0.0453 - val_loss: 0.0436\n",
            "Epoch 3/100\n",
            "64/64 [==============================] - 4s 62ms/step - loss: 0.0273 - val_loss: 0.0084\n",
            "Epoch 4/100\n",
            "64/64 [==============================] - 4s 61ms/step - loss: 0.0085 - val_loss: 0.0051\n",
            "Epoch 5/100\n",
            "64/64 [==============================] - 4s 62ms/step - loss: 0.0050 - val_loss: 0.0037\n",
            "Epoch 6/100\n",
            "64/64 [==============================] - 4s 62ms/step - loss: 0.0040 - val_loss: 0.0030\n",
            "Epoch 7/100\n",
            "64/64 [==============================] - 4s 61ms/step - loss: 0.0036 - val_loss: 0.0029\n",
            "Epoch 8/100\n",
            "64/64 [==============================] - 4s 61ms/step - loss: 0.0024 - val_loss: 0.0026\n",
            "Epoch 9/100\n",
            "64/64 [==============================] - 4s 61ms/step - loss: 0.0022 - val_loss: 0.0017\n",
            "Epoch 10/100\n",
            "64/64 [==============================] - 4s 61ms/step - loss: 0.0018 - val_loss: 0.0017\n",
            "Epoch 11/100\n",
            "64/64 [==============================] - 4s 60ms/step - loss: 0.0023 - val_loss: 0.0013\n",
            "Epoch 12/100\n",
            "64/64 [==============================] - 4s 61ms/step - loss: 0.0012 - val_loss: 0.0012\n",
            "Epoch 13/100\n",
            "64/64 [==============================] - 4s 62ms/step - loss: 0.0013 - val_loss: 9.6767e-04\n",
            "Epoch 14/100\n",
            "64/64 [==============================] - 4s 61ms/step - loss: 0.0010 - val_loss: 0.0016\n",
            "Epoch 15/100\n",
            "64/64 [==============================] - 4s 62ms/step - loss: 9.4413e-04 - val_loss: 6.6449e-04\n",
            "Epoch 16/100\n",
            "64/64 [==============================] - 4s 61ms/step - loss: 6.0783e-04 - val_loss: 6.3166e-04\n",
            "Epoch 17/100\n",
            "64/64 [==============================] - 4s 62ms/step - loss: 5.9258e-04 - val_loss: 7.0499e-04\n",
            "Epoch 18/100\n",
            "64/64 [==============================] - 4s 62ms/step - loss: 8.2627e-04 - val_loss: 0.0022\n",
            "Epoch 19/100\n",
            "64/64 [==============================] - 4s 62ms/step - loss: 6.9956e-04 - val_loss: 7.3046e-04\n",
            "Epoch 20/100\n",
            "64/64 [==============================] - 4s 61ms/step - loss: 5.9689e-04 - val_loss: 5.1216e-04\n",
            "Epoch 21/100\n",
            "64/64 [==============================] - 4s 62ms/step - loss: 5.0336e-04 - val_loss: 8.1631e-04\n",
            "Epoch 22/100\n",
            "64/64 [==============================] - 4s 62ms/step - loss: 3.3890e-04 - val_loss: 0.0013\n",
            "Epoch 23/100\n",
            "64/64 [==============================] - 4s 64ms/step - loss: 4.8964e-04 - val_loss: 3.6074e-04\n",
            "Epoch 24/100\n",
            "64/64 [==============================] - 4s 63ms/step - loss: 3.1815e-04 - val_loss: 3.0579e-04\n",
            "Epoch 25/100\n",
            "64/64 [==============================] - 4s 63ms/step - loss: 3.1265e-04 - val_loss: 3.2904e-04\n",
            "Epoch 26/100\n",
            "64/64 [==============================] - 4s 63ms/step - loss: 3.8741e-04 - val_loss: 3.5222e-04\n",
            "Epoch 27/100\n",
            "64/64 [==============================] - 4s 63ms/step - loss: 4.5260e-04 - val_loss: 0.0032\n",
            "Epoch 28/100\n",
            "64/64 [==============================] - 4s 64ms/step - loss: 0.0033 - val_loss: 0.0017\n",
            "Epoch 29/100\n",
            "64/64 [==============================] - 4s 63ms/step - loss: 7.8671e-04 - val_loss: 7.4924e-04\n",
            "Epoch 30/100\n",
            "64/64 [==============================] - 4s 63ms/step - loss: 6.7887e-04 - val_loss: 5.7422e-04\n",
            "Epoch 31/100\n",
            "64/64 [==============================] - 4s 63ms/step - loss: 0.0019 - val_loss: 0.0011\n",
            "Epoch 32/100\n",
            "64/64 [==============================] - 4s 63ms/step - loss: 8.6272e-04 - val_loss: 6.3643e-04\n",
            "Epoch 33/100\n",
            "64/64 [==============================] - 4s 63ms/step - loss: 4.3372e-04 - val_loss: 7.9603e-04\n",
            "Epoch 34/100\n",
            "64/64 [==============================] - 4s 63ms/step - loss: 4.6792e-04 - val_loss: 3.7227e-04\n",
            "Epoch 35/100\n",
            "64/64 [==============================] - 4s 63ms/step - loss: 3.3854e-04 - val_loss: 4.3304e-04\n",
            "Epoch 36/100\n",
            "64/64 [==============================] - 4s 64ms/step - loss: 3.1718e-04 - val_loss: 3.7108e-04\n",
            "Epoch 37/100\n",
            "64/64 [==============================] - 4s 63ms/step - loss: 2.8910e-04 - val_loss: 7.4120e-04\n",
            "Epoch 38/100\n",
            "64/64 [==============================] - 4s 63ms/step - loss: 4.9015e-04 - val_loss: 5.3305e-04\n",
            "Epoch 39/100\n",
            "64/64 [==============================] - 4s 62ms/step - loss: 3.2473e-04 - val_loss: 3.0208e-04\n",
            "Epoch 40/100\n",
            "64/64 [==============================] - 4s 62ms/step - loss: 2.5158e-04 - val_loss: 2.5676e-04\n",
            "Epoch 41/100\n",
            "64/64 [==============================] - 4s 61ms/step - loss: 2.4379e-04 - val_loss: 2.9613e-04\n",
            "Epoch 42/100\n",
            "64/64 [==============================] - 4s 62ms/step - loss: 2.8263e-04 - val_loss: 4.8522e-04\n",
            "Epoch 43/100\n",
            "64/64 [==============================] - 4s 62ms/step - loss: 2.4008e-04 - val_loss: 2.1127e-04\n",
            "Epoch 44/100\n",
            "64/64 [==============================] - 4s 61ms/step - loss: 1.5716e-04 - val_loss: 2.5688e-04\n",
            "Epoch 45/100\n",
            "64/64 [==============================] - 4s 61ms/step - loss: 3.6011e-04 - val_loss: 2.2907e-04\n",
            "Epoch 46/100\n",
            "64/64 [==============================] - 4s 62ms/step - loss: 1.8775e-04 - val_loss: 1.8732e-04\n",
            "Epoch 47/100\n",
            "64/64 [==============================] - 4s 62ms/step - loss: 1.7448e-04 - val_loss: 2.7496e-04\n",
            "Epoch 48/100\n",
            "64/64 [==============================] - 4s 62ms/step - loss: 1.8095e-04 - val_loss: 1.9532e-04\n",
            "Epoch 49/100\n",
            "64/64 [==============================] - 4s 62ms/step - loss: 1.5339e-04 - val_loss: 1.7302e-04\n",
            "Epoch 50/100\n",
            "64/64 [==============================] - 4s 63ms/step - loss: 4.3641e-04 - val_loss: 7.7701e-04\n",
            "Epoch 51/100\n",
            "64/64 [==============================] - 4s 62ms/step - loss: 2.2725e-04 - val_loss: 2.5406e-04\n",
            "Epoch 52/100\n",
            "64/64 [==============================] - 4s 62ms/step - loss: 1.5893e-04 - val_loss: 1.9323e-04\n",
            "Epoch 53/100\n",
            "64/64 [==============================] - 4s 63ms/step - loss: 1.4369e-04 - val_loss: 2.0749e-04\n",
            "Epoch 54/100\n",
            "64/64 [==============================] - 4s 63ms/step - loss: 3.0203e-04 - val_loss: 3.6724e-04\n",
            "Epoch 55/100\n",
            "64/64 [==============================] - 4s 63ms/step - loss: 2.8409e-04 - val_loss: 1.4549e-04\n",
            "Epoch 56/100\n",
            "64/64 [==============================] - 4s 62ms/step - loss: 1.1761e-04 - val_loss: 1.6169e-04\n",
            "Epoch 57/100\n",
            "64/64 [==============================] - 4s 62ms/step - loss: 1.4870e-04 - val_loss: 1.4953e-04\n",
            "Epoch 58/100\n",
            "64/64 [==============================] - 4s 61ms/step - loss: 1.2409e-04 - val_loss: 1.6804e-04\n",
            "Epoch 59/100\n",
            "64/64 [==============================] - 4s 64ms/step - loss: 1.3944e-04 - val_loss: 1.6678e-04\n",
            "Epoch 60/100\n",
            "64/64 [==============================] - 4s 63ms/step - loss: 1.1096e-04 - val_loss: 1.4111e-04\n",
            "Epoch 61/100\n",
            "64/64 [==============================] - 4s 62ms/step - loss: 2.0370e-04 - val_loss: 4.4302e-04\n",
            "Epoch 62/100\n",
            "64/64 [==============================] - 4s 63ms/step - loss: 1.7669e-04 - val_loss: 1.8032e-04\n",
            "Epoch 63/100\n",
            "64/64 [==============================] - 4s 63ms/step - loss: 1.3220e-04 - val_loss: 1.3667e-04\n",
            "Epoch 64/100\n",
            "64/64 [==============================] - 4s 62ms/step - loss: 1.1829e-04 - val_loss: 1.1864e-04\n",
            "Epoch 65/100\n",
            "64/64 [==============================] - 4s 62ms/step - loss: 1.6114e-04 - val_loss: 9.9831e-05\n",
            "Epoch 66/100\n",
            "64/64 [==============================] - 4s 63ms/step - loss: 1.7564e-04 - val_loss: 1.2196e-04\n",
            "Epoch 67/100\n",
            "64/64 [==============================] - 4s 62ms/step - loss: 1.5382e-04 - val_loss: 6.0075e-04\n",
            "Epoch 68/100\n",
            "64/64 [==============================] - 4s 63ms/step - loss: 1.2249e-04 - val_loss: 1.5932e-04\n",
            "Epoch 69/100\n",
            "64/64 [==============================] - 4s 63ms/step - loss: 9.7565e-05 - val_loss: 1.4335e-04\n",
            "Epoch 70/100\n",
            "64/64 [==============================] - 4s 62ms/step - loss: 1.2886e-04 - val_loss: 3.8501e-04\n",
            "Epoch 71/100\n",
            "64/64 [==============================] - 4s 63ms/step - loss: 0.0010 - val_loss: 7.3507e-04\n",
            "Epoch 72/100\n",
            "64/64 [==============================] - 4s 65ms/step - loss: 2.7649e-04 - val_loss: 1.2040e-04\n",
            "Epoch 73/100\n",
            "64/64 [==============================] - 4s 66ms/step - loss: 8.4647e-05 - val_loss: 1.6161e-04\n",
            "Epoch 74/100\n",
            "64/64 [==============================] - 4s 66ms/step - loss: 3.5107e-04 - val_loss: 1.1072e-04\n",
            "Epoch 75/100\n",
            "64/64 [==============================] - 4s 62ms/step - loss: 8.7116e-05 - val_loss: 1.0161e-04\n",
            "Epoch 76/100\n",
            "64/64 [==============================] - 4s 63ms/step - loss: 8.1348e-05 - val_loss: 7.9491e-05\n",
            "Epoch 77/100\n",
            "64/64 [==============================] - 4s 63ms/step - loss: 7.8083e-05 - val_loss: 1.0870e-04\n",
            "Epoch 78/100\n",
            "64/64 [==============================] - 4s 63ms/step - loss: 1.3245e-04 - val_loss: 3.2482e-04\n",
            "Epoch 79/100\n",
            "64/64 [==============================] - 4s 64ms/step - loss: 1.2881e-04 - val_loss: 1.8803e-04\n",
            "Epoch 80/100\n",
            "64/64 [==============================] - 4s 63ms/step - loss: 2.7945e-04 - val_loss: 8.3863e-05\n",
            "Epoch 81/100\n",
            "64/64 [==============================] - 4s 62ms/step - loss: 2.0137e-04 - val_loss: 4.3349e-04\n",
            "Epoch 82/100\n",
            "64/64 [==============================] - 4s 61ms/step - loss: 2.1052e-04 - val_loss: 1.1899e-04\n",
            "Epoch 83/100\n",
            "64/64 [==============================] - 4s 62ms/step - loss: 9.5604e-05 - val_loss: 7.7053e-05\n",
            "Epoch 84/100\n",
            "64/64 [==============================] - 4s 63ms/step - loss: 6.7308e-05 - val_loss: 6.7384e-05\n",
            "Epoch 85/100\n",
            "64/64 [==============================] - 4s 63ms/step - loss: 1.4796e-04 - val_loss: 6.6447e-05\n",
            "Epoch 86/100\n",
            "64/64 [==============================] - 4s 63ms/step - loss: 2.5881e-04 - val_loss: 6.8282e-04\n",
            "Epoch 87/100\n",
            "64/64 [==============================] - 4s 63ms/step - loss: 2.1463e-04 - val_loss: 1.9896e-04\n",
            "Epoch 88/100\n",
            "64/64 [==============================] - 4s 63ms/step - loss: 5.8210e-05 - val_loss: 8.4226e-05\n",
            "Epoch 89/100\n",
            "64/64 [==============================] - 4s 63ms/step - loss: 2.1210e-04 - val_loss: 1.3025e-04\n",
            "Epoch 90/100\n",
            "64/64 [==============================] - 4s 63ms/step - loss: 7.9090e-05 - val_loss: 9.6043e-05\n",
            "Epoch 91/100\n",
            "64/64 [==============================] - 4s 64ms/step - loss: 8.2833e-05 - val_loss: 2.1501e-04\n",
            "Epoch 92/100\n",
            "64/64 [==============================] - 4s 64ms/step - loss: 1.6827e-04 - val_loss: 6.7726e-05\n",
            "Epoch 93/100\n",
            "64/64 [==============================] - 4s 64ms/step - loss: 9.0470e-05 - val_loss: 8.8937e-05\n",
            "Epoch 94/100\n",
            "64/64 [==============================] - 4s 63ms/step - loss: 5.6835e-05 - val_loss: 5.2258e-05\n",
            "Epoch 95/100\n",
            "64/64 [==============================] - 4s 64ms/step - loss: 8.8269e-05 - val_loss: 8.4570e-05\n",
            "Epoch 96/100\n",
            "64/64 [==============================] - 4s 63ms/step - loss: 0.0014 - val_loss: 0.0020\n",
            "Epoch 97/100\n",
            "64/64 [==============================] - 4s 62ms/step - loss: 3.5533e-04 - val_loss: 1.4148e-04\n",
            "Epoch 98/100\n",
            "64/64 [==============================] - 4s 62ms/step - loss: 1.5071e-04 - val_loss: 4.0347e-04\n",
            "Epoch 99/100\n",
            "64/64 [==============================] - 4s 62ms/step - loss: 2.3395e-04 - val_loss: 1.5274e-04\n",
            "Epoch 100/100\n",
            "64/64 [==============================] - 4s 62ms/step - loss: 2.1914e-04 - val_loss: 9.8387e-05\n"
          ],
          "name": "stdout"
        }
      ]
    },
    {
      "cell_type": "code",
      "metadata": {
        "id": "WOWO5vWAFP3D",
        "outputId": "3c088cee-d1a6-4bc6-e8a0-220d64539516",
        "colab": {
          "base_uri": "https://localhost:8080/",
          "height": 265
        }
      },
      "source": [
        "# 시각화\n",
        "plt.plot(history.history['loss'], 'b-', label ='loss')\n",
        "plt.plot(history.history['val_loss'], 'r--', label='val_loss')\n",
        "plt.legend()\n",
        "plt.show()"
      ],
      "execution_count": null,
      "outputs": [
        {
          "output_type": "display_data",
          "data": {
            "image/png": "[encoded data removed]",
            "text/plain": [
              "<Figure size 432x288 with 1 Axes>"
            ]
          },
          "metadata": {
            "tags": [],
            "needs_background": "light"
          }
        }
      ]
    },
    {
      "cell_type": "code",
      "metadata": {
        "id": "NaszYEMGG0q9",
        "outputId": "e9065de7-69f9-431f-f21a-95f0fb8825fb",
        "colab": {
          "base_uri": "https://localhost:8080/"
        }
      },
      "source": [
        "# 테스트 데이터로 확인하기\n",
        "model.evaluate(X[2560:], Y[2560:])\n",
        "# 5개 테스트 데이터에 대한 예측  표시\n",
        "pred = model.predict(X[2560:2560+5])\n",
        "for i in range(5):\n",
        "  print(Y[2560+i],'\\t', pred[i][0], '\\tdiff:', abs(pred[i][0]-Y[2560+i]))\n",
        "\n",
        "# 전체 테스트 데이터에 대한 정확도 확인 (오차가 0.04 이상인 경우 오답으로 처리)\n",
        "prediction = model.predict(X[2560:])\n",
        "# 오차가 0.04인경우 cnt할 변수 fail 선언\n",
        "fail = 0\n",
        "for i in range(len(prediction)):\n",
        "  if abs(prediction[i][0]-Y[2560+i])  > 0.04:\n",
        "    fail +=1\n",
        "print('correctness: ', (440-fail)/440*100, '%')"
      ],
      "execution_count": null,
      "outputs": [
        {
          "output_type": "stream",
          "text": [
            "14/14 [==============================] - 0s 14ms/step - loss: 7.9989e-05\n",
            "0.12233698531608188 \t 0.12588945 \tdiff: 0.0035524649955788884\n",
            "0.3885990175021843 \t 0.38288444 \tdiff: 0.005714574695940389\n",
            "0.1365916113151087 \t 0.13218674 \tdiff: 0.004404870678283129\n",
            "0.02086098511972038 \t 0.021173917 \tdiff: 0.00031293163738639954\n",
            "0.8187965430904066 \t 0.8316013 \tdiff: 0.012804778606828493\n",
            "correctness:  99.77272727272727 %\n"
          ],
          "name": "stdout"
        }
      ]
    },
    {
      "cell_type": "markdown",
      "metadata": {
        "id": "fcEf23VOHj1c"
      },
      "source": [
        "- tanh 활성화 함수 사용시 재현성 확인하기(데이터가 바뀌었으므로)"
      ]
    },
    {
      "cell_type": "code",
      "metadata": {
        "id": "7Z63gnBCHNx1",
        "outputId": "c0a98595-da96-4cf5-f6b4-76e5e027e516",
        "colab": {
          "base_uri": "https://localhost:8080/"
        }
      },
      "source": [
        "# 활성화 함수 변경\n",
        "model = tf.keras.Sequential([\n",
        "                               tf.keras.layers.LSTM(units=30, return_sequences=True, input_shape=[100,2])\n",
        "                             , tf.keras.layers.LSTM(units=30)\n",
        "                             , tf.keras.layers.Dense(1)\n",
        "])\n",
        "\n",
        "model.compile(optimizer='adam', loss='mse')\n",
        "model.summary()"
      ],
      "execution_count": null,
      "outputs": [
        {
          "output_type": "stream",
          "text": [
            "Model: \"sequential_5\"\n",
            "_________________________________________________________________\n",
            "Layer (type)                 Output Shape              Param #   \n",
            "=================================================================\n",
            "lstm_10 (LSTM)               (None, 100, 30)           3960      \n",
            "_________________________________________________________________\n",
            "lstm_11 (LSTM)               (None, 30)                7320      \n",
            "_________________________________________________________________\n",
            "dense_5 (Dense)              (None, 1)                 31        \n",
            "=================================================================\n",
            "Total params: 11,311\n",
            "Trainable params: 11,311\n",
            "Non-trainable params: 0\n",
            "_________________________________________________________________\n"
          ],
          "name": "stdout"
        }
      ]
    },
    {
      "cell_type": "code",
      "metadata": {
        "id": "nDydO_nWG3or",
        "outputId": "41a73df2-3217-4de0-f12b-b861ef312bdf",
        "colab": {
          "base_uri": "https://localhost:8080/"
        }
      },
      "source": [
        "history = model.fit(X[:2560],Y[:2560], epochs=100, validation_split=0.2)"
      ],
      "execution_count": null,
      "outputs": [
        {
          "output_type": "stream",
          "text": [
            "Epoch 1/100\n",
            "64/64 [==============================] - 1s 17ms/step - loss: 0.0529 - val_loss: 0.0493\n",
            "Epoch 2/100\n",
            "64/64 [==============================] - 1s 9ms/step - loss: 0.0479 - val_loss: 0.0490\n",
            "Epoch 3/100\n",
            "64/64 [==============================] - 1s 9ms/step - loss: 0.0479 - val_loss: 0.0492\n",
            "Epoch 4/100\n",
            "64/64 [==============================] - 1s 9ms/step - loss: 0.0476 - val_loss: 0.0490\n",
            "Epoch 5/100\n",
            "64/64 [==============================] - 1s 9ms/step - loss: 0.0473 - val_loss: 0.0502\n",
            "Epoch 6/100\n",
            "64/64 [==============================] - 1s 9ms/step - loss: 0.0477 - val_loss: 0.0489\n",
            "Epoch 7/100\n",
            "64/64 [==============================] - 1s 9ms/step - loss: 0.0474 - val_loss: 0.0491\n",
            "Epoch 8/100\n",
            "64/64 [==============================] - 1s 9ms/step - loss: 0.0478 - val_loss: 0.0494\n",
            "Epoch 9/100\n",
            "64/64 [==============================] - 1s 9ms/step - loss: 0.0475 - val_loss: 0.0489\n",
            "Epoch 10/100\n",
            "64/64 [==============================] - 1s 9ms/step - loss: 0.0473 - val_loss: 0.0499\n",
            "Epoch 11/100\n",
            "64/64 [==============================] - 1s 9ms/step - loss: 0.0479 - val_loss: 0.0492\n",
            "Epoch 12/100\n",
            "64/64 [==============================] - 1s 9ms/step - loss: 0.0476 - val_loss: 0.0497\n",
            "Epoch 13/100\n",
            "64/64 [==============================] - 1s 9ms/step - loss: 0.0478 - val_loss: 0.0489\n",
            "Epoch 14/100\n",
            "64/64 [==============================] - 1s 9ms/step - loss: 0.0475 - val_loss: 0.0492\n",
            "Epoch 15/100\n",
            "64/64 [==============================] - 1s 9ms/step - loss: 0.0470 - val_loss: 0.0486\n",
            "Epoch 16/100\n",
            "64/64 [==============================] - 1s 9ms/step - loss: 0.0473 - val_loss: 0.0503\n",
            "Epoch 17/100\n",
            "64/64 [==============================] - 1s 9ms/step - loss: 0.0474 - val_loss: 0.0490\n",
            "Epoch 18/100\n",
            "64/64 [==============================] - 1s 9ms/step - loss: 0.0472 - val_loss: 0.0486\n",
            "Epoch 19/100\n",
            "64/64 [==============================] - 1s 9ms/step - loss: 0.0469 - val_loss: 0.0492\n",
            "Epoch 20/100\n",
            "64/64 [==============================] - 1s 9ms/step - loss: 0.0470 - val_loss: 0.0484\n",
            "Epoch 21/100\n",
            "64/64 [==============================] - 1s 9ms/step - loss: 0.0470 - val_loss: 0.0483\n",
            "Epoch 22/100\n",
            "64/64 [==============================] - 1s 9ms/step - loss: 0.0467 - val_loss: 0.0482\n",
            "Epoch 23/100\n",
            "64/64 [==============================] - 1s 9ms/step - loss: 0.0473 - val_loss: 0.0486\n",
            "Epoch 24/100\n",
            "64/64 [==============================] - 1s 9ms/step - loss: 0.0466 - val_loss: 0.0474\n",
            "Epoch 25/100\n",
            "64/64 [==============================] - 1s 9ms/step - loss: 0.0446 - val_loss: 0.0376\n",
            "Epoch 26/100\n",
            "64/64 [==============================] - 1s 9ms/step - loss: 0.0448 - val_loss: 0.0432\n",
            "Epoch 27/100\n",
            "64/64 [==============================] - 1s 9ms/step - loss: 0.0330 - val_loss: 0.0272\n",
            "Epoch 28/100\n",
            "64/64 [==============================] - 1s 9ms/step - loss: 0.0129 - val_loss: 0.0185\n",
            "Epoch 29/100\n",
            "64/64 [==============================] - 1s 9ms/step - loss: 0.0113 - val_loss: 0.0129\n",
            "Epoch 30/100\n",
            "64/64 [==============================] - 1s 9ms/step - loss: 0.0072 - val_loss: 0.0052\n",
            "Epoch 31/100\n",
            "64/64 [==============================] - 1s 9ms/step - loss: 0.0054 - val_loss: 0.0047\n",
            "Epoch 32/100\n",
            "64/64 [==============================] - 1s 9ms/step - loss: 0.0045 - val_loss: 0.0147\n",
            "Epoch 33/100\n",
            "64/64 [==============================] - 1s 9ms/step - loss: 0.0055 - val_loss: 0.0050\n",
            "Epoch 34/100\n",
            "64/64 [==============================] - 1s 9ms/step - loss: 0.0046 - val_loss: 0.0037\n",
            "Epoch 35/100\n",
            "64/64 [==============================] - 1s 9ms/step - loss: 0.0033 - val_loss: 0.0031\n",
            "Epoch 36/100\n",
            "64/64 [==============================] - 1s 9ms/step - loss: 0.0034 - val_loss: 0.0033\n",
            "Epoch 37/100\n",
            "64/64 [==============================] - 1s 9ms/step - loss: 0.0032 - val_loss: 0.0026\n",
            "Epoch 38/100\n",
            "64/64 [==============================] - 1s 9ms/step - loss: 0.0024 - val_loss: 0.0025\n",
            "Epoch 39/100\n",
            "64/64 [==============================] - 1s 9ms/step - loss: 0.0023 - val_loss: 0.0025\n",
            "Epoch 40/100\n",
            "64/64 [==============================] - 1s 9ms/step - loss: 0.0025 - val_loss: 0.0027\n",
            "Epoch 41/100\n",
            "64/64 [==============================] - 1s 9ms/step - loss: 0.0022 - val_loss: 0.0039\n",
            "Epoch 42/100\n",
            "64/64 [==============================] - 1s 9ms/step - loss: 0.0023 - val_loss: 0.0022\n",
            "Epoch 43/100\n",
            "64/64 [==============================] - 1s 9ms/step - loss: 0.0021 - val_loss: 0.0022\n",
            "Epoch 44/100\n",
            "64/64 [==============================] - 1s 9ms/step - loss: 0.0022 - val_loss: 0.0017\n",
            "Epoch 45/100\n",
            "64/64 [==============================] - 1s 9ms/step - loss: 0.0019 - val_loss: 0.0016\n",
            "Epoch 46/100\n",
            "64/64 [==============================] - 1s 9ms/step - loss: 0.0016 - val_loss: 0.0017\n",
            "Epoch 47/100\n",
            "64/64 [==============================] - 1s 9ms/step - loss: 0.0017 - val_loss: 0.0020\n",
            "Epoch 48/100\n",
            "64/64 [==============================] - 1s 9ms/step - loss: 0.0014 - val_loss: 0.0028\n",
            "Epoch 49/100\n",
            "64/64 [==============================] - 1s 9ms/step - loss: 0.0016 - val_loss: 0.0013\n",
            "Epoch 50/100\n",
            "64/64 [==============================] - 1s 9ms/step - loss: 0.0015 - val_loss: 0.0015\n",
            "Epoch 51/100\n",
            "64/64 [==============================] - 1s 9ms/step - loss: 0.0015 - val_loss: 0.0013\n",
            "Epoch 52/100\n",
            "64/64 [==============================] - 1s 9ms/step - loss: 0.0022 - val_loss: 0.0014\n",
            "Epoch 53/100\n",
            "64/64 [==============================] - 1s 9ms/step - loss: 0.0023 - val_loss: 0.0035\n",
            "Epoch 54/100\n",
            "64/64 [==============================] - 1s 9ms/step - loss: 0.0014 - val_loss: 0.0011\n",
            "Epoch 55/100\n",
            "64/64 [==============================] - 1s 9ms/step - loss: 0.0012 - val_loss: 0.0029\n",
            "Epoch 56/100\n",
            "64/64 [==============================] - 1s 9ms/step - loss: 0.0012 - val_loss: 0.0013\n",
            "Epoch 57/100\n",
            "64/64 [==============================] - 1s 9ms/step - loss: 9.9759e-04 - val_loss: 0.0016\n",
            "Epoch 58/100\n",
            "64/64 [==============================] - 1s 9ms/step - loss: 0.0013 - val_loss: 0.0019\n",
            "Epoch 59/100\n",
            "64/64 [==============================] - 1s 9ms/step - loss: 8.0337e-04 - val_loss: 9.6030e-04\n",
            "Epoch 60/100\n",
            "64/64 [==============================] - 1s 9ms/step - loss: 8.0813e-04 - val_loss: 8.5181e-04\n",
            "Epoch 61/100\n",
            "64/64 [==============================] - 1s 9ms/step - loss: 7.4717e-04 - val_loss: 8.2926e-04\n",
            "Epoch 62/100\n",
            "64/64 [==============================] - 1s 9ms/step - loss: 9.3641e-04 - val_loss: 9.7734e-04\n",
            "Epoch 63/100\n",
            "64/64 [==============================] - 1s 9ms/step - loss: 0.0011 - val_loss: 8.5261e-04\n",
            "Epoch 64/100\n",
            "64/64 [==============================] - 1s 10ms/step - loss: 6.7309e-04 - val_loss: 0.0011\n",
            "Epoch 65/100\n",
            "64/64 [==============================] - 1s 9ms/step - loss: 9.4926e-04 - val_loss: 7.5823e-04\n",
            "Epoch 66/100\n",
            "64/64 [==============================] - 1s 9ms/step - loss: 7.0903e-04 - val_loss: 7.3405e-04\n",
            "Epoch 67/100\n",
            "64/64 [==============================] - 1s 9ms/step - loss: 7.4793e-04 - val_loss: 7.7248e-04\n",
            "Epoch 68/100\n",
            "64/64 [==============================] - 1s 9ms/step - loss: 7.3327e-04 - val_loss: 0.0011\n",
            "Epoch 69/100\n",
            "64/64 [==============================] - 1s 9ms/step - loss: 9.1603e-04 - val_loss: 7.5104e-04\n",
            "Epoch 70/100\n",
            "64/64 [==============================] - 1s 9ms/step - loss: 7.6777e-04 - val_loss: 0.0011\n",
            "Epoch 71/100\n",
            "64/64 [==============================] - 1s 9ms/step - loss: 7.1365e-04 - val_loss: 7.3200e-04\n",
            "Epoch 72/100\n",
            "64/64 [==============================] - 1s 9ms/step - loss: 0.0011 - val_loss: 0.0011\n",
            "Epoch 73/100\n",
            "64/64 [==============================] - 1s 9ms/step - loss: 4.6521e-04 - val_loss: 6.0810e-04\n",
            "Epoch 74/100\n",
            "64/64 [==============================] - 1s 9ms/step - loss: 4.8115e-04 - val_loss: 5.7089e-04\n",
            "Epoch 75/100\n",
            "64/64 [==============================] - 1s 9ms/step - loss: 9.4997e-04 - val_loss: 8.1126e-04\n",
            "Epoch 76/100\n",
            "64/64 [==============================] - 1s 9ms/step - loss: 0.0014 - val_loss: 7.1159e-04\n",
            "Epoch 77/100\n",
            "64/64 [==============================] - 1s 9ms/step - loss: 4.9030e-04 - val_loss: 5.1606e-04\n",
            "Epoch 78/100\n",
            "64/64 [==============================] - 1s 9ms/step - loss: 5.2033e-04 - val_loss: 7.1094e-04\n",
            "Epoch 79/100\n",
            "64/64 [==============================] - 1s 9ms/step - loss: 5.5163e-04 - val_loss: 6.2529e-04\n",
            "Epoch 80/100\n",
            "64/64 [==============================] - 1s 9ms/step - loss: 5.0269e-04 - val_loss: 5.6596e-04\n",
            "Epoch 81/100\n",
            "64/64 [==============================] - 1s 9ms/step - loss: 3.8004e-04 - val_loss: 8.9858e-04\n",
            "Epoch 82/100\n",
            "64/64 [==============================] - 1s 9ms/step - loss: 5.1943e-04 - val_loss: 8.5798e-04\n",
            "Epoch 83/100\n",
            "64/64 [==============================] - 1s 9ms/step - loss: 6.0176e-04 - val_loss: 4.2961e-04\n",
            "Epoch 84/100\n",
            "64/64 [==============================] - 1s 9ms/step - loss: 5.4692e-04 - val_loss: 5.0675e-04\n",
            "Epoch 85/100\n",
            "64/64 [==============================] - 1s 9ms/step - loss: 4.8380e-04 - val_loss: 5.4756e-04\n",
            "Epoch 86/100\n",
            "64/64 [==============================] - 1s 9ms/step - loss: 3.7477e-04 - val_loss: 4.1835e-04\n",
            "Epoch 87/100\n",
            "64/64 [==============================] - 1s 9ms/step - loss: 5.1756e-04 - val_loss: 5.7990e-04\n",
            "Epoch 88/100\n",
            "64/64 [==============================] - 1s 9ms/step - loss: 3.8986e-04 - val_loss: 3.6852e-04\n",
            "Epoch 89/100\n",
            "64/64 [==============================] - 1s 10ms/step - loss: 4.3209e-04 - val_loss: 7.1943e-04\n",
            "Epoch 90/100\n",
            "64/64 [==============================] - 1s 9ms/step - loss: 3.8203e-04 - val_loss: 4.0172e-04\n",
            "Epoch 91/100\n",
            "64/64 [==============================] - 1s 9ms/step - loss: 3.6228e-04 - val_loss: 3.2055e-04\n",
            "Epoch 92/100\n",
            "64/64 [==============================] - 1s 9ms/step - loss: 3.6128e-04 - val_loss: 6.5318e-04\n",
            "Epoch 93/100\n",
            "64/64 [==============================] - 1s 10ms/step - loss: 4.8916e-04 - val_loss: 4.9824e-04\n",
            "Epoch 94/100\n",
            "64/64 [==============================] - 1s 9ms/step - loss: 0.0011 - val_loss: 7.5956e-04\n",
            "Epoch 95/100\n",
            "64/64 [==============================] - 1s 9ms/step - loss: 3.9636e-04 - val_loss: 0.0019\n",
            "Epoch 96/100\n",
            "64/64 [==============================] - 1s 9ms/step - loss: 4.3117e-04 - val_loss: 3.2532e-04\n",
            "Epoch 97/100\n",
            "64/64 [==============================] - 1s 9ms/step - loss: 4.5730e-04 - val_loss: 5.1578e-04\n",
            "Epoch 98/100\n",
            "64/64 [==============================] - 1s 9ms/step - loss: 6.9796e-04 - val_loss: 9.3736e-04\n",
            "Epoch 99/100\n",
            "64/64 [==============================] - 1s 9ms/step - loss: 5.4409e-04 - val_loss: 0.0011\n",
            "Epoch 100/100\n",
            "64/64 [==============================] - 1s 9ms/step - loss: 4.4824e-04 - val_loss: 3.7632e-04\n"
          ],
          "name": "stdout"
        }
      ]
    },
    {
      "cell_type": "code",
      "metadata": {
        "id": "FFYCkRs7Hzar",
        "outputId": "9b477a50-f7b5-424f-e62e-429248a8cde4",
        "colab": {
          "base_uri": "https://localhost:8080/",
          "height": 265
        }
      },
      "source": [
        "# 시각화\n",
        "plt.plot(history.history['loss'], 'b-', label ='loss')\n",
        "plt.plot(history.history['val_loss'], 'r--', label='val_loss')\n",
        "plt.legend()\n",
        "plt.show()"
      ],
      "execution_count": null,
      "outputs": [
        {
          "output_type": "display_data",
          "data": {
            "image/png": "[encoded data removed]",
            "text/plain": [
              "<Figure size 432x288 with 1 Axes>"
            ]
          },
          "metadata": {
            "tags": [],
            "needs_background": "light"
          }
        }
      ]
    },
    {
      "cell_type": "code",
      "metadata": {
        "id": "uaEC5b6hJWSs",
        "outputId": "299b49cf-951e-4264-f0c4-62cffe5d4509",
        "colab": {
          "base_uri": "https://localhost:8080/"
        }
      },
      "source": [
        "# 테스트 데이터로 확인하기\n",
        "model.evaluate(X[2560:], Y[2560:])\n",
        "# 5개 테스트 데이터에 대한 예측  표시\n",
        "pred = model.predict(X[2560:2560+5])\n",
        "for i in range(5):\n",
        "  print(Y[2560+i],'\\t', pred[i][0], '\\tdiff:', abs(pred[i][0]-Y[2560+i]))\n",
        "\n",
        "# 전체 테스트 데이터에 대한 정확도 확인 (오차가 0.04 이상인 경우 오답으로 처리)\n",
        "prediction = model.predict(X[2560:])\n",
        "# 오차가 0.04인경우 cnt할 변수 fail 선언\n",
        "fail = 0\n",
        "for i in range(len(prediction)):\n",
        "  if abs(prediction[i][0]-Y[2560+i])  > 0.04:\n",
        "    fail +=1\n",
        "print('correctness: ', (440-fail)/440*100, '%')"
      ],
      "execution_count": null,
      "outputs": [
        {
          "output_type": "stream",
          "text": [
            "14/14 [==============================] - 0s 5ms/step - loss: 5.1296e-04\n",
            "0.12233698531608188 \t 0.13194156 \tdiff: 0.009604571614460114\n",
            "0.3885990175021843 \t 0.41105053 \tdiff: 0.022451510785703288\n",
            "0.1365916113151087 \t 0.15852457 \tdiff: 0.02193296153416499\n",
            "0.02086098511972038 \t 0.021639489 \tdiff: 0.0007785035177269757\n",
            "0.8187965430904066 \t 0.791201 \tdiff: 0.02759554764515515\n",
            "correctness:  96.36363636363636 %\n"
          ],
          "name": "stdout"
        }
      ]
    },
    {
      "cell_type": "markdown",
      "metadata": {
        "id": "i_eOmBgRKV6y"
      },
      "source": [
        "### 정리(엑셀 파일을 확인할것)\n",
        "- SimpleRNN 을 이용시 정확도가 매우 떨어졌던 문제를 LSTM을 사용하면 매우 높은 수준의 정확도로 풀수 있었다\n",
        "- LSTM 파라미터 : \n",
        "  1. Activation = 'relu' : 디폴트인 tanh 에 비해 속도는 다소 느리나, 99% 이상의 정확도를 얻은 경우는 모두 relu를 사용한 경우였다.\n",
        "  2. units = 30 : 기본적으로 뉴런의 개수가 많아지면 똑똑해진다.\n",
        "  그러나 뉴런의 개수가 많아지면, 동시에 학습 횟수 epochs도 늘려줘야 효과적이다.\n",
        "  아니면 오히려 성능이 떨어진다.\n",
        "  또한 너무 많은 뉴런의 개수는 과적합 우려되기도 하지만 실험적으로 확인하진 못했다.\n",
        "    \n",
        "  3. optimizer = 'adam' : 'rmsprop'에 비해 안정적으로 val_loss 가 떨어진다.\n",
        "  4. earlystopping = 적절한 값을 찾아야 한다. 너무 적게 주면 성능은 떨어진다.\n",
        "  \n",
        "  \n",
        "  comment : 모델은 같은 조건이더라도 돌릴때마다 결과가 약간씩 다르다. 3번씩은 돌려서 재현성을 확인해야 하겠다. 중요한 모델이나 시간이 걸리는 학습은 pickle을 이용해 객체를 저장해 두어야 겠다."
      ]
    }
  ]
}
